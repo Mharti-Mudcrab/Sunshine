{
  "cells": [
    {
      "cell_type": "markdown",
      "metadata": {
        "colab_type": "text",
        "id": "view-in-github"
      },
      "source": [
        "<a href=\"https://colab.research.google.com/github/MatRitchie/Sunshine/blob/main/Sunshine_mat.ipynb\" target=\"_parent\"><img src=\"https://colab.research.google.com/assets/colab-badge.svg\" alt=\"Open In Colab\"/></a>"
      ]
    },
    {
      "cell_type": "markdown",
      "metadata": {
        "id": "XZCSHuEUTJ0g"
      },
      "source": []
    },
    {
      "cell_type": "markdown",
      "metadata": {
        "id": "JjtnPVOqu9vb"
      },
      "source": [
        "#Import libraries"
      ]
    },
    {
      "cell_type": "code",
      "execution_count": 2,
      "metadata": {
        "id": "6nHWgvCgKqL1"
      },
      "outputs": [],
      "source": [
        "import os\n",
        "import pandas as pd\n",
        "import numpy as np\n",
        "import plotly.express as px\n",
        "import matplotlib.pyplot as plt\n",
        "import seaborn as sns\n",
        "\n",
        "from sklearn.preprocessing import StandardScaler\n",
        "from sklearn.cluster import DBSCAN, KMeans\n",
        "from sklearn.neighbors import NearestNeighbors, LocalOutlierFactor\n",
        "from sklearn.ensemble import RandomForestClassifier, IsolationForest\n",
        "from sklearn.model_selection import train_test_split\n",
        "from sklearn.metrics import silhouette_score, davies_bouldin_score, calinski_harabasz_score, homogeneity_completeness_v_measure, accuracy_score\n",
        "from sklearn.decomposition import PCA\n",
        "from sklearn.manifold import TSNE\n",
        "\n",
        "from google.colab import userdata, files\n",
        "from umap import UMAP\n",
        "from itertools import combinations\n",
        "from tqdm import tqdm\n",
        "import time"
      ]
    },
    {
      "cell_type": "markdown",
      "metadata": {
        "id": "SeRx7gBKTPqA"
      },
      "source": [
        "# Setup Github access"
      ]
    },
    {
      "cell_type": "code",
      "execution_count": 4,
      "metadata": {
        "colab": {
          "base_uri": "https://localhost:8080/"
        },
        "id": "rfkLWHg_PTiC",
        "outputId": "7e37b8ec-34b2-4af6-cb27-02598cb00021"
      },
      "outputs": [
        {
          "name": "stdout",
          "output_type": "stream",
          "text": [
            "/content\n",
            "Cloning into 'Sunshine'...\n",
            "remote: Enumerating objects: 242, done.\u001b[K\n",
            "remote: Counting objects: 100% (154/154), done.\u001b[K\n",
            "remote: Compressing objects: 100% (107/107), done.\u001b[K\n",
            "remote: Total 242 (delta 108), reused 59 (delta 47), pack-reused 88 (from 1)\u001b[K\n",
            "Receiving objects: 100% (242/242), 5.08 MiB | 11.75 MiB/s, done.\n",
            "Resolving deltas: 100% (141/141), done.\n",
            "/content/Sunshine\n",
            "From https://github.com/MatRitchie/Sunshine\n",
            " * branch            main       -> FETCH_HEAD\n",
            "Already up to date.\n"
          ]
        }
      ],
      "source": [
        "os.environ['GITHUB_TOKEN'] = userdata.get('GITHUB_TOKEN')\n",
        "\n",
        "%cd /content\n",
        "!git clone https://$GITHUB_TOKEN@github.com/MatRitchie/Sunshine.git\n",
        "\n",
        "%cd /content/Sunshine\n",
        "!git pull https://$GITHUB_TOKEN@github.com/MatRitchie/Sunshine.git main"
      ]
    },
    {
      "cell_type": "markdown",
      "metadata": {
        "id": "XXJvKh26TbYy"
      },
      "source": [
        "# Data"
      ]
    },
    {
      "cell_type": "code",
      "execution_count": null,
      "metadata": {
        "colab": {
          "base_uri": "https://localhost:8080/",
          "height": 339
        },
        "id": "XS9qquvxSPm8",
        "outputId": "d2a68e74-e9a5-4a49-d7f0-5c2c2ec34ff3"
      },
      "outputs": [
        {
          "data": {
            "application/vnd.google.colaboratory.intrinsic+json": {
              "type": "dataframe",
              "variable_name": "retired_graduated_bypassed"
            },
            "text/html": [
              "\n",
              "  <div id=\"df-046c153f-f70e-4563-bdcc-3507642b6014\" class=\"colab-df-container\">\n",
              "    <div>\n",
              "<style scoped>\n",
              "    .dataframe tbody tr th:only-of-type {\n",
              "        vertical-align: middle;\n",
              "    }\n",
              "\n",
              "    .dataframe tbody tr th {\n",
              "        vertical-align: top;\n",
              "    }\n",
              "\n",
              "    .dataframe thead th {\n",
              "        text-align: right;\n",
              "    }\n",
              "</style>\n",
              "<table border=\"1\" class=\"dataframe\">\n",
              "  <thead>\n",
              "    <tr style=\"text-align: right;\">\n",
              "      <th></th>\n",
              "      <th>project</th>\n",
              "      <th>COM-1</th>\n",
              "      <th>COM-2</th>\n",
              "      <th>POP-1</th>\n",
              "      <th>STA-1</th>\n",
              "      <th>STA-2</th>\n",
              "      <th>STA-3</th>\n",
              "      <th>STA-4</th>\n",
              "      <th>STA-5</th>\n",
              "      <th>STA-6</th>\n",
              "      <th>...</th>\n",
              "      <th>SWQ-2.2</th>\n",
              "      <th>SWQ-2.3</th>\n",
              "      <th>SWQ-2.4</th>\n",
              "      <th>SWQ-2.5</th>\n",
              "      <th>SWQ-2.6</th>\n",
              "      <th>SWQ-2.7</th>\n",
              "      <th>init</th>\n",
              "      <th>end</th>\n",
              "      <th>project_url</th>\n",
              "      <th>status</th>\n",
              "    </tr>\n",
              "  </thead>\n",
              "  <tbody>\n",
              "    <tr>\n",
              "      <th>189</th>\n",
              "      <td>abdera</td>\n",
              "      <td>2.938138e+06</td>\n",
              "      <td>608</td>\n",
              "      <td>61</td>\n",
              "      <td>16</td>\n",
              "      <td>286</td>\n",
              "      <td>25</td>\n",
              "      <td>0</td>\n",
              "      <td>2</td>\n",
              "      <td>1</td>\n",
              "      <td>...</td>\n",
              "      <td>40</td>\n",
              "      <td>1</td>\n",
              "      <td>0</td>\n",
              "      <td>2</td>\n",
              "      <td>9.878605</td>\n",
              "      <td>274</td>\n",
              "      <td>2006-06-06</td>\n",
              "      <td>2008-11-08</td>\n",
              "      <td>https://github.com/apache/abdera</td>\n",
              "      <td>graduated</td>\n",
              "    </tr>\n",
              "    <tr>\n",
              "      <th>190</th>\n",
              "      <td>airavata</td>\n",
              "      <td>6.952637e+06</td>\n",
              "      <td>1571</td>\n",
              "      <td>324</td>\n",
              "      <td>11</td>\n",
              "      <td>-266</td>\n",
              "      <td>114</td>\n",
              "      <td>0</td>\n",
              "      <td>5</td>\n",
              "      <td>0</td>\n",
              "      <td>...</td>\n",
              "      <td>0</td>\n",
              "      <td>50</td>\n",
              "      <td>95</td>\n",
              "      <td>340</td>\n",
              "      <td>49.897383</td>\n",
              "      <td>323</td>\n",
              "      <td>2011-05-05</td>\n",
              "      <td>2012-09-19</td>\n",
              "      <td>https://github.com/apache/airavata</td>\n",
              "      <td>graduated</td>\n",
              "    </tr>\n",
              "    <tr>\n",
              "      <th>191</th>\n",
              "      <td>age</td>\n",
              "      <td>3.819620e+06</td>\n",
              "      <td>590</td>\n",
              "      <td>6087</td>\n",
              "      <td>5</td>\n",
              "      <td>5</td>\n",
              "      <td>401</td>\n",
              "      <td>14</td>\n",
              "      <td>5</td>\n",
              "      <td>0</td>\n",
              "      <td>...</td>\n",
              "      <td>35</td>\n",
              "      <td>2</td>\n",
              "      <td>11</td>\n",
              "      <td>20</td>\n",
              "      <td>15.380107</td>\n",
              "      <td>279</td>\n",
              "      <td>2020-04-29</td>\n",
              "      <td>2022-05-18</td>\n",
              "      <td>https://github.com/apache/age</td>\n",
              "      <td>graduated</td>\n",
              "    </tr>\n",
              "    <tr>\n",
              "      <th>192</th>\n",
              "      <td>apisix</td>\n",
              "      <td>9.013296e+05</td>\n",
              "      <td>2035</td>\n",
              "      <td>30442</td>\n",
              "      <td>6</td>\n",
              "      <td>-15</td>\n",
              "      <td>2452</td>\n",
              "      <td>29</td>\n",
              "      <td>5</td>\n",
              "      <td>0</td>\n",
              "      <td>...</td>\n",
              "      <td>41</td>\n",
              "      <td>1</td>\n",
              "      <td>0</td>\n",
              "      <td>12</td>\n",
              "      <td>26.869675</td>\n",
              "      <td>415</td>\n",
              "      <td>2019-10-17</td>\n",
              "      <td>2020-07-15</td>\n",
              "      <td>https://github.com/apache/apisix</td>\n",
              "      <td>graduated</td>\n",
              "    </tr>\n",
              "    <tr>\n",
              "      <th>193</th>\n",
              "      <td>accumulo</td>\n",
              "      <td>1.375896e+07</td>\n",
              "      <td>1190</td>\n",
              "      <td>2552</td>\n",
              "      <td>14</td>\n",
              "      <td>-40</td>\n",
              "      <td>444</td>\n",
              "      <td>0</td>\n",
              "      <td>3</td>\n",
              "      <td>0</td>\n",
              "      <td>...</td>\n",
              "      <td>0</td>\n",
              "      <td>10</td>\n",
              "      <td>23</td>\n",
              "      <td>61</td>\n",
              "      <td>19.842345</td>\n",
              "      <td>469</td>\n",
              "      <td>2011-09-12</td>\n",
              "      <td>2012-03-21</td>\n",
              "      <td>https://github.com/apache/accumulo</td>\n",
              "      <td>graduated</td>\n",
              "    </tr>\n",
              "  </tbody>\n",
              "</table>\n",
              "<p>5 rows × 29 columns</p>\n",
              "</div>\n",
              "    <div class=\"colab-df-buttons\">\n",
              "\n",
              "  <div class=\"colab-df-container\">\n",
              "    <button class=\"colab-df-convert\" onclick=\"convertToInteractive('df-046c153f-f70e-4563-bdcc-3507642b6014')\"\n",
              "            title=\"Convert this dataframe to an interactive table.\"\n",
              "            style=\"display:none;\">\n",
              "\n",
              "  <svg xmlns=\"http://www.w3.org/2000/svg\" height=\"24px\" viewBox=\"0 -960 960 960\">\n",
              "    <path d=\"M120-120v-720h720v720H120Zm60-500h600v-160H180v160Zm220 220h160v-160H400v160Zm0 220h160v-160H400v160ZM180-400h160v-160H180v160Zm440 0h160v-160H620v160ZM180-180h160v-160H180v160Zm440 0h160v-160H620v160Z\"/>\n",
              "  </svg>\n",
              "    </button>\n",
              "\n",
              "  <style>\n",
              "    .colab-df-container {\n",
              "      display:flex;\n",
              "      gap: 12px;\n",
              "    }\n",
              "\n",
              "    .colab-df-convert {\n",
              "      background-color: #E8F0FE;\n",
              "      border: none;\n",
              "      border-radius: 50%;\n",
              "      cursor: pointer;\n",
              "      display: none;\n",
              "      fill: #1967D2;\n",
              "      height: 32px;\n",
              "      padding: 0 0 0 0;\n",
              "      width: 32px;\n",
              "    }\n",
              "\n",
              "    .colab-df-convert:hover {\n",
              "      background-color: #E2EBFA;\n",
              "      box-shadow: 0px 1px 2px rgba(60, 64, 67, 0.3), 0px 1px 3px 1px rgba(60, 64, 67, 0.15);\n",
              "      fill: #174EA6;\n",
              "    }\n",
              "\n",
              "    .colab-df-buttons div {\n",
              "      margin-bottom: 4px;\n",
              "    }\n",
              "\n",
              "    [theme=dark] .colab-df-convert {\n",
              "      background-color: #3B4455;\n",
              "      fill: #D2E3FC;\n",
              "    }\n",
              "\n",
              "    [theme=dark] .colab-df-convert:hover {\n",
              "      background-color: #434B5C;\n",
              "      box-shadow: 0px 1px 3px 1px rgba(0, 0, 0, 0.15);\n",
              "      filter: drop-shadow(0px 1px 2px rgba(0, 0, 0, 0.3));\n",
              "      fill: #FFFFFF;\n",
              "    }\n",
              "  </style>\n",
              "\n",
              "    <script>\n",
              "      const buttonEl =\n",
              "        document.querySelector('#df-046c153f-f70e-4563-bdcc-3507642b6014 button.colab-df-convert');\n",
              "      buttonEl.style.display =\n",
              "        google.colab.kernel.accessAllowed ? 'block' : 'none';\n",
              "\n",
              "      async function convertToInteractive(key) {\n",
              "        const element = document.querySelector('#df-046c153f-f70e-4563-bdcc-3507642b6014');\n",
              "        const dataTable =\n",
              "          await google.colab.kernel.invokeFunction('convertToInteractive',\n",
              "                                                    [key], {});\n",
              "        if (!dataTable) return;\n",
              "\n",
              "        const docLinkHtml = 'Like what you see? Visit the ' +\n",
              "          '<a target=\"_blank\" href=https://colab.research.google.com/notebooks/data_table.ipynb>data table notebook</a>'\n",
              "          + ' to learn more about interactive tables.';\n",
              "        element.innerHTML = '';\n",
              "        dataTable['output_type'] = 'display_data';\n",
              "        await google.colab.output.renderOutput(dataTable, element);\n",
              "        const docLink = document.createElement('div');\n",
              "        docLink.innerHTML = docLinkHtml;\n",
              "        element.appendChild(docLink);\n",
              "      }\n",
              "    </script>\n",
              "  </div>\n",
              "\n",
              "\n",
              "<div id=\"df-e337aad8-5f77-4e39-b51b-935fe3375ab1\">\n",
              "  <button class=\"colab-df-quickchart\" onclick=\"quickchart('df-e337aad8-5f77-4e39-b51b-935fe3375ab1')\"\n",
              "            title=\"Suggest charts\"\n",
              "            style=\"display:none;\">\n",
              "\n",
              "<svg xmlns=\"http://www.w3.org/2000/svg\" height=\"24px\"viewBox=\"0 0 24 24\"\n",
              "     width=\"24px\">\n",
              "    <g>\n",
              "        <path d=\"M19 3H5c-1.1 0-2 .9-2 2v14c0 1.1.9 2 2 2h14c1.1 0 2-.9 2-2V5c0-1.1-.9-2-2-2zM9 17H7v-7h2v7zm4 0h-2V7h2v10zm4 0h-2v-4h2v4z\"/>\n",
              "    </g>\n",
              "</svg>\n",
              "  </button>\n",
              "\n",
              "<style>\n",
              "  .colab-df-quickchart {\n",
              "      --bg-color: #E8F0FE;\n",
              "      --fill-color: #1967D2;\n",
              "      --hover-bg-color: #E2EBFA;\n",
              "      --hover-fill-color: #174EA6;\n",
              "      --disabled-fill-color: #AAA;\n",
              "      --disabled-bg-color: #DDD;\n",
              "  }\n",
              "\n",
              "  [theme=dark] .colab-df-quickchart {\n",
              "      --bg-color: #3B4455;\n",
              "      --fill-color: #D2E3FC;\n",
              "      --hover-bg-color: #434B5C;\n",
              "      --hover-fill-color: #FFFFFF;\n",
              "      --disabled-bg-color: #3B4455;\n",
              "      --disabled-fill-color: #666;\n",
              "  }\n",
              "\n",
              "  .colab-df-quickchart {\n",
              "    background-color: var(--bg-color);\n",
              "    border: none;\n",
              "    border-radius: 50%;\n",
              "    cursor: pointer;\n",
              "    display: none;\n",
              "    fill: var(--fill-color);\n",
              "    height: 32px;\n",
              "    padding: 0;\n",
              "    width: 32px;\n",
              "  }\n",
              "\n",
              "  .colab-df-quickchart:hover {\n",
              "    background-color: var(--hover-bg-color);\n",
              "    box-shadow: 0 1px 2px rgba(60, 64, 67, 0.3), 0 1px 3px 1px rgba(60, 64, 67, 0.15);\n",
              "    fill: var(--button-hover-fill-color);\n",
              "  }\n",
              "\n",
              "  .colab-df-quickchart-complete:disabled,\n",
              "  .colab-df-quickchart-complete:disabled:hover {\n",
              "    background-color: var(--disabled-bg-color);\n",
              "    fill: var(--disabled-fill-color);\n",
              "    box-shadow: none;\n",
              "  }\n",
              "\n",
              "  .colab-df-spinner {\n",
              "    border: 2px solid var(--fill-color);\n",
              "    border-color: transparent;\n",
              "    border-bottom-color: var(--fill-color);\n",
              "    animation:\n",
              "      spin 1s steps(1) infinite;\n",
              "  }\n",
              "\n",
              "  @keyframes spin {\n",
              "    0% {\n",
              "      border-color: transparent;\n",
              "      border-bottom-color: var(--fill-color);\n",
              "      border-left-color: var(--fill-color);\n",
              "    }\n",
              "    20% {\n",
              "      border-color: transparent;\n",
              "      border-left-color: var(--fill-color);\n",
              "      border-top-color: var(--fill-color);\n",
              "    }\n",
              "    30% {\n",
              "      border-color: transparent;\n",
              "      border-left-color: var(--fill-color);\n",
              "      border-top-color: var(--fill-color);\n",
              "      border-right-color: var(--fill-color);\n",
              "    }\n",
              "    40% {\n",
              "      border-color: transparent;\n",
              "      border-right-color: var(--fill-color);\n",
              "      border-top-color: var(--fill-color);\n",
              "    }\n",
              "    60% {\n",
              "      border-color: transparent;\n",
              "      border-right-color: var(--fill-color);\n",
              "    }\n",
              "    80% {\n",
              "      border-color: transparent;\n",
              "      border-right-color: var(--fill-color);\n",
              "      border-bottom-color: var(--fill-color);\n",
              "    }\n",
              "    90% {\n",
              "      border-color: transparent;\n",
              "      border-bottom-color: var(--fill-color);\n",
              "    }\n",
              "  }\n",
              "</style>\n",
              "\n",
              "  <script>\n",
              "    async function quickchart(key) {\n",
              "      const quickchartButtonEl =\n",
              "        document.querySelector('#' + key + ' button');\n",
              "      quickchartButtonEl.disabled = true;  // To prevent multiple clicks.\n",
              "      quickchartButtonEl.classList.add('colab-df-spinner');\n",
              "      try {\n",
              "        const charts = await google.colab.kernel.invokeFunction(\n",
              "            'suggestCharts', [key], {});\n",
              "      } catch (error) {\n",
              "        console.error('Error during call to suggestCharts:', error);\n",
              "      }\n",
              "      quickchartButtonEl.classList.remove('colab-df-spinner');\n",
              "      quickchartButtonEl.classList.add('colab-df-quickchart-complete');\n",
              "    }\n",
              "    (() => {\n",
              "      let quickchartButtonEl =\n",
              "        document.querySelector('#df-e337aad8-5f77-4e39-b51b-935fe3375ab1 button');\n",
              "      quickchartButtonEl.style.display =\n",
              "        google.colab.kernel.accessAllowed ? 'block' : 'none';\n",
              "    })();\n",
              "  </script>\n",
              "</div>\n",
              "\n",
              "    </div>\n",
              "  </div>\n"
            ],
            "text/plain": [
              "      project         COM-1  COM-2  POP-1  STA-1  STA-2  STA-3  STA-4  STA-5  \\\n",
              "189    abdera  2.938138e+06    608     61     16    286     25      0      2   \n",
              "190  airavata  6.952637e+06   1571    324     11   -266    114      0      5   \n",
              "191       age  3.819620e+06    590   6087      5      5    401     14      5   \n",
              "192    apisix  9.013296e+05   2035  30442      6    -15   2452     29      5   \n",
              "193  accumulo  1.375896e+07   1190   2552     14    -40    444      0      3   \n",
              "\n",
              "     STA-6  ...  SWQ-2.2  SWQ-2.3  SWQ-2.4  SWQ-2.5    SWQ-2.6  SWQ-2.7  \\\n",
              "189      1  ...       40        1        0        2   9.878605      274   \n",
              "190      0  ...        0       50       95      340  49.897383      323   \n",
              "191      0  ...       35        2       11       20  15.380107      279   \n",
              "192      0  ...       41        1        0       12  26.869675      415   \n",
              "193      0  ...        0       10       23       61  19.842345      469   \n",
              "\n",
              "           init         end                         project_url     status  \n",
              "189  2006-06-06  2008-11-08    https://github.com/apache/abdera  graduated  \n",
              "190  2011-05-05  2012-09-19  https://github.com/apache/airavata  graduated  \n",
              "191  2020-04-29  2022-05-18       https://github.com/apache/age  graduated  \n",
              "192  2019-10-17  2020-07-15    https://github.com/apache/apisix  graduated  \n",
              "193  2011-09-12  2012-03-21  https://github.com/apache/accumulo  graduated  \n",
              "\n",
              "[5 rows x 29 columns]"
            ]
          },
          "execution_count": 146,
          "metadata": {},
          "output_type": "execute_result"
        }
      ],
      "source": [
        "df_all = pd.read_csv(\"combined_project_status.csv\")\n",
        "retired_graduated_bypassed = df_all.loc[df_all['status'] != 'evolved']\n",
        "\n",
        "retired_graduated_bypassed.head()"
      ]
    },
    {
      "cell_type": "markdown",
      "metadata": {
        "id": "RJJjJalRIB7C"
      },
      "source": [
        "##Normalizing the data"
      ]
    },
    {
      "cell_type": "code",
      "execution_count": 147,
      "metadata": {
        "colab": {
          "base_uri": "https://localhost:8080/",
          "height": 255
        },
        "id": "sWJQ0gB5F-u2",
        "outputId": "8e127861-3320-4a97-ef88-9528b836534d"
      },
      "outputs": [
        {
          "data": {
            "application/vnd.google.colaboratory.intrinsic+json": {
              "type": "dataframe",
              "variable_name": "df_norm"
            },
            "text/html": [
              "\n",
              "  <div id=\"df-1e7180a7-7c77-493f-83bc-e1f6639c0e92\" class=\"colab-df-container\">\n",
              "    <div>\n",
              "<style scoped>\n",
              "    .dataframe tbody tr th:only-of-type {\n",
              "        vertical-align: middle;\n",
              "    }\n",
              "\n",
              "    .dataframe tbody tr th {\n",
              "        vertical-align: top;\n",
              "    }\n",
              "\n",
              "    .dataframe thead th {\n",
              "        text-align: right;\n",
              "    }\n",
              "</style>\n",
              "<table border=\"1\" class=\"dataframe\">\n",
              "  <thead>\n",
              "    <tr style=\"text-align: right;\">\n",
              "      <th></th>\n",
              "      <th>COM-1</th>\n",
              "      <th>COM-2</th>\n",
              "      <th>POP-1</th>\n",
              "      <th>STA-1</th>\n",
              "      <th>STA-2</th>\n",
              "      <th>STA-3</th>\n",
              "      <th>STA-4</th>\n",
              "      <th>STA-5</th>\n",
              "      <th>STA-6</th>\n",
              "      <th>STA-7</th>\n",
              "      <th>...</th>\n",
              "      <th>TEC-3</th>\n",
              "      <th>TEC-4</th>\n",
              "      <th>SWQ-1</th>\n",
              "      <th>SWQ-2.1</th>\n",
              "      <th>SWQ-2.2</th>\n",
              "      <th>SWQ-2.3</th>\n",
              "      <th>SWQ-2.4</th>\n",
              "      <th>SWQ-2.5</th>\n",
              "      <th>SWQ-2.6</th>\n",
              "      <th>SWQ-2.7</th>\n",
              "    </tr>\n",
              "  </thead>\n",
              "  <tbody>\n",
              "    <tr>\n",
              "      <th>0</th>\n",
              "      <td>-0.540349</td>\n",
              "      <td>-0.231303</td>\n",
              "      <td>-0.359820</td>\n",
              "      <td>1.503835</td>\n",
              "      <td>0.928642</td>\n",
              "      <td>-0.345772</td>\n",
              "      <td>-0.172784</td>\n",
              "      <td>-0.404366</td>\n",
              "      <td>1.928292</td>\n",
              "      <td>-0.145164</td>\n",
              "      <td>...</td>\n",
              "      <td>-0.339871</td>\n",
              "      <td>-0.479124</td>\n",
              "      <td>-0.113137</td>\n",
              "      <td>-0.030542</td>\n",
              "      <td>1.471080</td>\n",
              "      <td>-0.431677</td>\n",
              "      <td>-0.360397</td>\n",
              "      <td>-0.331481</td>\n",
              "      <td>-0.512649</td>\n",
              "      <td>-0.183522</td>\n",
              "    </tr>\n",
              "    <tr>\n",
              "      <th>1</th>\n",
              "      <td>0.109160</td>\n",
              "      <td>-0.173075</td>\n",
              "      <td>-0.343099</td>\n",
              "      <td>-0.041517</td>\n",
              "      <td>-0.847206</td>\n",
              "      <td>-0.310831</td>\n",
              "      <td>-0.172784</td>\n",
              "      <td>0.400363</td>\n",
              "      <td>-0.518594</td>\n",
              "      <td>0.031458</td>\n",
              "      <td>...</td>\n",
              "      <td>-0.228712</td>\n",
              "      <td>0.302507</td>\n",
              "      <td>-0.144048</td>\n",
              "      <td>-0.611798</td>\n",
              "      <td>-1.057132</td>\n",
              "      <td>4.116447</td>\n",
              "      <td>1.613045</td>\n",
              "      <td>1.891280</td>\n",
              "      <td>2.833377</td>\n",
              "      <td>-0.089302</td>\n",
              "    </tr>\n",
              "    <tr>\n",
              "      <th>2</th>\n",
              "      <td>-0.397733</td>\n",
              "      <td>-0.232392</td>\n",
              "      <td>0.023313</td>\n",
              "      <td>-1.895939</td>\n",
              "      <td>0.024633</td>\n",
              "      <td>-0.198159</td>\n",
              "      <td>-0.060375</td>\n",
              "      <td>0.400363</td>\n",
              "      <td>-0.518594</td>\n",
              "      <td>0.325828</td>\n",
              "      <td>...</td>\n",
              "      <td>-0.242814</td>\n",
              "      <td>-0.516210</td>\n",
              "      <td>-0.354121</td>\n",
              "      <td>-0.580818</td>\n",
              "      <td>1.155053</td>\n",
              "      <td>-0.338858</td>\n",
              "      <td>-0.131894</td>\n",
              "      <td>-0.213109</td>\n",
              "      <td>-0.052660</td>\n",
              "      <td>-0.173908</td>\n",
              "    </tr>\n",
              "    <tr>\n",
              "      <th>3</th>\n",
              "      <td>-0.869885</td>\n",
              "      <td>-0.145019</td>\n",
              "      <td>1.571802</td>\n",
              "      <td>-1.586868</td>\n",
              "      <td>-0.039710</td>\n",
              "      <td>0.607039</td>\n",
              "      <td>0.060063</td>\n",
              "      <td>0.400363</td>\n",
              "      <td>-0.518594</td>\n",
              "      <td>-0.439533</td>\n",
              "      <td>...</td>\n",
              "      <td>0.542350</td>\n",
              "      <td>-0.409421</td>\n",
              "      <td>-0.364389</td>\n",
              "      <td>-0.554562</td>\n",
              "      <td>1.534285</td>\n",
              "      <td>-0.431677</td>\n",
              "      <td>-0.360397</td>\n",
              "      <td>-0.265718</td>\n",
              "      <td>0.907999</td>\n",
              "      <td>0.087602</td>\n",
              "    </tr>\n",
              "    <tr>\n",
              "      <th>4</th>\n",
              "      <td>1.210360</td>\n",
              "      <td>-0.196113</td>\n",
              "      <td>-0.201443</td>\n",
              "      <td>0.885694</td>\n",
              "      <td>-0.120138</td>\n",
              "      <td>-0.181277</td>\n",
              "      <td>-0.172784</td>\n",
              "      <td>-0.136123</td>\n",
              "      <td>-0.518594</td>\n",
              "      <td>-0.086290</td>\n",
              "      <td>...</td>\n",
              "      <td>-0.205070</td>\n",
              "      <td>0.523801</td>\n",
              "      <td>-0.052504</td>\n",
              "      <td>-0.071848</td>\n",
              "      <td>-1.057132</td>\n",
              "      <td>0.403693</td>\n",
              "      <td>0.117383</td>\n",
              "      <td>0.056516</td>\n",
              "      <td>0.320434</td>\n",
              "      <td>0.191437</td>\n",
              "    </tr>\n",
              "  </tbody>\n",
              "</table>\n",
              "<p>5 rows × 24 columns</p>\n",
              "</div>\n",
              "    <div class=\"colab-df-buttons\">\n",
              "\n",
              "  <div class=\"colab-df-container\">\n",
              "    <button class=\"colab-df-convert\" onclick=\"convertToInteractive('df-1e7180a7-7c77-493f-83bc-e1f6639c0e92')\"\n",
              "            title=\"Convert this dataframe to an interactive table.\"\n",
              "            style=\"display:none;\">\n",
              "\n",
              "  <svg xmlns=\"http://www.w3.org/2000/svg\" height=\"24px\" viewBox=\"0 -960 960 960\">\n",
              "    <path d=\"M120-120v-720h720v720H120Zm60-500h600v-160H180v160Zm220 220h160v-160H400v160Zm0 220h160v-160H400v160ZM180-400h160v-160H180v160Zm440 0h160v-160H620v160ZM180-180h160v-160H180v160Zm440 0h160v-160H620v160Z\"/>\n",
              "  </svg>\n",
              "    </button>\n",
              "\n",
              "  <style>\n",
              "    .colab-df-container {\n",
              "      display:flex;\n",
              "      gap: 12px;\n",
              "    }\n",
              "\n",
              "    .colab-df-convert {\n",
              "      background-color: #E8F0FE;\n",
              "      border: none;\n",
              "      border-radius: 50%;\n",
              "      cursor: pointer;\n",
              "      display: none;\n",
              "      fill: #1967D2;\n",
              "      height: 32px;\n",
              "      padding: 0 0 0 0;\n",
              "      width: 32px;\n",
              "    }\n",
              "\n",
              "    .colab-df-convert:hover {\n",
              "      background-color: #E2EBFA;\n",
              "      box-shadow: 0px 1px 2px rgba(60, 64, 67, 0.3), 0px 1px 3px 1px rgba(60, 64, 67, 0.15);\n",
              "      fill: #174EA6;\n",
              "    }\n",
              "\n",
              "    .colab-df-buttons div {\n",
              "      margin-bottom: 4px;\n",
              "    }\n",
              "\n",
              "    [theme=dark] .colab-df-convert {\n",
              "      background-color: #3B4455;\n",
              "      fill: #D2E3FC;\n",
              "    }\n",
              "\n",
              "    [theme=dark] .colab-df-convert:hover {\n",
              "      background-color: #434B5C;\n",
              "      box-shadow: 0px 1px 3px 1px rgba(0, 0, 0, 0.15);\n",
              "      filter: drop-shadow(0px 1px 2px rgba(0, 0, 0, 0.3));\n",
              "      fill: #FFFFFF;\n",
              "    }\n",
              "  </style>\n",
              "\n",
              "    <script>\n",
              "      const buttonEl =\n",
              "        document.querySelector('#df-1e7180a7-7c77-493f-83bc-e1f6639c0e92 button.colab-df-convert');\n",
              "      buttonEl.style.display =\n",
              "        google.colab.kernel.accessAllowed ? 'block' : 'none';\n",
              "\n",
              "      async function convertToInteractive(key) {\n",
              "        const element = document.querySelector('#df-1e7180a7-7c77-493f-83bc-e1f6639c0e92');\n",
              "        const dataTable =\n",
              "          await google.colab.kernel.invokeFunction('convertToInteractive',\n",
              "                                                    [key], {});\n",
              "        if (!dataTable) return;\n",
              "\n",
              "        const docLinkHtml = 'Like what you see? Visit the ' +\n",
              "          '<a target=\"_blank\" href=https://colab.research.google.com/notebooks/data_table.ipynb>data table notebook</a>'\n",
              "          + ' to learn more about interactive tables.';\n",
              "        element.innerHTML = '';\n",
              "        dataTable['output_type'] = 'display_data';\n",
              "        await google.colab.output.renderOutput(dataTable, element);\n",
              "        const docLink = document.createElement('div');\n",
              "        docLink.innerHTML = docLinkHtml;\n",
              "        element.appendChild(docLink);\n",
              "      }\n",
              "    </script>\n",
              "  </div>\n",
              "\n",
              "\n",
              "<div id=\"df-c3302f52-5f48-4e74-b74b-28ae6c125dee\">\n",
              "  <button class=\"colab-df-quickchart\" onclick=\"quickchart('df-c3302f52-5f48-4e74-b74b-28ae6c125dee')\"\n",
              "            title=\"Suggest charts\"\n",
              "            style=\"display:none;\">\n",
              "\n",
              "<svg xmlns=\"http://www.w3.org/2000/svg\" height=\"24px\"viewBox=\"0 0 24 24\"\n",
              "     width=\"24px\">\n",
              "    <g>\n",
              "        <path d=\"M19 3H5c-1.1 0-2 .9-2 2v14c0 1.1.9 2 2 2h14c1.1 0 2-.9 2-2V5c0-1.1-.9-2-2-2zM9 17H7v-7h2v7zm4 0h-2V7h2v10zm4 0h-2v-4h2v4z\"/>\n",
              "    </g>\n",
              "</svg>\n",
              "  </button>\n",
              "\n",
              "<style>\n",
              "  .colab-df-quickchart {\n",
              "      --bg-color: #E8F0FE;\n",
              "      --fill-color: #1967D2;\n",
              "      --hover-bg-color: #E2EBFA;\n",
              "      --hover-fill-color: #174EA6;\n",
              "      --disabled-fill-color: #AAA;\n",
              "      --disabled-bg-color: #DDD;\n",
              "  }\n",
              "\n",
              "  [theme=dark] .colab-df-quickchart {\n",
              "      --bg-color: #3B4455;\n",
              "      --fill-color: #D2E3FC;\n",
              "      --hover-bg-color: #434B5C;\n",
              "      --hover-fill-color: #FFFFFF;\n",
              "      --disabled-bg-color: #3B4455;\n",
              "      --disabled-fill-color: #666;\n",
              "  }\n",
              "\n",
              "  .colab-df-quickchart {\n",
              "    background-color: var(--bg-color);\n",
              "    border: none;\n",
              "    border-radius: 50%;\n",
              "    cursor: pointer;\n",
              "    display: none;\n",
              "    fill: var(--fill-color);\n",
              "    height: 32px;\n",
              "    padding: 0;\n",
              "    width: 32px;\n",
              "  }\n",
              "\n",
              "  .colab-df-quickchart:hover {\n",
              "    background-color: var(--hover-bg-color);\n",
              "    box-shadow: 0 1px 2px rgba(60, 64, 67, 0.3), 0 1px 3px 1px rgba(60, 64, 67, 0.15);\n",
              "    fill: var(--button-hover-fill-color);\n",
              "  }\n",
              "\n",
              "  .colab-df-quickchart-complete:disabled,\n",
              "  .colab-df-quickchart-complete:disabled:hover {\n",
              "    background-color: var(--disabled-bg-color);\n",
              "    fill: var(--disabled-fill-color);\n",
              "    box-shadow: none;\n",
              "  }\n",
              "\n",
              "  .colab-df-spinner {\n",
              "    border: 2px solid var(--fill-color);\n",
              "    border-color: transparent;\n",
              "    border-bottom-color: var(--fill-color);\n",
              "    animation:\n",
              "      spin 1s steps(1) infinite;\n",
              "  }\n",
              "\n",
              "  @keyframes spin {\n",
              "    0% {\n",
              "      border-color: transparent;\n",
              "      border-bottom-color: var(--fill-color);\n",
              "      border-left-color: var(--fill-color);\n",
              "    }\n",
              "    20% {\n",
              "      border-color: transparent;\n",
              "      border-left-color: var(--fill-color);\n",
              "      border-top-color: var(--fill-color);\n",
              "    }\n",
              "    30% {\n",
              "      border-color: transparent;\n",
              "      border-left-color: var(--fill-color);\n",
              "      border-top-color: var(--fill-color);\n",
              "      border-right-color: var(--fill-color);\n",
              "    }\n",
              "    40% {\n",
              "      border-color: transparent;\n",
              "      border-right-color: var(--fill-color);\n",
              "      border-top-color: var(--fill-color);\n",
              "    }\n",
              "    60% {\n",
              "      border-color: transparent;\n",
              "      border-right-color: var(--fill-color);\n",
              "    }\n",
              "    80% {\n",
              "      border-color: transparent;\n",
              "      border-right-color: var(--fill-color);\n",
              "      border-bottom-color: var(--fill-color);\n",
              "    }\n",
              "    90% {\n",
              "      border-color: transparent;\n",
              "      border-bottom-color: var(--fill-color);\n",
              "    }\n",
              "  }\n",
              "</style>\n",
              "\n",
              "  <script>\n",
              "    async function quickchart(key) {\n",
              "      const quickchartButtonEl =\n",
              "        document.querySelector('#' + key + ' button');\n",
              "      quickchartButtonEl.disabled = true;  // To prevent multiple clicks.\n",
              "      quickchartButtonEl.classList.add('colab-df-spinner');\n",
              "      try {\n",
              "        const charts = await google.colab.kernel.invokeFunction(\n",
              "            'suggestCharts', [key], {});\n",
              "      } catch (error) {\n",
              "        console.error('Error during call to suggestCharts:', error);\n",
              "      }\n",
              "      quickchartButtonEl.classList.remove('colab-df-spinner');\n",
              "      quickchartButtonEl.classList.add('colab-df-quickchart-complete');\n",
              "    }\n",
              "    (() => {\n",
              "      let quickchartButtonEl =\n",
              "        document.querySelector('#df-c3302f52-5f48-4e74-b74b-28ae6c125dee button');\n",
              "      quickchartButtonEl.style.display =\n",
              "        google.colab.kernel.accessAllowed ? 'block' : 'none';\n",
              "    })();\n",
              "  </script>\n",
              "</div>\n",
              "\n",
              "    </div>\n",
              "  </div>\n"
            ],
            "text/plain": [
              "      COM-1     COM-2     POP-1     STA-1     STA-2     STA-3     STA-4  \\\n",
              "0 -0.540349 -0.231303 -0.359820  1.503835  0.928642 -0.345772 -0.172784   \n",
              "1  0.109160 -0.173075 -0.343099 -0.041517 -0.847206 -0.310831 -0.172784   \n",
              "2 -0.397733 -0.232392  0.023313 -1.895939  0.024633 -0.198159 -0.060375   \n",
              "3 -0.869885 -0.145019  1.571802 -1.586868 -0.039710  0.607039  0.060063   \n",
              "4  1.210360 -0.196113 -0.201443  0.885694 -0.120138 -0.181277 -0.172784   \n",
              "\n",
              "      STA-5     STA-6     STA-7  ...     TEC-3     TEC-4     SWQ-1   SWQ-2.1  \\\n",
              "0 -0.404366  1.928292 -0.145164  ... -0.339871 -0.479124 -0.113137 -0.030542   \n",
              "1  0.400363 -0.518594  0.031458  ... -0.228712  0.302507 -0.144048 -0.611798   \n",
              "2  0.400363 -0.518594  0.325828  ... -0.242814 -0.516210 -0.354121 -0.580818   \n",
              "3  0.400363 -0.518594 -0.439533  ...  0.542350 -0.409421 -0.364389 -0.554562   \n",
              "4 -0.136123 -0.518594 -0.086290  ... -0.205070  0.523801 -0.052504 -0.071848   \n",
              "\n",
              "    SWQ-2.2   SWQ-2.3   SWQ-2.4   SWQ-2.5   SWQ-2.6   SWQ-2.7  \n",
              "0  1.471080 -0.431677 -0.360397 -0.331481 -0.512649 -0.183522  \n",
              "1 -1.057132  4.116447  1.613045  1.891280  2.833377 -0.089302  \n",
              "2  1.155053 -0.338858 -0.131894 -0.213109 -0.052660 -0.173908  \n",
              "3  1.534285 -0.431677 -0.360397 -0.265718  0.907999  0.087602  \n",
              "4 -1.057132  0.403693  0.117383  0.056516  0.320434  0.191437  \n",
              "\n",
              "[5 rows x 24 columns]"
            ]
          },
          "execution_count": 147,
          "metadata": {},
          "output_type": "execute_result"
        }
      ],
      "source": [
        "scaler = StandardScaler()\n",
        "df_numeric = retired_graduated_bypassed.select_dtypes(include=[np.number])\n",
        "df_norm = pd.DataFrame(scaler.fit_transform(df_numeric), columns=df_numeric.columns)\n",
        "df_norm.head()"
      ]
    },
    {
      "cell_type": "markdown",
      "metadata": {
        "id": "vg5wfQKMYD1C"
      },
      "source": [
        "##Feature selection"
      ]
    },
    {
      "cell_type": "code",
      "execution_count": 148,
      "metadata": {
        "colab": {
          "base_uri": "https://localhost:8080/",
          "height": 255
        },
        "id": "yG7Z_Qtm04lq",
        "outputId": "04dc8439-1c37-47b9-f4c7-34c0fb14cb96"
      },
      "outputs": [
        {
          "data": {
            "application/vnd.google.colaboratory.intrinsic+json": {
              "type": "dataframe",
              "variable_name": "X"
            },
            "text/html": [
              "\n",
              "  <div id=\"df-0dc290c8-ea0e-477b-ba15-4748b1cbbaef\" class=\"colab-df-container\">\n",
              "    <div>\n",
              "<style scoped>\n",
              "    .dataframe tbody tr th:only-of-type {\n",
              "        vertical-align: middle;\n",
              "    }\n",
              "\n",
              "    .dataframe tbody tr th {\n",
              "        vertical-align: top;\n",
              "    }\n",
              "\n",
              "    .dataframe thead th {\n",
              "        text-align: right;\n",
              "    }\n",
              "</style>\n",
              "<table border=\"1\" class=\"dataframe\">\n",
              "  <thead>\n",
              "    <tr style=\"text-align: right;\">\n",
              "      <th></th>\n",
              "      <th>SWQ-1</th>\n",
              "      <th>SWQ-2.1</th>\n",
              "      <th>SWQ-2.2</th>\n",
              "      <th>SWQ-2.3</th>\n",
              "      <th>SWQ-2.4</th>\n",
              "      <th>SWQ-2.5</th>\n",
              "      <th>SWQ-2.6</th>\n",
              "      <th>SWQ-2.7</th>\n",
              "      <th>STA-1</th>\n",
              "      <th>STA-2</th>\n",
              "      <th>...</th>\n",
              "      <th>STA-7</th>\n",
              "      <th>STA-8</th>\n",
              "      <th>STA-9</th>\n",
              "      <th>TEC-1</th>\n",
              "      <th>TEC-2</th>\n",
              "      <th>TEC-3</th>\n",
              "      <th>TEC-4</th>\n",
              "      <th>COM-1</th>\n",
              "      <th>COM-2</th>\n",
              "      <th>POP-1</th>\n",
              "    </tr>\n",
              "  </thead>\n",
              "  <tbody>\n",
              "    <tr>\n",
              "      <th>0</th>\n",
              "      <td>-0.113137</td>\n",
              "      <td>-0.030542</td>\n",
              "      <td>1.471080</td>\n",
              "      <td>-0.431677</td>\n",
              "      <td>-0.360397</td>\n",
              "      <td>-0.331481</td>\n",
              "      <td>-0.512649</td>\n",
              "      <td>-0.183522</td>\n",
              "      <td>1.503835</td>\n",
              "      <td>0.928642</td>\n",
              "      <td>...</td>\n",
              "      <td>-0.145164</td>\n",
              "      <td>-0.298612</td>\n",
              "      <td>-0.338437</td>\n",
              "      <td>-0.347140</td>\n",
              "      <td>-0.634930</td>\n",
              "      <td>-0.339871</td>\n",
              "      <td>-0.479124</td>\n",
              "      <td>-0.540349</td>\n",
              "      <td>-0.231303</td>\n",
              "      <td>-0.359820</td>\n",
              "    </tr>\n",
              "    <tr>\n",
              "      <th>1</th>\n",
              "      <td>-0.144048</td>\n",
              "      <td>-0.611798</td>\n",
              "      <td>-1.057132</td>\n",
              "      <td>4.116447</td>\n",
              "      <td>1.613045</td>\n",
              "      <td>1.891280</td>\n",
              "      <td>2.833377</td>\n",
              "      <td>-0.089302</td>\n",
              "      <td>-0.041517</td>\n",
              "      <td>-0.847206</td>\n",
              "      <td>...</td>\n",
              "      <td>0.031458</td>\n",
              "      <td>-0.328172</td>\n",
              "      <td>-0.354093</td>\n",
              "      <td>0.038330</td>\n",
              "      <td>0.132326</td>\n",
              "      <td>-0.228712</td>\n",
              "      <td>0.302507</td>\n",
              "      <td>0.109160</td>\n",
              "      <td>-0.173075</td>\n",
              "      <td>-0.343099</td>\n",
              "    </tr>\n",
              "    <tr>\n",
              "      <th>2</th>\n",
              "      <td>-0.354121</td>\n",
              "      <td>-0.580818</td>\n",
              "      <td>1.155053</td>\n",
              "      <td>-0.338858</td>\n",
              "      <td>-0.131894</td>\n",
              "      <td>-0.213109</td>\n",
              "      <td>-0.052660</td>\n",
              "      <td>-0.173908</td>\n",
              "      <td>-1.895939</td>\n",
              "      <td>0.024633</td>\n",
              "      <td>...</td>\n",
              "      <td>0.325828</td>\n",
              "      <td>-0.296641</td>\n",
              "      <td>-0.244498</td>\n",
              "      <td>-0.146779</td>\n",
              "      <td>1.457445</td>\n",
              "      <td>-0.242814</td>\n",
              "      <td>-0.516210</td>\n",
              "      <td>-0.397733</td>\n",
              "      <td>-0.232392</td>\n",
              "      <td>0.023313</td>\n",
              "    </tr>\n",
              "    <tr>\n",
              "      <th>3</th>\n",
              "      <td>-0.364389</td>\n",
              "      <td>-0.554562</td>\n",
              "      <td>1.534285</td>\n",
              "      <td>-0.431677</td>\n",
              "      <td>-0.360397</td>\n",
              "      <td>-0.265718</td>\n",
              "      <td>0.907999</td>\n",
              "      <td>0.087602</td>\n",
              "      <td>-1.586868</td>\n",
              "      <td>-0.039710</td>\n",
              "      <td>...</td>\n",
              "      <td>-0.439533</td>\n",
              "      <td>-0.131105</td>\n",
              "      <td>-0.127074</td>\n",
              "      <td>0.489315</td>\n",
              "      <td>0.925388</td>\n",
              "      <td>0.542350</td>\n",
              "      <td>-0.409421</td>\n",
              "      <td>-0.869885</td>\n",
              "      <td>-0.145019</td>\n",
              "      <td>1.571802</td>\n",
              "    </tr>\n",
              "    <tr>\n",
              "      <th>4</th>\n",
              "      <td>-0.052504</td>\n",
              "      <td>-0.071848</td>\n",
              "      <td>-1.057132</td>\n",
              "      <td>0.403693</td>\n",
              "      <td>0.117383</td>\n",
              "      <td>0.056516</td>\n",
              "      <td>0.320434</td>\n",
              "      <td>0.191437</td>\n",
              "      <td>0.885694</td>\n",
              "      <td>-0.120138</td>\n",
              "      <td>...</td>\n",
              "      <td>-0.086290</td>\n",
              "      <td>-0.286788</td>\n",
              "      <td>-0.377578</td>\n",
              "      <td>0.163469</td>\n",
              "      <td>-0.351218</td>\n",
              "      <td>-0.205070</td>\n",
              "      <td>0.523801</td>\n",
              "      <td>1.210360</td>\n",
              "      <td>-0.196113</td>\n",
              "      <td>-0.201443</td>\n",
              "    </tr>\n",
              "  </tbody>\n",
              "</table>\n",
              "<p>5 rows × 24 columns</p>\n",
              "</div>\n",
              "    <div class=\"colab-df-buttons\">\n",
              "\n",
              "  <div class=\"colab-df-container\">\n",
              "    <button class=\"colab-df-convert\" onclick=\"convertToInteractive('df-0dc290c8-ea0e-477b-ba15-4748b1cbbaef')\"\n",
              "            title=\"Convert this dataframe to an interactive table.\"\n",
              "            style=\"display:none;\">\n",
              "\n",
              "  <svg xmlns=\"http://www.w3.org/2000/svg\" height=\"24px\" viewBox=\"0 -960 960 960\">\n",
              "    <path d=\"M120-120v-720h720v720H120Zm60-500h600v-160H180v160Zm220 220h160v-160H400v160Zm0 220h160v-160H400v160ZM180-400h160v-160H180v160Zm440 0h160v-160H620v160ZM180-180h160v-160H180v160Zm440 0h160v-160H620v160Z\"/>\n",
              "  </svg>\n",
              "    </button>\n",
              "\n",
              "  <style>\n",
              "    .colab-df-container {\n",
              "      display:flex;\n",
              "      gap: 12px;\n",
              "    }\n",
              "\n",
              "    .colab-df-convert {\n",
              "      background-color: #E8F0FE;\n",
              "      border: none;\n",
              "      border-radius: 50%;\n",
              "      cursor: pointer;\n",
              "      display: none;\n",
              "      fill: #1967D2;\n",
              "      height: 32px;\n",
              "      padding: 0 0 0 0;\n",
              "      width: 32px;\n",
              "    }\n",
              "\n",
              "    .colab-df-convert:hover {\n",
              "      background-color: #E2EBFA;\n",
              "      box-shadow: 0px 1px 2px rgba(60, 64, 67, 0.3), 0px 1px 3px 1px rgba(60, 64, 67, 0.15);\n",
              "      fill: #174EA6;\n",
              "    }\n",
              "\n",
              "    .colab-df-buttons div {\n",
              "      margin-bottom: 4px;\n",
              "    }\n",
              "\n",
              "    [theme=dark] .colab-df-convert {\n",
              "      background-color: #3B4455;\n",
              "      fill: #D2E3FC;\n",
              "    }\n",
              "\n",
              "    [theme=dark] .colab-df-convert:hover {\n",
              "      background-color: #434B5C;\n",
              "      box-shadow: 0px 1px 3px 1px rgba(0, 0, 0, 0.15);\n",
              "      filter: drop-shadow(0px 1px 2px rgba(0, 0, 0, 0.3));\n",
              "      fill: #FFFFFF;\n",
              "    }\n",
              "  </style>\n",
              "\n",
              "    <script>\n",
              "      const buttonEl =\n",
              "        document.querySelector('#df-0dc290c8-ea0e-477b-ba15-4748b1cbbaef button.colab-df-convert');\n",
              "      buttonEl.style.display =\n",
              "        google.colab.kernel.accessAllowed ? 'block' : 'none';\n",
              "\n",
              "      async function convertToInteractive(key) {\n",
              "        const element = document.querySelector('#df-0dc290c8-ea0e-477b-ba15-4748b1cbbaef');\n",
              "        const dataTable =\n",
              "          await google.colab.kernel.invokeFunction('convertToInteractive',\n",
              "                                                    [key], {});\n",
              "        if (!dataTable) return;\n",
              "\n",
              "        const docLinkHtml = 'Like what you see? Visit the ' +\n",
              "          '<a target=\"_blank\" href=https://colab.research.google.com/notebooks/data_table.ipynb>data table notebook</a>'\n",
              "          + ' to learn more about interactive tables.';\n",
              "        element.innerHTML = '';\n",
              "        dataTable['output_type'] = 'display_data';\n",
              "        await google.colab.output.renderOutput(dataTable, element);\n",
              "        const docLink = document.createElement('div');\n",
              "        docLink.innerHTML = docLinkHtml;\n",
              "        element.appendChild(docLink);\n",
              "      }\n",
              "    </script>\n",
              "  </div>\n",
              "\n",
              "\n",
              "<div id=\"df-09effed6-8426-49db-bae3-c80817b8123e\">\n",
              "  <button class=\"colab-df-quickchart\" onclick=\"quickchart('df-09effed6-8426-49db-bae3-c80817b8123e')\"\n",
              "            title=\"Suggest charts\"\n",
              "            style=\"display:none;\">\n",
              "\n",
              "<svg xmlns=\"http://www.w3.org/2000/svg\" height=\"24px\"viewBox=\"0 0 24 24\"\n",
              "     width=\"24px\">\n",
              "    <g>\n",
              "        <path d=\"M19 3H5c-1.1 0-2 .9-2 2v14c0 1.1.9 2 2 2h14c1.1 0 2-.9 2-2V5c0-1.1-.9-2-2-2zM9 17H7v-7h2v7zm4 0h-2V7h2v10zm4 0h-2v-4h2v4z\"/>\n",
              "    </g>\n",
              "</svg>\n",
              "  </button>\n",
              "\n",
              "<style>\n",
              "  .colab-df-quickchart {\n",
              "      --bg-color: #E8F0FE;\n",
              "      --fill-color: #1967D2;\n",
              "      --hover-bg-color: #E2EBFA;\n",
              "      --hover-fill-color: #174EA6;\n",
              "      --disabled-fill-color: #AAA;\n",
              "      --disabled-bg-color: #DDD;\n",
              "  }\n",
              "\n",
              "  [theme=dark] .colab-df-quickchart {\n",
              "      --bg-color: #3B4455;\n",
              "      --fill-color: #D2E3FC;\n",
              "      --hover-bg-color: #434B5C;\n",
              "      --hover-fill-color: #FFFFFF;\n",
              "      --disabled-bg-color: #3B4455;\n",
              "      --disabled-fill-color: #666;\n",
              "  }\n",
              "\n",
              "  .colab-df-quickchart {\n",
              "    background-color: var(--bg-color);\n",
              "    border: none;\n",
              "    border-radius: 50%;\n",
              "    cursor: pointer;\n",
              "    display: none;\n",
              "    fill: var(--fill-color);\n",
              "    height: 32px;\n",
              "    padding: 0;\n",
              "    width: 32px;\n",
              "  }\n",
              "\n",
              "  .colab-df-quickchart:hover {\n",
              "    background-color: var(--hover-bg-color);\n",
              "    box-shadow: 0 1px 2px rgba(60, 64, 67, 0.3), 0 1px 3px 1px rgba(60, 64, 67, 0.15);\n",
              "    fill: var(--button-hover-fill-color);\n",
              "  }\n",
              "\n",
              "  .colab-df-quickchart-complete:disabled,\n",
              "  .colab-df-quickchart-complete:disabled:hover {\n",
              "    background-color: var(--disabled-bg-color);\n",
              "    fill: var(--disabled-fill-color);\n",
              "    box-shadow: none;\n",
              "  }\n",
              "\n",
              "  .colab-df-spinner {\n",
              "    border: 2px solid var(--fill-color);\n",
              "    border-color: transparent;\n",
              "    border-bottom-color: var(--fill-color);\n",
              "    animation:\n",
              "      spin 1s steps(1) infinite;\n",
              "  }\n",
              "\n",
              "  @keyframes spin {\n",
              "    0% {\n",
              "      border-color: transparent;\n",
              "      border-bottom-color: var(--fill-color);\n",
              "      border-left-color: var(--fill-color);\n",
              "    }\n",
              "    20% {\n",
              "      border-color: transparent;\n",
              "      border-left-color: var(--fill-color);\n",
              "      border-top-color: var(--fill-color);\n",
              "    }\n",
              "    30% {\n",
              "      border-color: transparent;\n",
              "      border-left-color: var(--fill-color);\n",
              "      border-top-color: var(--fill-color);\n",
              "      border-right-color: var(--fill-color);\n",
              "    }\n",
              "    40% {\n",
              "      border-color: transparent;\n",
              "      border-right-color: var(--fill-color);\n",
              "      border-top-color: var(--fill-color);\n",
              "    }\n",
              "    60% {\n",
              "      border-color: transparent;\n",
              "      border-right-color: var(--fill-color);\n",
              "    }\n",
              "    80% {\n",
              "      border-color: transparent;\n",
              "      border-right-color: var(--fill-color);\n",
              "      border-bottom-color: var(--fill-color);\n",
              "    }\n",
              "    90% {\n",
              "      border-color: transparent;\n",
              "      border-bottom-color: var(--fill-color);\n",
              "    }\n",
              "  }\n",
              "</style>\n",
              "\n",
              "  <script>\n",
              "    async function quickchart(key) {\n",
              "      const quickchartButtonEl =\n",
              "        document.querySelector('#' + key + ' button');\n",
              "      quickchartButtonEl.disabled = true;  // To prevent multiple clicks.\n",
              "      quickchartButtonEl.classList.add('colab-df-spinner');\n",
              "      try {\n",
              "        const charts = await google.colab.kernel.invokeFunction(\n",
              "            'suggestCharts', [key], {});\n",
              "      } catch (error) {\n",
              "        console.error('Error during call to suggestCharts:', error);\n",
              "      }\n",
              "      quickchartButtonEl.classList.remove('colab-df-spinner');\n",
              "      quickchartButtonEl.classList.add('colab-df-quickchart-complete');\n",
              "    }\n",
              "    (() => {\n",
              "      let quickchartButtonEl =\n",
              "        document.querySelector('#df-09effed6-8426-49db-bae3-c80817b8123e button');\n",
              "      quickchartButtonEl.style.display =\n",
              "        google.colab.kernel.accessAllowed ? 'block' : 'none';\n",
              "    })();\n",
              "  </script>\n",
              "</div>\n",
              "\n",
              "    </div>\n",
              "  </div>\n"
            ],
            "text/plain": [
              "      SWQ-1   SWQ-2.1   SWQ-2.2   SWQ-2.3   SWQ-2.4   SWQ-2.5   SWQ-2.6  \\\n",
              "0 -0.113137 -0.030542  1.471080 -0.431677 -0.360397 -0.331481 -0.512649   \n",
              "1 -0.144048 -0.611798 -1.057132  4.116447  1.613045  1.891280  2.833377   \n",
              "2 -0.354121 -0.580818  1.155053 -0.338858 -0.131894 -0.213109 -0.052660   \n",
              "3 -0.364389 -0.554562  1.534285 -0.431677 -0.360397 -0.265718  0.907999   \n",
              "4 -0.052504 -0.071848 -1.057132  0.403693  0.117383  0.056516  0.320434   \n",
              "\n",
              "    SWQ-2.7     STA-1     STA-2  ...     STA-7     STA-8     STA-9     TEC-1  \\\n",
              "0 -0.183522  1.503835  0.928642  ... -0.145164 -0.298612 -0.338437 -0.347140   \n",
              "1 -0.089302 -0.041517 -0.847206  ...  0.031458 -0.328172 -0.354093  0.038330   \n",
              "2 -0.173908 -1.895939  0.024633  ...  0.325828 -0.296641 -0.244498 -0.146779   \n",
              "3  0.087602 -1.586868 -0.039710  ... -0.439533 -0.131105 -0.127074  0.489315   \n",
              "4  0.191437  0.885694 -0.120138  ... -0.086290 -0.286788 -0.377578  0.163469   \n",
              "\n",
              "      TEC-2     TEC-3     TEC-4     COM-1     COM-2     POP-1  \n",
              "0 -0.634930 -0.339871 -0.479124 -0.540349 -0.231303 -0.359820  \n",
              "1  0.132326 -0.228712  0.302507  0.109160 -0.173075 -0.343099  \n",
              "2  1.457445 -0.242814 -0.516210 -0.397733 -0.232392  0.023313  \n",
              "3  0.925388  0.542350 -0.409421 -0.869885 -0.145019  1.571802  \n",
              "4 -0.351218 -0.205070  0.523801  1.210360 -0.196113 -0.201443  \n",
              "\n",
              "[5 rows x 24 columns]"
            ]
          },
          "execution_count": 148,
          "metadata": {},
          "output_type": "execute_result"
        }
      ],
      "source": [
        "status = retired_graduated_bypassed['status']\n",
        "\n",
        "communication = ['COM-1', 'COM-2']\n",
        "popularity = ['POP-1']\n",
        "stability = ['STA-1','STA-2', 'STA-3', 'STA-4', 'STA-5', 'STA-6', 'STA-7', 'STA-8', 'STA-9']\n",
        "technical_activity = ['TEC-1', 'TEC-2', 'TEC-3', 'TEC-4']\n",
        "quality = ['SWQ-1', 'SWQ-2.1', 'SWQ-2.2', 'SWQ-2.3', 'SWQ-2.4', 'SWQ-2.5', 'SWQ-2.6', 'SWQ-2.7']\n",
        "\n",
        "features = quality + stability + technical_activity + communication + popularity\n",
        "X = df_norm[features]\n",
        "X.head()"
      ]
    },
    {
      "cell_type": "markdown",
      "metadata": {
        "id": "tZYVLqXchd53"
      },
      "source": [
        "#Vizualization of data\n",
        "\n",
        "\n"
      ]
    },
    {
      "cell_type": "markdown",
      "metadata": {
        "id": "hAydI1Q_tWtt"
      },
      "source": [
        "##t-sne\n",
        "\n",
        "[t-sne intro](https://www.datacamp.com/tutorial/introduction-t-sne) <br>\n",
        "[Documentation](https://scikit-learn.org/stable/modules/generated/sklearn.manifold.TSNE.html)\n",
        "\n",
        ">Parameters:\n",
        ">>Perplexity: how much to focus on local vs global aspect of data. (5-50)low perplexity is more focus on local structure, while higher perplexity focus more in global structure"
      ]
    },
    {
      "cell_type": "code",
      "execution_count": 8,
      "metadata": {
        "colab": {
          "base_uri": "https://localhost:8080/",
          "height": 542
        },
        "id": "G9e-YlSilzom",
        "outputId": "1fde432f-37df-461e-8481-f2fb7a6869cb"
      },
      "outputs": [
        {
          "data": {
            "text/html": [
              "<html>\n",
              "<head><meta charset=\"utf-8\" /></head>\n",
              "<body>\n",
              "    <div>            <script src=\"https://cdnjs.cloudflare.com/ajax/libs/mathjax/2.7.5/MathJax.js?config=TeX-AMS-MML_SVG\"></script><script type=\"text/javascript\">if (window.MathJax && window.MathJax.Hub && window.MathJax.Hub.Config) {window.MathJax.Hub.Config({SVG: {font: \"STIX-Web\"}});}</script>                <script type=\"text/javascript\">window.PlotlyConfig = {MathJaxConfig: 'local'};</script>\n",
              "        <script charset=\"utf-8\" src=\"https://cdn.plot.ly/plotly-2.35.2.min.js\"></script>                <div id=\"26d29cf4-c1ec-4aaf-9944-24847f94fad2\" class=\"plotly-graph-div\" style=\"height:525px; width:100%;\"></div>            <script type=\"text/javascript\">                                    window.PLOTLYENV=window.PLOTLYENV || {};                                    if (document.getElementById(\"26d29cf4-c1ec-4aaf-9944-24847f94fad2\")) {                    Plotly.newPlot(                        \"26d29cf4-c1ec-4aaf-9944-24847f94fad2\",                        [{\"hovertemplate\":\"color=graduated\\u003cbr\\u003ex=%{x}\\u003cbr\\u003ey=%{y}\\u003cextra\\u003e\\u003c\\u002fextra\\u003e\",\"legendgroup\":\"graduated\",\"marker\":{\"color\":\"#636efa\",\"symbol\":\"circle\"},\"mode\":\"markers\",\"name\":\"graduated\",\"orientation\":\"v\",\"showlegend\":true,\"x\":[-10.95346,-2.350487,-6.267775,-7.5447197,3.6869316,-9.462384,2.0443833,3.6945674,-15.814461,-8.561642,-11.29112,12.618695,0.35261405,-1.4091101,2.5038018,2.6251285,1.9896723,5.2627993,-16.115835,-13.911428,-1.5674238,-3.2902725,-5.480855,7.2808623,2.1116877,3.623663,11.491519,-10.25979,2.1732745,1.5996176,3.006708,14.498832,-10.452483,9.272922,14.758256,0.85193616,-13.010019,10.268331,-6.4407206,1.1157186,-11.654968,-9.692641,-8.285717,-8.408397,2.6680245,-4.2774096,-10.091429,-10.17071,-12.892769,-8.311328,-5.4469624,-9.176471,-0.55414945,-2.9693415,13.435365,-7.840548,-3.0505166,-12.226675,5.404274,-11.506789,-0.15448791,-16.103073,-10.0127735,0.27738354,-2.529483,1.8291078,4.863862,-4.6639733,-14.548842,-1.0917506,-1.1489257,-3.1750503,-6.353391,-5.033204,3.2372072,-1.5683796,-7.433202,-12.740548,-0.23998703,-1.9513434,-1.2668632,1.321662,-1.5454515,-2.5141387,-8.769207,0.11443263,-7.794423,-4.7261906,-1.3455974,-4.304005,-6.8770046,-0.024822215,13.183958,-8.468536,-11.689235,4.4724317,1.7925034,0.9926549,-15.077289,14.530046,-1.7271441,-2.0608656,-2.6850505,-0.86358815,-4.5230665,-2.8281245,9.342653,0.0031452233,3.4351332,10.174728,-14.950371,-0.1170223,0.18834096,-5.345122,-13.311549,7.1696997,-3.2067294,-4.0536017,5.497163,0.16382158,3.2107754,12.187918,-1.9213647,1.5821811,1.5261579,-0.13863288,4.9061613,-1.6541381,6.7129183,2.785813,-15.685579,9.133453,-5.723365,-13.942735,2.8926601,-7.7244735,-1.8230041,-1.6870602,-7.6443644,16.746773,-8.938491,1.2965846,14.539065,-0.6092048,1.1696614,-4.5240693,5.6233134,-15.863452,-5.712535,-1.3076676,-6.6904526,7.284486,-7.6716146,7.4913106,-7.4373136,-16.002619,17.523779,-9.106729,-5.4741426,3.8743005,-10.060465,5.651517,0.9147845,-9.713592,-5.852329,-16.473024,13.624769,-7.7387795,-3.03378,-2.7384758,6.4742656,-3.6405303,15.479667,-3.856357,-3.4517922,-2.3963072,6.7197723,17.023996,-6.743602,13.988975,-10.011177,-13.792691,-4.4260983,4.128393,4.0999026,15.596543,-4.0709443,-1.9403744,-4.131127],\"xaxis\":\"x\",\"y\":[-17.060104,17.687628,-0.07385397,2.383009,10.744856,9.005128,18.175564,-2.9102073,-21.344015,-19.689375,-16.20503,6.137406,13.226992,16.667383,-4.001658,19.71232,2.510427,3.0648642,-12.629083,-22.577694,6.945302,8.584699,13.616572,12.470511,10.533952,-8.59775,1.8194908,-16.8183,1.3538541,18.725182,0.5022893,5.938468,-19.413628,-1.2885741,-1.5588778,3.7997563,-15.967109,2.057308,-20.649181,11.772685,-20.745228,-15.838249,4.0410914,14.536598,13.517405,11.244525,7.7923965,7.9390597,-20.439734,-17.6826,-6.719225,13.453506,-2.685161,12.753298,-1.5323873,9.383293,3.1266322,-18.877281,-2.687075,-18.871754,12.895956,-18.302504,-17.291323,-10.741461,-0.4384768,-2.4124744,15.793075,17.559536,-15.564388,2.7046804,-1.5702575,16.795265,13.324993,-8.3513,16.187208,13.628253,14.033765,-19.544823,1.2382798,17.340876,3.6133673,11.201025,19.405392,0.87161016,-20.525652,7.928415,8.84396,-2.9191542,10.065135,4.988716,0.51457316,-1.4816017,4.4988823,0.12728862,-22.1691,13.792122,9.4813795,13.924697,-16.809792,13.96191,17.35136,-1.0765908,12.877634,0.3274109,-0.3038006,-4.613375,-3.743798,14.507046,14.75555,6.863793,-17.593567,18.215128,-0.0018528168,-2.6874318,-21.907936,-4.0065923,2.1626563,-0.5043836,-8.447054,10.9948015,11.840042,2.5246332,2.545786,-9.88787,-6.541901,5.4559946,-8.247658,15.300547,11.605991,14.37887,-20.028566,8.182617,11.256596,-24.349123,3.8834732,-17.200994,14.946727,-0.29816896,7.190992,-3.318626,-17.296124,-5.546926,-3.7300317,-10.1661215,-6.077632,-3.6771612,-6.5353484,-13.66064,5.112838,-10.607458,-19.831127,8.321239,5.5871964,17.773085,-20.14004,-17.828398,-3.7079227,-1.4060005,0.96426535,18.304047,8.443337,10.636793,7.337512,-23.529196,12.1290655,-16.980915,0.03354526,-11.064012,1.4474369,10.9719925,10.209399,5.363098,-1.7002044,12.317635,20.663015,-16.397043,-2.7859356,-3.4701633,-18.668144,-2.2371142,-23.687965,-19.026203,8.518512,-5.7210217,-4.852747,5.604602,20.823732,20.157988,20.813004],\"yaxis\":\"y\",\"type\":\"scatter\"},{\"hovertemplate\":\"color=retired\\u003cbr\\u003ex=%{x}\\u003cbr\\u003ey=%{y}\\u003cextra\\u003e\\u003c\\u002fextra\\u003e\",\"legendgroup\":\"retired\",\"marker\":{\"color\":\"#EF553B\",\"symbol\":\"circle\"},\"mode\":\"markers\",\"name\":\"retired\",\"orientation\":\"v\",\"showlegend\":true,\"x\":[-15.507658,-7.394311,3.5190787,2.1295736,0.6781908,-16.28894,-3.1112945,-9.413068,3.5936377,-9.419828,-7.3778415,5.7244883,4.287388,-12.9016905,-1.3050601,-8.102257,-1.1557703,0.60606265,-9.446229,4.196763,-11.583218,-9.186161,-12.646724,-4.2757645,-9.646917,-7.5341983,-13.195789,-14.709953,5.4162846,-11.073371,-14.280717,4.9560323,0.4516494,4.590789,-3.2919672,3.6683977,-10.221154,-10.919393,8.531238,-10.782648,9.833192,6.5311913,12.102583,-15.699128,-1.6637076,-1.5053343,6.683616],\"xaxis\":\"x\",\"y\":[-14.219595,-10.093934,-2.8270245,-2.1318405,-0.8411856,-12.014972,-7.0706534,-13.391013,-1.7903885,-19.92662,-3.5556114,-4.896253,-3.8647776,-17.574898,-7.0301266,-11.830548,-7.116883,-11.117417,-14.297339,3.5881217,-21.09121,-12.912429,-19.236824,8.224402,-20.12522,-10.47836,-17.034979,-22.38861,0.44015244,-20.63734,-18.274965,-3.4296963,-3.7902715,-0.87370586,-1.4019605,-0.113058314,-15.261678,-15.946418,1.8325403,-24.97822,-5.068105,-3.6531646,-2.4959407,-22.634138,-16.00781,1.6465456,-11.23372],\"yaxis\":\"y\",\"type\":\"scatter\"},{\"hovertemplate\":\"color=bypassed\\u003cbr\\u003ex=%{x}\\u003cbr\\u003ey=%{y}\\u003cextra\\u003e\\u003c\\u002fextra\\u003e\",\"legendgroup\":\"bypassed\",\"marker\":{\"color\":\"#00cc96\",\"symbol\":\"circle\"},\"mode\":\"markers\",\"name\":\"bypassed\",\"orientation\":\"v\",\"showlegend\":true,\"x\":[12.394482,12.856968,11.4076395,16.015034,-17.037249,-8.989135,-16.590242,-5.9902315,-3.0913064,3.8452964,9.497872,3.8317995,12.026305,9.389239,1.6189511,-1.2578433,3.8515248,6.917339,3.093273,10.4149065,4.963176,7.7904525,4.7132106,11.1417,9.013932,3.140003,2.195863,-6.3422837,5.199206,4.185529,7.7600574,12.633075,11.681366,6.4120812,7.50706,12.065626,10.48459,14.64844,-1.5001073,12.147921,6.1401486,7.891458,9.714438,7.428674,4.5043764,-11.593602,3.500372,0.10223763,10.503609,4.4888034,3.0844796,10.217687,6.274399,11.251987,11.992264,4.693517,4.9932833,-3.5610137,12.484111,12.633075,11.184537,-10.558873,15.569134,-3.153139,10.892867,7.215438,-4.3674836,12.145003,2.795593,12.033298,4.6809816,13.721065,6.05414,-2.7813563,8.642052,2.3264387,-11.202036,7.5560236,-3.3038108,10.616723,-2.4379954,4.0286393,0.6856296,6.262341,0.37963536,3.5787964,13.69247,-16.128143,-8.450536,7.362587,-2.1832428,-8.704006,-13.539305,1.2467151,4.041513,11.834756,8.390136,12.564778,7.492963],\"xaxis\":\"x\",\"y\":[15.75431,12.344603,15.69941,5.162909,-20.519754,13.155832,-23.192537,-0.820714,13.897533,11.605363,4.852205,-8.846612,1.304314,-0.2061902,2.9366884,-4.6805677,5.0469007,6.3266835,6.1340804,4.1217194,-0.48605028,-3.36811,3.0607457,-0.7546408,-0.5172526,3.3800073,3.4351072,-8.612921,4.8241744,2.3820927,-4.894843,10.436285,0.5683773,5.2697964,-1.6617012,0.42297494,1.4751844,2.9890604,1.0005296,10.143166,6.478045,2.05648,0.7870588,-6.5891004,2.032457,-22.128468,1.2655784,0.99723405,-3.705525,1.4648478,4.8781343,0.15640725,-1.7249016,-5.694223,4.7547965,11.188562,7.5539026,-1.1737441,15.760515,10.436285,4.518124,-21.601442,3.7202935,5.352756,13.233393,0.73004127,-7.6042466,12.321785,-0.25885078,12.93097,5.937916,13.69496,6.3293524,-4.681316,3.8384478,-10.179962,-14.519672,-7.113026,-7.156986,4.428977,-5.7398906,9.410416,16.265345,-1.6508579,16.059206,-7.7409115,-3.207754,-21.65567,-16.38703,1.0539035,-4.1979628,-21.717724,-20.788233,14.59865,12.427183,3.7560856,-2.5320318,13.235875,17.782017],\"yaxis\":\"y\",\"type\":\"scatter\"}],                        {\"template\":{\"data\":{\"histogram2dcontour\":[{\"type\":\"histogram2dcontour\",\"colorbar\":{\"outlinewidth\":0,\"ticks\":\"\"},\"colorscale\":[[0.0,\"#0d0887\"],[0.1111111111111111,\"#46039f\"],[0.2222222222222222,\"#7201a8\"],[0.3333333333333333,\"#9c179e\"],[0.4444444444444444,\"#bd3786\"],[0.5555555555555556,\"#d8576b\"],[0.6666666666666666,\"#ed7953\"],[0.7777777777777778,\"#fb9f3a\"],[0.8888888888888888,\"#fdca26\"],[1.0,\"#f0f921\"]]}],\"choropleth\":[{\"type\":\"choropleth\",\"colorbar\":{\"outlinewidth\":0,\"ticks\":\"\"}}],\"histogram2d\":[{\"type\":\"histogram2d\",\"colorbar\":{\"outlinewidth\":0,\"ticks\":\"\"},\"colorscale\":[[0.0,\"#0d0887\"],[0.1111111111111111,\"#46039f\"],[0.2222222222222222,\"#7201a8\"],[0.3333333333333333,\"#9c179e\"],[0.4444444444444444,\"#bd3786\"],[0.5555555555555556,\"#d8576b\"],[0.6666666666666666,\"#ed7953\"],[0.7777777777777778,\"#fb9f3a\"],[0.8888888888888888,\"#fdca26\"],[1.0,\"#f0f921\"]]}],\"heatmap\":[{\"type\":\"heatmap\",\"colorbar\":{\"outlinewidth\":0,\"ticks\":\"\"},\"colorscale\":[[0.0,\"#0d0887\"],[0.1111111111111111,\"#46039f\"],[0.2222222222222222,\"#7201a8\"],[0.3333333333333333,\"#9c179e\"],[0.4444444444444444,\"#bd3786\"],[0.5555555555555556,\"#d8576b\"],[0.6666666666666666,\"#ed7953\"],[0.7777777777777778,\"#fb9f3a\"],[0.8888888888888888,\"#fdca26\"],[1.0,\"#f0f921\"]]}],\"heatmapgl\":[{\"type\":\"heatmapgl\",\"colorbar\":{\"outlinewidth\":0,\"ticks\":\"\"},\"colorscale\":[[0.0,\"#0d0887\"],[0.1111111111111111,\"#46039f\"],[0.2222222222222222,\"#7201a8\"],[0.3333333333333333,\"#9c179e\"],[0.4444444444444444,\"#bd3786\"],[0.5555555555555556,\"#d8576b\"],[0.6666666666666666,\"#ed7953\"],[0.7777777777777778,\"#fb9f3a\"],[0.8888888888888888,\"#fdca26\"],[1.0,\"#f0f921\"]]}],\"contourcarpet\":[{\"type\":\"contourcarpet\",\"colorbar\":{\"outlinewidth\":0,\"ticks\":\"\"}}],\"contour\":[{\"type\":\"contour\",\"colorbar\":{\"outlinewidth\":0,\"ticks\":\"\"},\"colorscale\":[[0.0,\"#0d0887\"],[0.1111111111111111,\"#46039f\"],[0.2222222222222222,\"#7201a8\"],[0.3333333333333333,\"#9c179e\"],[0.4444444444444444,\"#bd3786\"],[0.5555555555555556,\"#d8576b\"],[0.6666666666666666,\"#ed7953\"],[0.7777777777777778,\"#fb9f3a\"],[0.8888888888888888,\"#fdca26\"],[1.0,\"#f0f921\"]]}],\"surface\":[{\"type\":\"surface\",\"colorbar\":{\"outlinewidth\":0,\"ticks\":\"\"},\"colorscale\":[[0.0,\"#0d0887\"],[0.1111111111111111,\"#46039f\"],[0.2222222222222222,\"#7201a8\"],[0.3333333333333333,\"#9c179e\"],[0.4444444444444444,\"#bd3786\"],[0.5555555555555556,\"#d8576b\"],[0.6666666666666666,\"#ed7953\"],[0.7777777777777778,\"#fb9f3a\"],[0.8888888888888888,\"#fdca26\"],[1.0,\"#f0f921\"]]}],\"mesh3d\":[{\"type\":\"mesh3d\",\"colorbar\":{\"outlinewidth\":0,\"ticks\":\"\"}}],\"scatter\":[{\"fillpattern\":{\"fillmode\":\"overlay\",\"size\":10,\"solidity\":0.2},\"type\":\"scatter\"}],\"parcoords\":[{\"type\":\"parcoords\",\"line\":{\"colorbar\":{\"outlinewidth\":0,\"ticks\":\"\"}}}],\"scatterpolargl\":[{\"type\":\"scatterpolargl\",\"marker\":{\"colorbar\":{\"outlinewidth\":0,\"ticks\":\"\"}}}],\"bar\":[{\"error_x\":{\"color\":\"#2a3f5f\"},\"error_y\":{\"color\":\"#2a3f5f\"},\"marker\":{\"line\":{\"color\":\"#E5ECF6\",\"width\":0.5},\"pattern\":{\"fillmode\":\"overlay\",\"size\":10,\"solidity\":0.2}},\"type\":\"bar\"}],\"scattergeo\":[{\"type\":\"scattergeo\",\"marker\":{\"colorbar\":{\"outlinewidth\":0,\"ticks\":\"\"}}}],\"scatterpolar\":[{\"type\":\"scatterpolar\",\"marker\":{\"colorbar\":{\"outlinewidth\":0,\"ticks\":\"\"}}}],\"histogram\":[{\"marker\":{\"pattern\":{\"fillmode\":\"overlay\",\"size\":10,\"solidity\":0.2}},\"type\":\"histogram\"}],\"scattergl\":[{\"type\":\"scattergl\",\"marker\":{\"colorbar\":{\"outlinewidth\":0,\"ticks\":\"\"}}}],\"scatter3d\":[{\"type\":\"scatter3d\",\"line\":{\"colorbar\":{\"outlinewidth\":0,\"ticks\":\"\"}},\"marker\":{\"colorbar\":{\"outlinewidth\":0,\"ticks\":\"\"}}}],\"scattermapbox\":[{\"type\":\"scattermapbox\",\"marker\":{\"colorbar\":{\"outlinewidth\":0,\"ticks\":\"\"}}}],\"scatterternary\":[{\"type\":\"scatterternary\",\"marker\":{\"colorbar\":{\"outlinewidth\":0,\"ticks\":\"\"}}}],\"scattercarpet\":[{\"type\":\"scattercarpet\",\"marker\":{\"colorbar\":{\"outlinewidth\":0,\"ticks\":\"\"}}}],\"carpet\":[{\"aaxis\":{\"endlinecolor\":\"#2a3f5f\",\"gridcolor\":\"white\",\"linecolor\":\"white\",\"minorgridcolor\":\"white\",\"startlinecolor\":\"#2a3f5f\"},\"baxis\":{\"endlinecolor\":\"#2a3f5f\",\"gridcolor\":\"white\",\"linecolor\":\"white\",\"minorgridcolor\":\"white\",\"startlinecolor\":\"#2a3f5f\"},\"type\":\"carpet\"}],\"table\":[{\"cells\":{\"fill\":{\"color\":\"#EBF0F8\"},\"line\":{\"color\":\"white\"}},\"header\":{\"fill\":{\"color\":\"#C8D4E3\"},\"line\":{\"color\":\"white\"}},\"type\":\"table\"}],\"barpolar\":[{\"marker\":{\"line\":{\"color\":\"#E5ECF6\",\"width\":0.5},\"pattern\":{\"fillmode\":\"overlay\",\"size\":10,\"solidity\":0.2}},\"type\":\"barpolar\"}],\"pie\":[{\"automargin\":true,\"type\":\"pie\"}]},\"layout\":{\"autotypenumbers\":\"strict\",\"colorway\":[\"#636efa\",\"#EF553B\",\"#00cc96\",\"#ab63fa\",\"#FFA15A\",\"#19d3f3\",\"#FF6692\",\"#B6E880\",\"#FF97FF\",\"#FECB52\"],\"font\":{\"color\":\"#2a3f5f\"},\"hovermode\":\"closest\",\"hoverlabel\":{\"align\":\"left\"},\"paper_bgcolor\":\"white\",\"plot_bgcolor\":\"#E5ECF6\",\"polar\":{\"bgcolor\":\"#E5ECF6\",\"angularaxis\":{\"gridcolor\":\"white\",\"linecolor\":\"white\",\"ticks\":\"\"},\"radialaxis\":{\"gridcolor\":\"white\",\"linecolor\":\"white\",\"ticks\":\"\"}},\"ternary\":{\"bgcolor\":\"#E5ECF6\",\"aaxis\":{\"gridcolor\":\"white\",\"linecolor\":\"white\",\"ticks\":\"\"},\"baxis\":{\"gridcolor\":\"white\",\"linecolor\":\"white\",\"ticks\":\"\"},\"caxis\":{\"gridcolor\":\"white\",\"linecolor\":\"white\",\"ticks\":\"\"}},\"coloraxis\":{\"colorbar\":{\"outlinewidth\":0,\"ticks\":\"\"}},\"colorscale\":{\"sequential\":[[0.0,\"#0d0887\"],[0.1111111111111111,\"#46039f\"],[0.2222222222222222,\"#7201a8\"],[0.3333333333333333,\"#9c179e\"],[0.4444444444444444,\"#bd3786\"],[0.5555555555555556,\"#d8576b\"],[0.6666666666666666,\"#ed7953\"],[0.7777777777777778,\"#fb9f3a\"],[0.8888888888888888,\"#fdca26\"],[1.0,\"#f0f921\"]],\"sequentialminus\":[[0.0,\"#0d0887\"],[0.1111111111111111,\"#46039f\"],[0.2222222222222222,\"#7201a8\"],[0.3333333333333333,\"#9c179e\"],[0.4444444444444444,\"#bd3786\"],[0.5555555555555556,\"#d8576b\"],[0.6666666666666666,\"#ed7953\"],[0.7777777777777778,\"#fb9f3a\"],[0.8888888888888888,\"#fdca26\"],[1.0,\"#f0f921\"]],\"diverging\":[[0,\"#8e0152\"],[0.1,\"#c51b7d\"],[0.2,\"#de77ae\"],[0.3,\"#f1b6da\"],[0.4,\"#fde0ef\"],[0.5,\"#f7f7f7\"],[0.6,\"#e6f5d0\"],[0.7,\"#b8e186\"],[0.8,\"#7fbc41\"],[0.9,\"#4d9221\"],[1,\"#276419\"]]},\"xaxis\":{\"gridcolor\":\"white\",\"linecolor\":\"white\",\"ticks\":\"\",\"title\":{\"standoff\":15},\"zerolinecolor\":\"white\",\"automargin\":true,\"zerolinewidth\":2},\"yaxis\":{\"gridcolor\":\"white\",\"linecolor\":\"white\",\"ticks\":\"\",\"title\":{\"standoff\":15},\"zerolinecolor\":\"white\",\"automargin\":true,\"zerolinewidth\":2},\"scene\":{\"xaxis\":{\"backgroundcolor\":\"#E5ECF6\",\"gridcolor\":\"white\",\"linecolor\":\"white\",\"showbackground\":true,\"ticks\":\"\",\"zerolinecolor\":\"white\",\"gridwidth\":2},\"yaxis\":{\"backgroundcolor\":\"#E5ECF6\",\"gridcolor\":\"white\",\"linecolor\":\"white\",\"showbackground\":true,\"ticks\":\"\",\"zerolinecolor\":\"white\",\"gridwidth\":2},\"zaxis\":{\"backgroundcolor\":\"#E5ECF6\",\"gridcolor\":\"white\",\"linecolor\":\"white\",\"showbackground\":true,\"ticks\":\"\",\"zerolinecolor\":\"white\",\"gridwidth\":2}},\"shapedefaults\":{\"line\":{\"color\":\"#2a3f5f\"}},\"annotationdefaults\":{\"arrowcolor\":\"#2a3f5f\",\"arrowhead\":0,\"arrowwidth\":1},\"geo\":{\"bgcolor\":\"white\",\"landcolor\":\"#E5ECF6\",\"subunitcolor\":\"white\",\"showland\":true,\"showlakes\":true,\"lakecolor\":\"white\"},\"title\":{\"x\":0.05},\"mapbox\":{\"style\":\"light\"}}},\"xaxis\":{\"anchor\":\"y\",\"domain\":[0.0,1.0],\"title\":{\"text\":\"x\"}},\"yaxis\":{\"anchor\":\"x\",\"domain\":[0.0,1.0],\"title\":{\"text\":\"y\"}},\"legend\":{\"title\":{\"text\":\"color\"},\"tracegroupgap\":0},\"margin\":{\"t\":60},\"title\":{\"text\":\"t-SNE vizualization kl_divergence:0.759030818939209\"}},                        {\"responsive\": true}                    ).then(function(){\n",
              "                            \n",
              "var gd = document.getElementById('26d29cf4-c1ec-4aaf-9944-24847f94fad2');\n",
              "var x = new MutationObserver(function (mutations, observer) {{\n",
              "        var display = window.getComputedStyle(gd).display;\n",
              "        if (!display || display === 'none') {{\n",
              "            console.log([gd, 'removed!']);\n",
              "            Plotly.purge(gd);\n",
              "            observer.disconnect();\n",
              "        }}\n",
              "}});\n",
              "\n",
              "// Listen for the removal of the full notebook cells\n",
              "var notebookContainer = gd.closest('#notebook-container');\n",
              "if (notebookContainer) {{\n",
              "    x.observe(notebookContainer, {childList: true});\n",
              "}}\n",
              "\n",
              "// Listen for the clearing of the current output cell\n",
              "var outputEl = gd.closest('.output');\n",
              "if (outputEl) {{\n",
              "    x.observe(outputEl, {childList: true});\n",
              "}}\n",
              "\n",
              "                        })                };                            </script>        </div>\n",
              "</body>\n",
              "</html>"
            ]
          },
          "metadata": {},
          "output_type": "display_data"
        }
      ],
      "source": [
        "tsne_2 = TSNE(n_components=2, perplexity=30, random_state=42)\n",
        "proj_2d = tsne_2.fit_transform(X)\n",
        "kl = tsne_2.kl_divergence_\n",
        "\n",
        "fig = px.scatter(x=proj_2d[:, 0], y=proj_2d[:, 1], color=status)\n",
        "fig.update_layout(\n",
        "    title=f\"t-SNE vizualization kl_divergence:{kl}\",\n",
        "    xaxis_title=\"x\",\n",
        "    yaxis_title=\"y\",\n",
        ")\n",
        "fig.show()"
      ]
    },
    {
      "cell_type": "code",
      "execution_count": 9,
      "metadata": {
        "colab": {
          "base_uri": "https://localhost:8080/",
          "height": 542
        },
        "id": "otHk9HCMsGMJ",
        "outputId": "1c5a7127-2959-4fce-fac5-dc75bed8fffc"
      },
      "outputs": [
        {
          "data": {
            "text/html": [
              "<html>\n",
              "<head><meta charset=\"utf-8\" /></head>\n",
              "<body>\n",
              "    <div>            <script src=\"https://cdnjs.cloudflare.com/ajax/libs/mathjax/2.7.5/MathJax.js?config=TeX-AMS-MML_SVG\"></script><script type=\"text/javascript\">if (window.MathJax && window.MathJax.Hub && window.MathJax.Hub.Config) {window.MathJax.Hub.Config({SVG: {font: \"STIX-Web\"}});}</script>                <script type=\"text/javascript\">window.PlotlyConfig = {MathJaxConfig: 'local'};</script>\n",
              "        <script charset=\"utf-8\" src=\"https://cdn.plot.ly/plotly-2.35.2.min.js\"></script>                <div id=\"5f7b2c24-10b2-4e48-82e3-3f20df4c3adf\" class=\"plotly-graph-div\" style=\"height:525px; width:100%;\"></div>            <script type=\"text/javascript\">                                    window.PLOTLYENV=window.PLOTLYENV || {};                                    if (document.getElementById(\"5f7b2c24-10b2-4e48-82e3-3f20df4c3adf\")) {                    Plotly.newPlot(                        \"5f7b2c24-10b2-4e48-82e3-3f20df4c3adf\",                        [{\"hovertemplate\":\"color=graduated\\u003cbr\\u003ex=%{x}\\u003cbr\\u003ey=%{y}\\u003cbr\\u003ez=%{z}\\u003cextra\\u003e\\u003c\\u002fextra\\u003e\",\"legendgroup\":\"graduated\",\"marker\":{\"color\":\"#636efa\",\"symbol\":\"circle\"},\"mode\":\"markers\",\"name\":\"graduated\",\"scene\":\"scene\",\"showlegend\":true,\"x\":[25.673382,8.392048,-21.643925,-21.98159,-3.3504767,3.9497674,4.856573,-20.2518,29.762577,11.487906,24.823706,10.529,-7.92275,-3.1848955,-35.667564,7.5806723,-0.41963923,-4.9333506,23.412928,31.900946,-0.96054107,-8.281416,-16.819506,18.46805,11.656833,-34.741714,-9.917836,20.442318,-1.1386411,8.941897,-10.221364,7.2849755,19.48891,-10.137551,-5.220306,3.2449527,17.416582,-9.55618,26.077333,7.2829847,22.891829,12.283913,-21.191263,-27.13015,-2.1120539,-8.6020355,11.198624,11.358718,29.542044,8.436899,-38.632027,-27.58297,-11.452847,-7.6777864,-13.980896,2.2426043,2.5249567,21.776913,-24.995295,25.431639,-16.635824,40.867695,18.189968,-10.156975,-12.059786,-24.152485,3.0846095,20.642511,27.045002,2.9808786,-11.399167,12.382612,-17.636534,-37.292526,-16.239363,-11.963919,-26.180902,26.354952,-0.76173633,3.0925605,6.592397,8.172876,0.63650835,-7.263656,7.8030276,-25.039091,-2.6393883,-21.221212,-16.861692,-13.00898,-21.786076,-11.491624,1.7722143,-27.698647,24.633589,3.447541,3.7913005,-8.918235,35.54779,-30.218779,4.108369,-15.048384,-2.2100353,-5.2310038,-14.356549,-26.639435,-17.952457,-10.180365,-7.3551683,7.853214,34.52037,11.3178215,-5.60399,-27.174484,35.0481,-21.264162,0.61513734,-13.182714,-38.85656,15.615072,2.2051327,-2.0486343,0.77158827,-15.708826,-24.76992,12.188026,-36.308624,1.3397939,10.992926,-8.88023,35.118034,10.327036,-2.9830534,42.25559,4.055098,9.696931,-2.3121405,-12.729029,-6.6894097,2.60592,13.754287,-19.437952,-3.5455964,-17.209051,-25.582344,-23.775845,-33.567116,29.514612,-15.862355,-16.600063,18.304825,11.479497,-7.437747,23.83155,18.449652,36.288715,5.114213,-31.21194,-11.705868,14.551416,5.3440895,4.0814095,-16.72669,15.001158,-8.795535,30.58297,0.085864425,5.7603197,-3.4558122,-2.1850374,5.1782236,-7.1602507,-7.283338,-14.268746,8.448213,-3.7971542,-16.588825,-0.6741565,9.024383,-9.913286,17.619614,32.629772,-9.460172,-25.265755,-24.710377,12.987354,13.989946,0.18540753,15.561698],\"y\":[-18.438005,-20.608137,5.953382,-1.2123395,1.2357837,-33.92996,-22.277685,0.55077463,-5.48227,-27.04742,-10.107308,27.700357,-11.850568,-14.064271,-1.4047284,-32.26176,-1.7570751,-6.9842343,12.5866995,-15.387943,-21.424284,-18.416664,-17.030989,6.514856,-3.080742,15.071335,30.804855,-14.646382,-8.18282,-25.996153,-10.476827,31.678448,-22.60766,17.110245,34.410053,-0.107898556,1.0881399,25.93679,-28.3831,-10.348507,-22.74738,-13.011123,5.970103,-28.831038,-13.520171,-32.869038,-36.77086,-42.716026,-20.243313,-21.326752,-7.0304675,-33.151985,28.633053,-26.055325,32.096817,-34.022343,18.648989,-13.040573,-0.18550321,-18.488054,-11.119417,-10.014963,-21.041443,23.837946,12.893904,-11.944068,-21.12099,-13.293512,-2.7430346,10.348681,20.800014,-14.765463,-24.362913,0.89868623,-17.635683,-20.911688,-22.29841,-13.208282,12.3824415,-19.215427,17.507828,-10.443086,-5.5891714,0.9774532,-21.109741,-9.187242,-38.174152,15.224291,-4.3893538,-23.2292,-0.671692,21.643808,41.44282,-19.040882,-22.582178,2.918753,-4.5686073,-3.418406,-3.6200962,-30.382051,-14.071672,12.592454,-23.609148,18.094282,11.278105,-7.386304,2.9246247,-8.87526,-7.157007,21.34889,-10.836161,-17.892262,18.340006,10.782906,-18.86067,14.253049,10.3443985,4.885996,8.475524,-13.282446,-4.764763,32.73284,18.925228,28.94028,17.674288,10.721812,14.426525,-13.217362,6.533927,-13.871271,-8.000113,19.269352,-27.951904,-14.663507,3.0499527,-22.35196,-18.427916,2.9228992,-34.951996,33.990757,-16.688662,26.137644,25.235779,21.179293,24.833998,22.327877,19.792679,11.292234,-30.919622,16.58488,-29.888388,12.150092,-35.063942,11.502574,-31.441666,-4.704697,30.794943,-17.585588,4.074397,-24.385044,-41.4053,4.2686563,-7.2275596,-17.693007,-22.665392,0.10311368,27.360888,0.16897732,5.277539,-34.274006,11.137782,-23.14514,38.00017,-30.003643,-0.89855146,-12.466616,7.990902,34.76652,-29.471218,29.102173,-11.766969,-15.68991,-26.104862,18.392538,11.181498,35.97927,-4.1308517,-0.046864804,-2.652426],\"z\":[-30.999582,36.417023,-26.258762,-30.526026,21.389233,0.8475804,19.73091,9.37448,-7.0698495,-11.641413,-30.809938,4.693556,27.916075,40.675602,10.468464,18.084097,2.396043,-12.01634,-27.54731,-0.31543016,-2.081902,4.9377546,14.264564,23.92242,17.9013,-5.663483,4.4960847,-26.131357,6.129982,25.152285,0.5528228,14.468289,-17.66641,12.248463,16.395763,-15.145464,-18.51773,-2.1495798,-20.44398,25.362547,-10.127016,-29.409765,-37.357094,18.586205,17.10474,17.79031,4.864699,3.5638282,-12.766702,-24.48795,-12.380344,10.721657,-12.890566,26.090908,12.744625,10.119212,-26.358952,-16.471645,17.534304,-20.342804,30.69591,-19.5882,-29.176193,-27.277927,-16.816801,5.502099,8.317272,34.34446,-28.457644,-16.518713,-18.315418,41.15861,14.424044,-19.702322,22.841158,33.145473,13.2620945,-10.328589,-7.8772926,41.77344,-13.57051,18.574062,40.981247,-16.508858,-14.756647,15.119271,8.239021,-19.143715,23.423721,-14.223569,-21.768015,-9.208442,3.2490747,4.6384583,0.41207892,36.344204,13.61416,30.9564,-28.412823,-8.004939,37.200462,-10.05452,23.387255,-12.741742,-24.759974,-14.26553,25.652006,36.54321,21.199444,13.814246,-26.104944,28.473303,-4.632349,-18.35591,-7.296736,12.933779,-26.050224,-21.121449,5.040088,21.384012,21.88638,5.499659,-18.394934,-21.649353,-9.214432,-15.3675375,1.8357209,28.921541,24.57683,20.108902,-11.71306,23.041319,13.875134,-6.7299027,-0.7852971,-31.986238,31.56745,-10.056707,1.7007209,25.279871,-22.390772,-11.258705,26.617401,-28.07397,-6.814088,-19.295557,8.744298,-22.544548,-13.942063,-34.536945,-23.435595,15.775479,-5.8089266,30.573988,-15.784278,-19.916965,32.56542,-4.8454294,-30.7642,15.230197,0.9624979,18.566086,13.337468,4.447979,15.501238,-17.945805,17.647135,-39.949905,-22.182238,24.630978,20.400892,-10.687867,22.454432,24.345436,47.167503,-22.88974,12.051929,31.117086,-21.913427,19.134825,2.0536025,-17.734715,4.5985847,1.3686503,0.59796894,8.989814,49.755943,45.767033,44.389874],\"type\":\"scatter3d\"},{\"hovertemplate\":\"color=retired\\u003cbr\\u003ex=%{x}\\u003cbr\\u003ey=%{y}\\u003cbr\\u003ez=%{z}\\u003cextra\\u003e\\u003c\\u002fextra\\u003e\",\"legendgroup\":\"retired\",\"marker\":{\"color\":\"#EF553B\",\"symbol\":\"circle\"},\"mode\":\"markers\",\"name\":\"retired\",\"scene\":\"scene\",\"showlegend\":true,\"x\":[27.312828,-1.89694,-26.50906,-18.806732,-15.57007,19.186537,-32.0351,14.751542,-25.11686,11.579172,-12.875045,-29.59134,-19.557486,18.437082,-33.97145,6.3861785,-39.844112,-6.467767,9.516185,3.6663153,27.409658,15.20798,20.021917,-14.323419,15.129686,-0.89001924,22.820038,25.37785,-16.336481,20.19622,29.089617,-26.748419,-16.19044,-18.500788,-21.478872,-6.2623715,16.949055,19.136889,-17.412067,22.542992,-18.89955,-26.787489,-4.5703206,25.843222,-9.12716,-4.3876457,-18.698996],\"y\":[5.7008696,3.0969183,-3.2318594,-13.055139,9.868521,17.47051,5.651944,-0.085496046,-1.3719703,-13.919735,42.201103,12.297951,7.9790387,-5.3695607,-6.304395,-7.151411,-3.8778057,29.352608,-4.752624,-10.397105,-26.45224,-4.37619,-11.393283,-23.50985,-19.476053,-1.7617278,-4.2994037,0.64163977,-5.1807985,-29.067692,-10.027062,5.0486336,-11.786722,0.6552684,7.8191323,-2.0670047,-7.3963127,-13.175924,29.059717,-9.860785,13.019346,8.66376,17.226187,-7.276259,-11.667267,13.443817,-21.491547],\"z\":[-27.623497,-42.52853,8.520555,0.583604,-2.2636108,-27.987526,-4.7301736,-33.06525,1.3204714,-14.513923,15.371667,9.817818,4.7686844,-13.427724,-0.8232099,-39.159576,-1.3134595,-27.265375,-29.947186,-1.724683,-6.185611,-38.939964,-9.144926,0.562256,-12.235247,-38.06444,-18.87182,-4.1878653,4.3187466,-6.622253,-21.024668,8.776405,-16.786835,-1.7428159,-9.924856,8.017581,-27.631975,-34.42724,-2.2257755,8.643232,27.171885,17.03721,22.237986,0.50183445,-28.000473,-18.871283,-19.162989],\"type\":\"scatter3d\"},{\"hovertemplate\":\"color=bypassed\\u003cbr\\u003ex=%{x}\\u003cbr\\u003ey=%{y}\\u003cbr\\u003ez=%{z}\\u003cextra\\u003e\\u003c\\u002fextra\\u003e\",\"legendgroup\":\"bypassed\",\"marker\":{\"color\":\"#00cc96\",\"symbol\":\"circle\"},\"mode\":\"markers\",\"name\":\"bypassed\",\"scene\":\"scene\",\"showlegend\":true,\"x\":[34.95393,26.554947,30.492031,18.451275,38.315292,-21.669968,31.022232,-28.966736,-2.8278682,5.2665324,11.796938,-35.399986,-1.9708583,-8.115091,-3.21861,-22.37308,12.644491,6.931972,13.100761,3.3055236,-12.607816,-19.415213,0.35654065,2.6287549,-3.6412764,3.1419134,-0.7800455,-34.41086,8.158109,-3.9102488,-25.820969,22.948322,1.7845395,15.496299,-8.159697,-2.4148068,-8.543624,11.364717,-5.6805015,17.775463,2.8316522,-18.080261,-1.4215258,-25.778864,-6.855043,23.101479,-11.099056,-7.532772,-18.595774,-12.681503,8.684479,-1.2540902,-10.425948,-14.667541,4.078979,1.2092458,16.19494,-18.168703,31.810234,21.648355,0.72752833,16.443975,17.326662,-5.3271556,22.49249,-18.184841,-38.5429,24.944359,-9.035657,24.980183,7.1956177,29.122606,9.265141,-22.242638,9.507476,-19.546799,12.128367,-26.73345,-32.3577,-0.88880676,-29.745407,-7.907373,8.71326,-12.209699,14.567806,-36.084003,-11.85863,33.35516,6.564219,-15.262449,-24.367327,11.118368,34.917885,-14.470194,-0.6481306,-5.0591354,-13.370276,31.577868,23.689608],\"y\":[13.425305,18.010773,18.485584,37.313717,-0.5638691,-31.37183,-5.7572947,8.314714,-26.721127,-0.21857305,26.377672,19.698807,25.756643,13.761161,5.0213075,-6.71515,1.7424213,12.901472,10.091409,27.18442,1.2182539,8.348616,-12.381553,18.091501,10.677326,-3.8585181,2.075079,-8.563391,-1.0490973,-9.799378,18.549477,14.817398,22.916203,9.993202,8.108467,25.820232,22.788929,37.47162,8.084535,17.594452,5.5412145,23.910475,17.07833,27.342716,-3.4431357,-17.175835,-13.20195,9.842749,23.68955,-4.8651657,1.7056743,16.211266,4.5693097,18.231525,33.729347,5.881516,2.697584,6.6019907,9.064535,20.221205,36.053997,-22.164913,36.26116,-27.741634,15.320371,19.069788,1.659138,25.295189,-9.793455,22.184353,10.429501,11.998722,6.621072,-2.9816525,28.69859,35.010437,-5.54482,27.932402,6.162623,30.221209,-3.2520006,5.669028,-5.1775227,1.1640133,-4.8780794,22.639526,24.987978,-4.9802628,-13.127706,18.070915,-12.677608,-14.239924,-26.073399,0.53603613,-2.2358975,35.72151,13.418502,21.026693,7.110835],\"z\":[12.6468315,-1.0704099,16.836039,5.0910406,-7.6011534,9.177738,6.9004326,-28.125605,32.36972,26.409822,-6.7374797,-11.375914,-0.14676355,4.8984456,-0.42141047,-4.118819,-1.6465288,8.953731,-6.933165,-6.774162,0.86469084,19.281204,-9.99102,-2.3121588,9.817208,-5.254077,-7.0599775,-21.463896,4.5327883,-4.307209,18.066822,-9.052147,5.4755373,3.348474,15.623577,9.806837,5.3137674,-7.395902,-13.101249,-4.331939,9.762603,4.253575,12.68947,1.920653,-3.3126864,-3.6117206,-7.1458426,-5.5536156,16.821875,-7.1431413,-7.8141694,4.588658,8.721891,32.490097,-0.4064898,26.431782,9.984196,-16.117111,13.970713,-10.230032,-7.7612004,-3.8781092,-2.798833,-16.469421,10.010049,-5.210233,-11.791612,-0.4557325,8.213529,6.252256,-0.07728613,3.6338794,7.4211473,-11.851237,-14.726073,-20.394497,-21.132236,9.076034,-11.046989,-11.213427,-7.5450187,28.784336,34.22581,14.454846,29.83545,-2.4679484,24.831835,-1.5193522,-22.775215,0.6356348,-9.083669,-6.7099595,-13.759987,34.875813,30.172815,-2.4732726,19.013494,4.297959,33.467083],\"type\":\"scatter3d\"}],                        {\"template\":{\"data\":{\"histogram2dcontour\":[{\"type\":\"histogram2dcontour\",\"colorbar\":{\"outlinewidth\":0,\"ticks\":\"\"},\"colorscale\":[[0.0,\"#0d0887\"],[0.1111111111111111,\"#46039f\"],[0.2222222222222222,\"#7201a8\"],[0.3333333333333333,\"#9c179e\"],[0.4444444444444444,\"#bd3786\"],[0.5555555555555556,\"#d8576b\"],[0.6666666666666666,\"#ed7953\"],[0.7777777777777778,\"#fb9f3a\"],[0.8888888888888888,\"#fdca26\"],[1.0,\"#f0f921\"]]}],\"choropleth\":[{\"type\":\"choropleth\",\"colorbar\":{\"outlinewidth\":0,\"ticks\":\"\"}}],\"histogram2d\":[{\"type\":\"histogram2d\",\"colorbar\":{\"outlinewidth\":0,\"ticks\":\"\"},\"colorscale\":[[0.0,\"#0d0887\"],[0.1111111111111111,\"#46039f\"],[0.2222222222222222,\"#7201a8\"],[0.3333333333333333,\"#9c179e\"],[0.4444444444444444,\"#bd3786\"],[0.5555555555555556,\"#d8576b\"],[0.6666666666666666,\"#ed7953\"],[0.7777777777777778,\"#fb9f3a\"],[0.8888888888888888,\"#fdca26\"],[1.0,\"#f0f921\"]]}],\"heatmap\":[{\"type\":\"heatmap\",\"colorbar\":{\"outlinewidth\":0,\"ticks\":\"\"},\"colorscale\":[[0.0,\"#0d0887\"],[0.1111111111111111,\"#46039f\"],[0.2222222222222222,\"#7201a8\"],[0.3333333333333333,\"#9c179e\"],[0.4444444444444444,\"#bd3786\"],[0.5555555555555556,\"#d8576b\"],[0.6666666666666666,\"#ed7953\"],[0.7777777777777778,\"#fb9f3a\"],[0.8888888888888888,\"#fdca26\"],[1.0,\"#f0f921\"]]}],\"heatmapgl\":[{\"type\":\"heatmapgl\",\"colorbar\":{\"outlinewidth\":0,\"ticks\":\"\"},\"colorscale\":[[0.0,\"#0d0887\"],[0.1111111111111111,\"#46039f\"],[0.2222222222222222,\"#7201a8\"],[0.3333333333333333,\"#9c179e\"],[0.4444444444444444,\"#bd3786\"],[0.5555555555555556,\"#d8576b\"],[0.6666666666666666,\"#ed7953\"],[0.7777777777777778,\"#fb9f3a\"],[0.8888888888888888,\"#fdca26\"],[1.0,\"#f0f921\"]]}],\"contourcarpet\":[{\"type\":\"contourcarpet\",\"colorbar\":{\"outlinewidth\":0,\"ticks\":\"\"}}],\"contour\":[{\"type\":\"contour\",\"colorbar\":{\"outlinewidth\":0,\"ticks\":\"\"},\"colorscale\":[[0.0,\"#0d0887\"],[0.1111111111111111,\"#46039f\"],[0.2222222222222222,\"#7201a8\"],[0.3333333333333333,\"#9c179e\"],[0.4444444444444444,\"#bd3786\"],[0.5555555555555556,\"#d8576b\"],[0.6666666666666666,\"#ed7953\"],[0.7777777777777778,\"#fb9f3a\"],[0.8888888888888888,\"#fdca26\"],[1.0,\"#f0f921\"]]}],\"surface\":[{\"type\":\"surface\",\"colorbar\":{\"outlinewidth\":0,\"ticks\":\"\"},\"colorscale\":[[0.0,\"#0d0887\"],[0.1111111111111111,\"#46039f\"],[0.2222222222222222,\"#7201a8\"],[0.3333333333333333,\"#9c179e\"],[0.4444444444444444,\"#bd3786\"],[0.5555555555555556,\"#d8576b\"],[0.6666666666666666,\"#ed7953\"],[0.7777777777777778,\"#fb9f3a\"],[0.8888888888888888,\"#fdca26\"],[1.0,\"#f0f921\"]]}],\"mesh3d\":[{\"type\":\"mesh3d\",\"colorbar\":{\"outlinewidth\":0,\"ticks\":\"\"}}],\"scatter\":[{\"fillpattern\":{\"fillmode\":\"overlay\",\"size\":10,\"solidity\":0.2},\"type\":\"scatter\"}],\"parcoords\":[{\"type\":\"parcoords\",\"line\":{\"colorbar\":{\"outlinewidth\":0,\"ticks\":\"\"}}}],\"scatterpolargl\":[{\"type\":\"scatterpolargl\",\"marker\":{\"colorbar\":{\"outlinewidth\":0,\"ticks\":\"\"}}}],\"bar\":[{\"error_x\":{\"color\":\"#2a3f5f\"},\"error_y\":{\"color\":\"#2a3f5f\"},\"marker\":{\"line\":{\"color\":\"#E5ECF6\",\"width\":0.5},\"pattern\":{\"fillmode\":\"overlay\",\"size\":10,\"solidity\":0.2}},\"type\":\"bar\"}],\"scattergeo\":[{\"type\":\"scattergeo\",\"marker\":{\"colorbar\":{\"outlinewidth\":0,\"ticks\":\"\"}}}],\"scatterpolar\":[{\"type\":\"scatterpolar\",\"marker\":{\"colorbar\":{\"outlinewidth\":0,\"ticks\":\"\"}}}],\"histogram\":[{\"marker\":{\"pattern\":{\"fillmode\":\"overlay\",\"size\":10,\"solidity\":0.2}},\"type\":\"histogram\"}],\"scattergl\":[{\"type\":\"scattergl\",\"marker\":{\"colorbar\":{\"outlinewidth\":0,\"ticks\":\"\"}}}],\"scatter3d\":[{\"type\":\"scatter3d\",\"line\":{\"colorbar\":{\"outlinewidth\":0,\"ticks\":\"\"}},\"marker\":{\"colorbar\":{\"outlinewidth\":0,\"ticks\":\"\"}}}],\"scattermapbox\":[{\"type\":\"scattermapbox\",\"marker\":{\"colorbar\":{\"outlinewidth\":0,\"ticks\":\"\"}}}],\"scatterternary\":[{\"type\":\"scatterternary\",\"marker\":{\"colorbar\":{\"outlinewidth\":0,\"ticks\":\"\"}}}],\"scattercarpet\":[{\"type\":\"scattercarpet\",\"marker\":{\"colorbar\":{\"outlinewidth\":0,\"ticks\":\"\"}}}],\"carpet\":[{\"aaxis\":{\"endlinecolor\":\"#2a3f5f\",\"gridcolor\":\"white\",\"linecolor\":\"white\",\"minorgridcolor\":\"white\",\"startlinecolor\":\"#2a3f5f\"},\"baxis\":{\"endlinecolor\":\"#2a3f5f\",\"gridcolor\":\"white\",\"linecolor\":\"white\",\"minorgridcolor\":\"white\",\"startlinecolor\":\"#2a3f5f\"},\"type\":\"carpet\"}],\"table\":[{\"cells\":{\"fill\":{\"color\":\"#EBF0F8\"},\"line\":{\"color\":\"white\"}},\"header\":{\"fill\":{\"color\":\"#C8D4E3\"},\"line\":{\"color\":\"white\"}},\"type\":\"table\"}],\"barpolar\":[{\"marker\":{\"line\":{\"color\":\"#E5ECF6\",\"width\":0.5},\"pattern\":{\"fillmode\":\"overlay\",\"size\":10,\"solidity\":0.2}},\"type\":\"barpolar\"}],\"pie\":[{\"automargin\":true,\"type\":\"pie\"}]},\"layout\":{\"autotypenumbers\":\"strict\",\"colorway\":[\"#636efa\",\"#EF553B\",\"#00cc96\",\"#ab63fa\",\"#FFA15A\",\"#19d3f3\",\"#FF6692\",\"#B6E880\",\"#FF97FF\",\"#FECB52\"],\"font\":{\"color\":\"#2a3f5f\"},\"hovermode\":\"closest\",\"hoverlabel\":{\"align\":\"left\"},\"paper_bgcolor\":\"white\",\"plot_bgcolor\":\"#E5ECF6\",\"polar\":{\"bgcolor\":\"#E5ECF6\",\"angularaxis\":{\"gridcolor\":\"white\",\"linecolor\":\"white\",\"ticks\":\"\"},\"radialaxis\":{\"gridcolor\":\"white\",\"linecolor\":\"white\",\"ticks\":\"\"}},\"ternary\":{\"bgcolor\":\"#E5ECF6\",\"aaxis\":{\"gridcolor\":\"white\",\"linecolor\":\"white\",\"ticks\":\"\"},\"baxis\":{\"gridcolor\":\"white\",\"linecolor\":\"white\",\"ticks\":\"\"},\"caxis\":{\"gridcolor\":\"white\",\"linecolor\":\"white\",\"ticks\":\"\"}},\"coloraxis\":{\"colorbar\":{\"outlinewidth\":0,\"ticks\":\"\"}},\"colorscale\":{\"sequential\":[[0.0,\"#0d0887\"],[0.1111111111111111,\"#46039f\"],[0.2222222222222222,\"#7201a8\"],[0.3333333333333333,\"#9c179e\"],[0.4444444444444444,\"#bd3786\"],[0.5555555555555556,\"#d8576b\"],[0.6666666666666666,\"#ed7953\"],[0.7777777777777778,\"#fb9f3a\"],[0.8888888888888888,\"#fdca26\"],[1.0,\"#f0f921\"]],\"sequentialminus\":[[0.0,\"#0d0887\"],[0.1111111111111111,\"#46039f\"],[0.2222222222222222,\"#7201a8\"],[0.3333333333333333,\"#9c179e\"],[0.4444444444444444,\"#bd3786\"],[0.5555555555555556,\"#d8576b\"],[0.6666666666666666,\"#ed7953\"],[0.7777777777777778,\"#fb9f3a\"],[0.8888888888888888,\"#fdca26\"],[1.0,\"#f0f921\"]],\"diverging\":[[0,\"#8e0152\"],[0.1,\"#c51b7d\"],[0.2,\"#de77ae\"],[0.3,\"#f1b6da\"],[0.4,\"#fde0ef\"],[0.5,\"#f7f7f7\"],[0.6,\"#e6f5d0\"],[0.7,\"#b8e186\"],[0.8,\"#7fbc41\"],[0.9,\"#4d9221\"],[1,\"#276419\"]]},\"xaxis\":{\"gridcolor\":\"white\",\"linecolor\":\"white\",\"ticks\":\"\",\"title\":{\"standoff\":15},\"zerolinecolor\":\"white\",\"automargin\":true,\"zerolinewidth\":2},\"yaxis\":{\"gridcolor\":\"white\",\"linecolor\":\"white\",\"ticks\":\"\",\"title\":{\"standoff\":15},\"zerolinecolor\":\"white\",\"automargin\":true,\"zerolinewidth\":2},\"scene\":{\"xaxis\":{\"backgroundcolor\":\"#E5ECF6\",\"gridcolor\":\"white\",\"linecolor\":\"white\",\"showbackground\":true,\"ticks\":\"\",\"zerolinecolor\":\"white\",\"gridwidth\":2},\"yaxis\":{\"backgroundcolor\":\"#E5ECF6\",\"gridcolor\":\"white\",\"linecolor\":\"white\",\"showbackground\":true,\"ticks\":\"\",\"zerolinecolor\":\"white\",\"gridwidth\":2},\"zaxis\":{\"backgroundcolor\":\"#E5ECF6\",\"gridcolor\":\"white\",\"linecolor\":\"white\",\"showbackground\":true,\"ticks\":\"\",\"zerolinecolor\":\"white\",\"gridwidth\":2}},\"shapedefaults\":{\"line\":{\"color\":\"#2a3f5f\"}},\"annotationdefaults\":{\"arrowcolor\":\"#2a3f5f\",\"arrowhead\":0,\"arrowwidth\":1},\"geo\":{\"bgcolor\":\"white\",\"landcolor\":\"#E5ECF6\",\"subunitcolor\":\"white\",\"showland\":true,\"showlakes\":true,\"lakecolor\":\"white\"},\"title\":{\"x\":0.05},\"mapbox\":{\"style\":\"light\"}}},\"scene\":{\"domain\":{\"x\":[0.0,1.0],\"y\":[0.0,1.0]},\"xaxis\":{\"title\":{\"text\":\"x\"}},\"yaxis\":{\"title\":{\"text\":\"y\"}},\"zaxis\":{\"title\":{\"text\":\"z\"}}},\"legend\":{\"title\":{\"text\":\"color\"},\"tracegroupgap\":0},\"margin\":{\"t\":60},\"title\":{\"text\":\"3D t-SNE vizualization kl_divergence:0.5563679337501526\"}},                        {\"responsive\": true}                    ).then(function(){\n",
              "                            \n",
              "var gd = document.getElementById('5f7b2c24-10b2-4e48-82e3-3f20df4c3adf');\n",
              "var x = new MutationObserver(function (mutations, observer) {{\n",
              "        var display = window.getComputedStyle(gd).display;\n",
              "        if (!display || display === 'none') {{\n",
              "            console.log([gd, 'removed!']);\n",
              "            Plotly.purge(gd);\n",
              "            observer.disconnect();\n",
              "        }}\n",
              "}});\n",
              "\n",
              "// Listen for the removal of the full notebook cells\n",
              "var notebookContainer = gd.closest('#notebook-container');\n",
              "if (notebookContainer) {{\n",
              "    x.observe(notebookContainer, {childList: true});\n",
              "}}\n",
              "\n",
              "// Listen for the clearing of the current output cell\n",
              "var outputEl = gd.closest('.output');\n",
              "if (outputEl) {{\n",
              "    x.observe(outputEl, {childList: true});\n",
              "}}\n",
              "\n",
              "                        })                };                            </script>        </div>\n",
              "</body>\n",
              "</html>"
            ]
          },
          "metadata": {},
          "output_type": "display_data"
        }
      ],
      "source": [
        "tsne_3 = TSNE(n_components=3, perplexity=50, random_state=42)\n",
        "proj_3d = tsne_3.fit_transform(X)\n",
        "kl = tsne_3.kl_divergence_\n",
        "\n",
        "\n",
        "fig = px.scatter_3d(x=proj_3d[:, 0], y=proj_3d[:, 1], z=proj_3d[:, 2], color=status)\n",
        "fig.update_layout(\n",
        "    title=f\"3D t-SNE vizualization kl_divergence:{kl}\",\n",
        "    scene=dict(\n",
        "        xaxis_title=\"x\",\n",
        "        yaxis_title=\"y\",\n",
        "        zaxis_title=\"z\"\n",
        "    )\n",
        ")\n",
        "\n",
        "fig.show()"
      ]
    },
    {
      "cell_type": "markdown",
      "metadata": {
        "id": "S5dyNzcnu-S1"
      },
      "source": [
        "##UMAP\n",
        "Uniform Manifold Approximation and Projection for Dimension Reduction <br>\n",
        "\n",
        "[Understanding UMAP](https://pair-code.github.io/understanding-umap/) <br>\n",
        "[Documentation](https://umap-learn.readthedocs.io/en/latest/)\n",
        "\n",
        "Parameters:\n",
        ">n_neighbors: determine the size of the local neighborhood, low is local, high is more global. default=15<br>\n",
        ">min_dist: minimum distance points may have. low values is more clumps, while high is more spread out <br>\n",
        ">"
      ]
    },
    {
      "cell_type": "code",
      "execution_count": 23,
      "metadata": {
        "colab": {
          "base_uri": "https://localhost:8080/",
          "height": 611
        },
        "id": "XeIAfXl6qMJm",
        "outputId": "e07b7783-ce10-4934-8550-2e50e44d4b95"
      },
      "outputs": [
        {
          "name": "stderr",
          "output_type": "stream",
          "text": [
            "/usr/local/lib/python3.11/dist-packages/sklearn/utils/deprecation.py:151: FutureWarning:\n",
            "\n",
            "'force_all_finite' was renamed to 'ensure_all_finite' in 1.6 and will be removed in 1.8.\n",
            "\n"
          ]
        },
        {
          "data": {
            "text/html": [
              "<html>\n",
              "<head><meta charset=\"utf-8\" /></head>\n",
              "<body>\n",
              "    <div>            <script src=\"https://cdnjs.cloudflare.com/ajax/libs/mathjax/2.7.5/MathJax.js?config=TeX-AMS-MML_SVG\"></script><script type=\"text/javascript\">if (window.MathJax && window.MathJax.Hub && window.MathJax.Hub.Config) {window.MathJax.Hub.Config({SVG: {font: \"STIX-Web\"}});}</script>                <script type=\"text/javascript\">window.PlotlyConfig = {MathJaxConfig: 'local'};</script>\n",
              "        <script charset=\"utf-8\" src=\"https://cdn.plot.ly/plotly-2.35.2.min.js\"></script>                <div id=\"617e50e4-7411-4ccc-a390-608bced9c067\" class=\"plotly-graph-div\" style=\"height:525px; width:100%;\"></div>            <script type=\"text/javascript\">                                    window.PLOTLYENV=window.PLOTLYENV || {};                                    if (document.getElementById(\"617e50e4-7411-4ccc-a390-608bced9c067\")) {                    Plotly.newPlot(                        \"617e50e4-7411-4ccc-a390-608bced9c067\",                        [{\"hovertemplate\":\"color=graduated\\u003cbr\\u003ex=%{x}\\u003cbr\\u003ey=%{y}\\u003cextra\\u003e\\u003c\\u002fextra\\u003e\",\"legendgroup\":\"graduated\",\"marker\":{\"color\":\"#636efa\",\"symbol\":\"circle\"},\"mode\":\"markers\",\"name\":\"graduated\",\"orientation\":\"v\",\"showlegend\":true,\"x\":[-0.02096032,7.1496935,10.629541,9.776864,7.227743,9.202782,8.074957,8.043907,-0.4789775,-0.66064334,0.09174527,9.942325,7.517194,7.1310425,8.072463,8.3893585,7.251309,6.8764977,0.016949143,-0.77691144,8.191962,7.3033943,8.263577,8.032019,6.7835937,9.596326,9.702453,0.08386271,7.51769,7.874499,7.271009,9.76794,-0.66935074,8.731311,9.408375,7.3928375,-0.12165627,9.876368,-0.5202089,6.91189,-0.8587254,-0.04670136,9.557755,8.646133,7.763937,8.45219,9.086924,9.163111,-0.5578915,-0.3655865,8.77442,8.737898,10.281034,8.008425,9.494188,8.673937,11.281515,-0.46900424,8.037983,-0.4033385,7.46061,0.06291366,-0.013817319,10.417772,10.739768,8.573853,8.067931,7.3538284,-0.0053597107,11.442848,10.5827675,7.2146916,8.501981,8.941454,8.052087,7.8933673,8.635768,-0.77458763,10.955702,7.1102295,11.28349,6.7760153,6.9881606,11.083749,-0.8497867,7.862146,8.89931,10.489943,7.6959286,10.065927,9.385509,10.34761,10.242521,8.701242,-1.0130775,7.0738225,6.746061,7.438496,0.29413098,10.804351,7.0931916,10.634497,8.109573,11.013578,10.825233,8.633475,8.354067,7.5991917,7.65079,9.457026,0.31132668,6.9042697,10.728049,10.544435,-0.6351782,8.433596,11.395363,10.811638,8.983109,6.886663,6.924373,9.736249,11.322608,10.246647,9.855135,8.98195,9.409948,7.411972,6.8890142,7.927486,-0.2731686,8.894843,8.507312,-0.40716246,7.2696433,-0.13855234,7.5648293,10.978393,9.122637,9.065032,-0.29109648,10.003822,8.992514,10.504339,9.758086,10.268294,9.458475,-0.19656391,10.040264,10.451398,-0.6857685,7.8892107,9.683308,8.209231,-0.7431311,0.124051854,8.991997,8.546391,10.646593,8.2609215,9.170756,6.8368163,7.78317,-1.0644468,8.618994,0.0705307,9.454017,0.93661374,11.258375,8.212436,6.858375,9.633354,9.221696,7.9406633,7.063977,6.575367,8.286854,9.04197,-0.7564806,9.265727,-1.0885602,-0.26936707,7.5226483,9.552828,9.168901,10.155704,7.115196,6.979718,7.24806],\"xaxis\":\"x\",\"y\":[12.640498,9.080781,11.695948,10.888954,10.143694,9.636108,9.494085,12.2307205,12.254491,13.001815,12.672868,13.491745,10.0095,9.322843,12.077158,9.596415,13.060327,12.580353,11.397252,12.109729,10.896175,11.631485,10.353993,9.824296,9.965147,12.029946,13.517168,12.796069,12.732244,9.472561,12.306377,14.05571,12.47838,13.240006,14.253493,13.003663,12.370863,13.380125,12.544352,9.617463,11.860558,13.013949,10.67625,10.239526,10.311166,9.634577,9.662309,9.602026,11.809412,13.09954,11.537493,10.287297,12.652532,9.357721,13.972371,9.651529,12.527526,12.303989,12.185554,12.152741,9.951717,11.93183,12.785307,11.779457,12.265978,11.12638,10.186504,9.201951,12.050779,12.426953,12.255306,8.976518,10.004537,11.510834,10.123289,9.551629,10.405849,11.801176,12.784714,9.079095,12.428711,9.867738,9.205522,12.266917,12.962457,11.359574,9.692285,12.122616,10.664385,11.28857,11.093418,12.722786,13.645528,10.925666,12.043175,9.8124485,10.129038,10.315254,11.844748,10.607727,9.126906,12.381235,9.4679785,12.684331,11.930108,11.428138,12.361924,10.124368,10.119232,13.575194,12.155465,9.295733,12.896586,12.201347,11.876917,12.857238,12.401526,11.854406,12.137881,9.717272,10.202094,13.652288,12.555102,11.8755865,12.494246,11.999783,12.19428,9.301345,10.481514,10.087549,11.998414,13.223655,9.69925,11.738851,13.133662,13.061962,9.389669,12.145031,9.857535,14.414482,13.145653,12.32086,14.129521,11.756376,12.483104,12.269003,12.488417,11.496344,11.126133,11.625813,12.792427,13.280421,10.653566,9.683155,12.706018,11.954784,14.479287,11.152151,11.811172,10.354137,9.599079,10.541316,11.355968,12.350629,9.878432,12.054133,14.167136,13.069802,12.239159,9.350553,10.782318,11.394846,14.29414,9.640907,8.988706,12.549884,12.645653,14.418627,12.966024,14.201306,12.487923,11.856582,11.336854,12.554535,12.490786,13.908102,8.934637,9.070567,8.986512],\"yaxis\":\"y\",\"type\":\"scatter\"},{\"hovertemplate\":\"color=retired\\u003cbr\\u003ex=%{x}\\u003cbr\\u003ey=%{y}\\u003cextra\\u003e\\u003c\\u002fextra\\u003e\",\"legendgroup\":\"retired\",\"marker\":{\"color\":\"#EF553B\",\"symbol\":\"circle\"},\"mode\":\"markers\",\"name\":\"retired\",\"orientation\":\"v\",\"showlegend\":true,\"x\":[-0.10205963,1.0361828,8.032466,7.702164,10.462085,0.17629668,9.162044,0.48990425,7.9225388,-0.67331284,9.31952,8.752195,8.60328,-0.3055776,8.174368,0.7405197,8.016603,10.34674,0.26418078,6.9067936,-0.91079915,0.46846417,-0.59073836,7.5162196,-0.9247102,1.0203971,-0.13862921,-0.56617045,7.554305,-0.9565603,-0.13518205,8.194753,10.280162,7.886997,10.792665,7.614237,0.08055031,0.078353725,9.747257,-1.1494688,7.98335,8.221287,8.86337,-0.95171577,6.8184915,11.173234,9.901477],\"xaxis\":\"x\",\"y\":[11.639727,13.054289,12.125766,12.047016,12.675154,11.296308,11.751038,13.014617,11.721165,13.04181,14.175857,12.476517,12.4575205,12.173546,11.451388,13.085307,11.401236,11.716273,13.099703,12.747411,11.8715725,12.971007,12.066318,11.43611,12.758869,13.052536,12.287303,12.318534,11.89068,11.793128,11.946552,12.341079,11.437341,11.801542,11.981337,12.593775,12.942207,12.7972145,12.809863,12.513412,12.63599,12.639332,13.807113,12.311275,12.644966,12.456551,11.356496],\"yaxis\":\"y\",\"type\":\"scatter\"},{\"hovertemplate\":\"color=bypassed\\u003cbr\\u003ex=%{x}\\u003cbr\\u003ey=%{y}\\u003cextra\\u003e\\u003c\\u002fextra\\u003e\",\"legendgroup\":\"bypassed\",\"marker\":{\"color\":\"#00cc96\",\"symbol\":\"circle\"},\"mode\":\"markers\",\"name\":\"bypassed\",\"orientation\":\"v\",\"showlegend\":true,\"x\":[11.037862,11.402401,11.097738,10.354482,-0.42940035,8.9092245,-1.110437,10.893939,7.7493477,6.878912,10.1400585,9.553075,9.773551,8.922107,7.450982,8.322499,7.1203284,7.7223535,7.039705,10.082872,7.7250977,8.428008,6.9197345,10.685057,8.596605,7.0544934,7.04181,8.6805935,7.327192,6.95947,8.492367,11.534661,9.49194,7.472291,8.188188,9.578671,9.612603,9.95158,11.058878,11.611397,7.739812,9.830274,9.211057,9.194302,7.045749,-0.9903275,7.103786,10.742598,8.803156,7.097997,7.127535,9.135236,8.01613,7.6026077,10.129652,6.9389544,7.3611674,10.7927,11.130818,11.493787,10.245179,-1.0557089,10.16825,9.856613,11.188312,9.908688,9.003356,11.381435,7.5851603,11.249249,7.4500628,10.995364,7.4107556,8.482899,9.957932,10.072272,-0.10916951,9.195232,9.118451,10.222509,8.503606,7.6021514,7.0212607,8.051652,7.210803,9.4276905,9.101043,-0.77403927,-0.25160405,9.823146,8.4222555,-1.0022637,-0.64733726,7.413081,7.018904,10.038736,8.379991,11.273099,8.260082],\"xaxis\":\"x\",\"y\":[10.252254,10.459199,10.314676,13.932358,12.455909,10.3467455,12.3326025,11.823867,9.388987,10.056066,13.263637,12.152468,13.654177,13.33799,12.885574,11.49967,13.31013,13.449547,13.405233,13.285929,11.7741375,12.739098,12.665854,13.188822,13.3783655,12.949458,12.954658,11.429798,13.386384,12.590338,12.84543,10.704579,13.654605,13.51842,13.109696,13.89699,13.395607,13.351147,12.499834,10.66652,13.491688,12.917781,13.385067,12.723717,12.620926,12.018808,12.310805,12.589463,13.072268,12.259104,13.248865,13.535253,12.79229,12.85921,13.648517,10.496988,13.646022,11.927256,10.283306,10.665184,13.6128025,12.045711,13.615306,11.302884,10.291605,12.644744,11.591354,10.346217,12.427287,10.369047,13.51988,10.433122,13.506249,11.525895,12.984861,12.005084,12.9446335,12.586591,11.791613,13.445401,11.50125,10.957437,9.625823,12.762788,9.619536,12.021181,14.111352,12.21658,13.18517,12.717071,11.327371,12.965849,11.762144,10.605084,10.200944,13.762447,12.97877,10.419122,9.705174],\"yaxis\":\"y\",\"type\":\"scatter\"}],                        {\"template\":{\"data\":{\"histogram2dcontour\":[{\"type\":\"histogram2dcontour\",\"colorbar\":{\"outlinewidth\":0,\"ticks\":\"\"},\"colorscale\":[[0.0,\"#0d0887\"],[0.1111111111111111,\"#46039f\"],[0.2222222222222222,\"#7201a8\"],[0.3333333333333333,\"#9c179e\"],[0.4444444444444444,\"#bd3786\"],[0.5555555555555556,\"#d8576b\"],[0.6666666666666666,\"#ed7953\"],[0.7777777777777778,\"#fb9f3a\"],[0.8888888888888888,\"#fdca26\"],[1.0,\"#f0f921\"]]}],\"choropleth\":[{\"type\":\"choropleth\",\"colorbar\":{\"outlinewidth\":0,\"ticks\":\"\"}}],\"histogram2d\":[{\"type\":\"histogram2d\",\"colorbar\":{\"outlinewidth\":0,\"ticks\":\"\"},\"colorscale\":[[0.0,\"#0d0887\"],[0.1111111111111111,\"#46039f\"],[0.2222222222222222,\"#7201a8\"],[0.3333333333333333,\"#9c179e\"],[0.4444444444444444,\"#bd3786\"],[0.5555555555555556,\"#d8576b\"],[0.6666666666666666,\"#ed7953\"],[0.7777777777777778,\"#fb9f3a\"],[0.8888888888888888,\"#fdca26\"],[1.0,\"#f0f921\"]]}],\"heatmap\":[{\"type\":\"heatmap\",\"colorbar\":{\"outlinewidth\":0,\"ticks\":\"\"},\"colorscale\":[[0.0,\"#0d0887\"],[0.1111111111111111,\"#46039f\"],[0.2222222222222222,\"#7201a8\"],[0.3333333333333333,\"#9c179e\"],[0.4444444444444444,\"#bd3786\"],[0.5555555555555556,\"#d8576b\"],[0.6666666666666666,\"#ed7953\"],[0.7777777777777778,\"#fb9f3a\"],[0.8888888888888888,\"#fdca26\"],[1.0,\"#f0f921\"]]}],\"heatmapgl\":[{\"type\":\"heatmapgl\",\"colorbar\":{\"outlinewidth\":0,\"ticks\":\"\"},\"colorscale\":[[0.0,\"#0d0887\"],[0.1111111111111111,\"#46039f\"],[0.2222222222222222,\"#7201a8\"],[0.3333333333333333,\"#9c179e\"],[0.4444444444444444,\"#bd3786\"],[0.5555555555555556,\"#d8576b\"],[0.6666666666666666,\"#ed7953\"],[0.7777777777777778,\"#fb9f3a\"],[0.8888888888888888,\"#fdca26\"],[1.0,\"#f0f921\"]]}],\"contourcarpet\":[{\"type\":\"contourcarpet\",\"colorbar\":{\"outlinewidth\":0,\"ticks\":\"\"}}],\"contour\":[{\"type\":\"contour\",\"colorbar\":{\"outlinewidth\":0,\"ticks\":\"\"},\"colorscale\":[[0.0,\"#0d0887\"],[0.1111111111111111,\"#46039f\"],[0.2222222222222222,\"#7201a8\"],[0.3333333333333333,\"#9c179e\"],[0.4444444444444444,\"#bd3786\"],[0.5555555555555556,\"#d8576b\"],[0.6666666666666666,\"#ed7953\"],[0.7777777777777778,\"#fb9f3a\"],[0.8888888888888888,\"#fdca26\"],[1.0,\"#f0f921\"]]}],\"surface\":[{\"type\":\"surface\",\"colorbar\":{\"outlinewidth\":0,\"ticks\":\"\"},\"colorscale\":[[0.0,\"#0d0887\"],[0.1111111111111111,\"#46039f\"],[0.2222222222222222,\"#7201a8\"],[0.3333333333333333,\"#9c179e\"],[0.4444444444444444,\"#bd3786\"],[0.5555555555555556,\"#d8576b\"],[0.6666666666666666,\"#ed7953\"],[0.7777777777777778,\"#fb9f3a\"],[0.8888888888888888,\"#fdca26\"],[1.0,\"#f0f921\"]]}],\"mesh3d\":[{\"type\":\"mesh3d\",\"colorbar\":{\"outlinewidth\":0,\"ticks\":\"\"}}],\"scatter\":[{\"fillpattern\":{\"fillmode\":\"overlay\",\"size\":10,\"solidity\":0.2},\"type\":\"scatter\"}],\"parcoords\":[{\"type\":\"parcoords\",\"line\":{\"colorbar\":{\"outlinewidth\":0,\"ticks\":\"\"}}}],\"scatterpolargl\":[{\"type\":\"scatterpolargl\",\"marker\":{\"colorbar\":{\"outlinewidth\":0,\"ticks\":\"\"}}}],\"bar\":[{\"error_x\":{\"color\":\"#2a3f5f\"},\"error_y\":{\"color\":\"#2a3f5f\"},\"marker\":{\"line\":{\"color\":\"#E5ECF6\",\"width\":0.5},\"pattern\":{\"fillmode\":\"overlay\",\"size\":10,\"solidity\":0.2}},\"type\":\"bar\"}],\"scattergeo\":[{\"type\":\"scattergeo\",\"marker\":{\"colorbar\":{\"outlinewidth\":0,\"ticks\":\"\"}}}],\"scatterpolar\":[{\"type\":\"scatterpolar\",\"marker\":{\"colorbar\":{\"outlinewidth\":0,\"ticks\":\"\"}}}],\"histogram\":[{\"marker\":{\"pattern\":{\"fillmode\":\"overlay\",\"size\":10,\"solidity\":0.2}},\"type\":\"histogram\"}],\"scattergl\":[{\"type\":\"scattergl\",\"marker\":{\"colorbar\":{\"outlinewidth\":0,\"ticks\":\"\"}}}],\"scatter3d\":[{\"type\":\"scatter3d\",\"line\":{\"colorbar\":{\"outlinewidth\":0,\"ticks\":\"\"}},\"marker\":{\"colorbar\":{\"outlinewidth\":0,\"ticks\":\"\"}}}],\"scattermapbox\":[{\"type\":\"scattermapbox\",\"marker\":{\"colorbar\":{\"outlinewidth\":0,\"ticks\":\"\"}}}],\"scatterternary\":[{\"type\":\"scatterternary\",\"marker\":{\"colorbar\":{\"outlinewidth\":0,\"ticks\":\"\"}}}],\"scattercarpet\":[{\"type\":\"scattercarpet\",\"marker\":{\"colorbar\":{\"outlinewidth\":0,\"ticks\":\"\"}}}],\"carpet\":[{\"aaxis\":{\"endlinecolor\":\"#2a3f5f\",\"gridcolor\":\"white\",\"linecolor\":\"white\",\"minorgridcolor\":\"white\",\"startlinecolor\":\"#2a3f5f\"},\"baxis\":{\"endlinecolor\":\"#2a3f5f\",\"gridcolor\":\"white\",\"linecolor\":\"white\",\"minorgridcolor\":\"white\",\"startlinecolor\":\"#2a3f5f\"},\"type\":\"carpet\"}],\"table\":[{\"cells\":{\"fill\":{\"color\":\"#EBF0F8\"},\"line\":{\"color\":\"white\"}},\"header\":{\"fill\":{\"color\":\"#C8D4E3\"},\"line\":{\"color\":\"white\"}},\"type\":\"table\"}],\"barpolar\":[{\"marker\":{\"line\":{\"color\":\"#E5ECF6\",\"width\":0.5},\"pattern\":{\"fillmode\":\"overlay\",\"size\":10,\"solidity\":0.2}},\"type\":\"barpolar\"}],\"pie\":[{\"automargin\":true,\"type\":\"pie\"}]},\"layout\":{\"autotypenumbers\":\"strict\",\"colorway\":[\"#636efa\",\"#EF553B\",\"#00cc96\",\"#ab63fa\",\"#FFA15A\",\"#19d3f3\",\"#FF6692\",\"#B6E880\",\"#FF97FF\",\"#FECB52\"],\"font\":{\"color\":\"#2a3f5f\"},\"hovermode\":\"closest\",\"hoverlabel\":{\"align\":\"left\"},\"paper_bgcolor\":\"white\",\"plot_bgcolor\":\"#E5ECF6\",\"polar\":{\"bgcolor\":\"#E5ECF6\",\"angularaxis\":{\"gridcolor\":\"white\",\"linecolor\":\"white\",\"ticks\":\"\"},\"radialaxis\":{\"gridcolor\":\"white\",\"linecolor\":\"white\",\"ticks\":\"\"}},\"ternary\":{\"bgcolor\":\"#E5ECF6\",\"aaxis\":{\"gridcolor\":\"white\",\"linecolor\":\"white\",\"ticks\":\"\"},\"baxis\":{\"gridcolor\":\"white\",\"linecolor\":\"white\",\"ticks\":\"\"},\"caxis\":{\"gridcolor\":\"white\",\"linecolor\":\"white\",\"ticks\":\"\"}},\"coloraxis\":{\"colorbar\":{\"outlinewidth\":0,\"ticks\":\"\"}},\"colorscale\":{\"sequential\":[[0.0,\"#0d0887\"],[0.1111111111111111,\"#46039f\"],[0.2222222222222222,\"#7201a8\"],[0.3333333333333333,\"#9c179e\"],[0.4444444444444444,\"#bd3786\"],[0.5555555555555556,\"#d8576b\"],[0.6666666666666666,\"#ed7953\"],[0.7777777777777778,\"#fb9f3a\"],[0.8888888888888888,\"#fdca26\"],[1.0,\"#f0f921\"]],\"sequentialminus\":[[0.0,\"#0d0887\"],[0.1111111111111111,\"#46039f\"],[0.2222222222222222,\"#7201a8\"],[0.3333333333333333,\"#9c179e\"],[0.4444444444444444,\"#bd3786\"],[0.5555555555555556,\"#d8576b\"],[0.6666666666666666,\"#ed7953\"],[0.7777777777777778,\"#fb9f3a\"],[0.8888888888888888,\"#fdca26\"],[1.0,\"#f0f921\"]],\"diverging\":[[0,\"#8e0152\"],[0.1,\"#c51b7d\"],[0.2,\"#de77ae\"],[0.3,\"#f1b6da\"],[0.4,\"#fde0ef\"],[0.5,\"#f7f7f7\"],[0.6,\"#e6f5d0\"],[0.7,\"#b8e186\"],[0.8,\"#7fbc41\"],[0.9,\"#4d9221\"],[1,\"#276419\"]]},\"xaxis\":{\"gridcolor\":\"white\",\"linecolor\":\"white\",\"ticks\":\"\",\"title\":{\"standoff\":15},\"zerolinecolor\":\"white\",\"automargin\":true,\"zerolinewidth\":2},\"yaxis\":{\"gridcolor\":\"white\",\"linecolor\":\"white\",\"ticks\":\"\",\"title\":{\"standoff\":15},\"zerolinecolor\":\"white\",\"automargin\":true,\"zerolinewidth\":2},\"scene\":{\"xaxis\":{\"backgroundcolor\":\"#E5ECF6\",\"gridcolor\":\"white\",\"linecolor\":\"white\",\"showbackground\":true,\"ticks\":\"\",\"zerolinecolor\":\"white\",\"gridwidth\":2},\"yaxis\":{\"backgroundcolor\":\"#E5ECF6\",\"gridcolor\":\"white\",\"linecolor\":\"white\",\"showbackground\":true,\"ticks\":\"\",\"zerolinecolor\":\"white\",\"gridwidth\":2},\"zaxis\":{\"backgroundcolor\":\"#E5ECF6\",\"gridcolor\":\"white\",\"linecolor\":\"white\",\"showbackground\":true,\"ticks\":\"\",\"zerolinecolor\":\"white\",\"gridwidth\":2}},\"shapedefaults\":{\"line\":{\"color\":\"#2a3f5f\"}},\"annotationdefaults\":{\"arrowcolor\":\"#2a3f5f\",\"arrowhead\":0,\"arrowwidth\":1},\"geo\":{\"bgcolor\":\"white\",\"landcolor\":\"#E5ECF6\",\"subunitcolor\":\"white\",\"showland\":true,\"showlakes\":true,\"lakecolor\":\"white\"},\"title\":{\"x\":0.05},\"mapbox\":{\"style\":\"light\"}}},\"xaxis\":{\"anchor\":\"y\",\"domain\":[0.0,1.0],\"title\":{\"text\":\"x\"}},\"yaxis\":{\"anchor\":\"x\",\"domain\":[0.0,1.0],\"title\":{\"text\":\"y\"}},\"legend\":{\"title\":{\"text\":\"color\"},\"tracegroupgap\":0},\"margin\":{\"t\":60},\"title\":{\"text\":\"UMAP vizualization\"}},                        {\"responsive\": true}                    ).then(function(){\n",
              "                            \n",
              "var gd = document.getElementById('617e50e4-7411-4ccc-a390-608bced9c067');\n",
              "var x = new MutationObserver(function (mutations, observer) {{\n",
              "        var display = window.getComputedStyle(gd).display;\n",
              "        if (!display || display === 'none') {{\n",
              "            console.log([gd, 'removed!']);\n",
              "            Plotly.purge(gd);\n",
              "            observer.disconnect();\n",
              "        }}\n",
              "}});\n",
              "\n",
              "// Listen for the removal of the full notebook cells\n",
              "var notebookContainer = gd.closest('#notebook-container');\n",
              "if (notebookContainer) {{\n",
              "    x.observe(notebookContainer, {childList: true});\n",
              "}}\n",
              "\n",
              "// Listen for the clearing of the current output cell\n",
              "var outputEl = gd.closest('.output');\n",
              "if (outputEl) {{\n",
              "    x.observe(outputEl, {childList: true});\n",
              "}}\n",
              "\n",
              "                        })                };                            </script>        </div>\n",
              "</body>\n",
              "</html>"
            ]
          },
          "metadata": {},
          "output_type": "display_data"
        }
      ],
      "source": [
        "umap_2d = UMAP(n_neighbors=15, min_dist=0.1, n_components=2)\n",
        "proj_2d = umap_2d.fit_transform(X)\n",
        "\n",
        "fig = px.scatter(x=proj_2d[:, 0], y=proj_2d[:, 1], color=status)\n",
        "fig.update_layout(\n",
        "    title=\"UMAP vizualization\",\n",
        "    xaxis_title=\"x\",\n",
        "    yaxis_title=\"y\",\n",
        ")\n",
        "fig.show()\n",
        "\n",
        "def UMAP_2d(data, pred):\n",
        "    umap_2d = UMAP(n_neighbors=15, min_dist=0.1, n_components=2)\n",
        "    proj_2d = umap_2d.fit_transform(data)\n",
        "\n",
        "    df = pd.DataFrame({\n",
        "        'x': proj_2d[:, 0],\n",
        "        'y': proj_2d[:, 1],\n",
        "        'cluster': pred,\n",
        "        'status': status.astype(str)\n",
        "    })\n",
        "\n",
        "\n",
        "    fig = px.scatter(df, x='x', y='y',\n",
        "                    color=df['cluster'].astype(str),\n",
        "                    symbol='status',\n",
        "                    labels={'color': 'Cluster', 'symbol': 'Status'})\n",
        "    fig.update_layout(\n",
        "        title=\"UMAP vizualization\",\n",
        "        xaxis_title=\"x\",\n",
        "        yaxis_title=\"y\",\n",
        "    )\n",
        "\n",
        "    fig.show()"
      ]
    },
    {
      "cell_type": "code",
      "execution_count": 12,
      "metadata": {
        "colab": {
          "base_uri": "https://localhost:8080/",
          "height": 611
        },
        "id": "nsILcf1bIq7n",
        "outputId": "55776428-138f-4f36-a7aa-9c66a0622835"
      },
      "outputs": [
        {
          "name": "stderr",
          "output_type": "stream",
          "text": [
            "/usr/local/lib/python3.11/dist-packages/sklearn/utils/deprecation.py:151: FutureWarning:\n",
            "\n",
            "'force_all_finite' was renamed to 'ensure_all_finite' in 1.6 and will be removed in 1.8.\n",
            "\n"
          ]
        },
        {
          "data": {
            "text/html": [
              "<html>\n",
              "<head><meta charset=\"utf-8\" /></head>\n",
              "<body>\n",
              "    <div>            <script src=\"https://cdnjs.cloudflare.com/ajax/libs/mathjax/2.7.5/MathJax.js?config=TeX-AMS-MML_SVG\"></script><script type=\"text/javascript\">if (window.MathJax && window.MathJax.Hub && window.MathJax.Hub.Config) {window.MathJax.Hub.Config({SVG: {font: \"STIX-Web\"}});}</script>                <script type=\"text/javascript\">window.PlotlyConfig = {MathJaxConfig: 'local'};</script>\n",
              "        <script charset=\"utf-8\" src=\"https://cdn.plot.ly/plotly-2.35.2.min.js\"></script>                <div id=\"7882a4b0-9ce5-4586-8489-d4d6bd25e188\" class=\"plotly-graph-div\" style=\"height:525px; width:100%;\"></div>            <script type=\"text/javascript\">                                    window.PLOTLYENV=window.PLOTLYENV || {};                                    if (document.getElementById(\"7882a4b0-9ce5-4586-8489-d4d6bd25e188\")) {                    Plotly.newPlot(                        \"7882a4b0-9ce5-4586-8489-d4d6bd25e188\",                        [{\"hovertemplate\":\"color=graduated\\u003cbr\\u003ex=%{x}\\u003cbr\\u003ey=%{y}\\u003cbr\\u003ez=%{z}\\u003cextra\\u003e\\u003c\\u002fextra\\u003e\",\"legendgroup\":\"graduated\",\"marker\":{\"color\":\"#636efa\",\"symbol\":\"circle\"},\"mode\":\"markers\",\"name\":\"graduated\",\"scene\":\"scene\",\"showlegend\":true,\"x\":[1.920146,4.3545327,7.7920485,7.371718,5.074133,6.5507064,5.4753313,6.1419754,2.4003105,1.4540876,2.0039494,7.7930465,5.0406137,4.4486084,6.113781,5.7389874,6.603675,5.9879,2.509308,2.2783015,6.386247,6.1697197,5.628708,5.5419493,4.8781624,7.2557416,7.7435684,1.8302839,6.485442,5.289758,6.127684,7.917744,1.5690852,6.670502,7.5623913,7.009105,1.9628567,7.733891,1.588709,4.7285485,1.7224425,1.8426337,6.996162,5.9192348,5.375337,5.889887,6.5745625,6.6065187,2.0720134,1.5197006,5.6849627,5.900365,8.107755,5.3449306,7.5306964,6.22227,8.510983,1.9007947,5.9894605,1.869556,4.9320846,2.1539962,1.810229,8.3436365,8.253927,6.0824785,5.8300033,4.5550375,2.2636166,8.319492,8.317815,4.4505343,5.817828,5.626817,5.7048035,5.2386994,5.811669,1.8828113,8.385358,4.4878817,8.262393,4.793412,4.3370886,8.338361,1.4799383,5.5637565,6.427699,8.0851555,5.5554395,7.3477955,7.2815933,8.095408,8.277849,5.954562,1.8067118,4.6414948,4.9783125,4.923809,2.0549405,7.447886,4.3576064,8.037698,5.4383683,8.44635,8.161965,5.9351735,5.7131453,5.0039916,5.245427,7.5251822,2.1485195,4.6313825,8.309214,8.080959,2.2087402,6.1097593,8.490625,8.216766,6.5443425,4.8217683,4.892519,7.8901443,8.634895,8.135854,7.599007,7.203477,6.976173,4.6255074,5.1423874,5.3665767,2.4039195,6.738502,6.054898,2.3945382,6.5848527,1.6060597,4.7863116,7.9521265,6.5771375,7.399724,1.6012447,7.715374,7.3241262,8.356125,7.4824944,8.071923,6.972793,2.284127,7.237006,8.290074,1.5092154,5.9286356,7.1277742,5.8569155,1.4840064,2.2351449,7.4121847,5.804499,7.934539,6.2483535,6.6194415,5.1032653,5.4687214,1.6787595,5.909334,2.140654,7.5643573,5.117448,8.380321,5.847277,5.234076,7.115138,7.519355,5.561685,4.1373672,1.6825801,6.0474086,7.373735,1.4819556,7.364114,1.7483189,1.9889976,6.2738214,7.2142177,6.8030562,8.187446,4.204138,4.2221174,4.241131],\"y\":[2.3792048,7.059192,6.195683,6.103357,7.4969454,6.598545,6.711709,6.6621656,3.037006,2.8578563,2.4347384,7.3514905,6.777766,6.9650397,6.502592,6.68458,7.996919,7.8483105,3.9040666,3.165588,7.276691,7.016815,6.4550366,7.299362,7.614467,5.7637706,7.2865267,2.3488572,7.464789,6.8012857,7.2839227,7.9006515,3.1813889,7.216181,7.9834967,7.8976912,2.9852848,6.9698973,3.3668733,7.33742,3.546539,2.229988,6.1186967,6.1273985,6.823833,6.669008,6.5563107,6.5640755,3.6982431,2.4281695,5.3036537,6.0568147,6.3712254,6.601821,7.7500515,6.633181,7.210184,3.1465762,6.576363,3.2029295,6.82683,3.3227322,2.314316,6.0963516,6.72658,6.2432647,7.0860906,6.9169974,2.9204767,7.409635,6.4471226,7.1171246,6.259851,5.174477,6.827947,6.55104,6.107989,3.5229623,7.271874,6.8293815,7.6027627,7.503202,7.1530285,7.1246996,2.8701825,6.308142,6.5203447,6.358222,6.91503,6.8037105,6.029889,6.651954,7.3968925,5.884836,3.5110457,7.377361,7.6448307,6.8272796,3.296896,8.110778,7.1450753,6.7638927,6.6087155,7.043562,6.3218164,5.708251,6.9703536,6.72387,6.9950876,7.587459,3.1392775,7.4008183,7.172356,6.4825006,3.411349,6.8073006,7.131207,6.532665,6.127986,7.4422016,7.5547767,7.588876,7.4301815,6.052156,6.245606,7.9706078,5.9956074,7.020711,7.7920966,6.6964846,3.146105,7.4370418,6.482448,3.431301,8.154805,2.32626,6.821534,6.9666877,6.50225,8.297929,2.4103775,6.2022114,8.157911,6.0856605,6.105128,6.253477,6.3748226,3.7962666,6.797643,6.000414,3.0431354,8.299597,6.3452435,6.9952955,3.1033208,3.2722437,8.301527,5.6457944,6.317323,7.2066827,6.495115,7.817326,6.449474,3.1590445,6.3885846,3.244904,8.009827,4.810377,7.0709743,6.6934605,7.934484,6.960957,8.012871,6.806067,7.1208477,3.551157,6.961806,8.300714,2.6646798,8.065481,3.0725203,3.4843717,6.739804,6.2473226,6.3253064,7.704126,7.1199694,7.118388,7.0946627],\"z\":[2.183401,5.38175,3.9513001,4.321933,4.553719,5.480228,5.4710917,3.3726635,1.7172358,1.7147654,2.2912362,1.8406895,4.8772373,5.2036824,3.4313679,5.565731,3.4776986,3.6163573,2.473681,1.6017826,4.320611,4.09962,4.718793,5.2362633,4.8861427,3.073334,2.25022,2.1906993,3.4528477,5.587528,3.548836,2.325051,1.8538309,2.125088,2.5303483,3.1752102,2.3689008,2.2234983,2.1118617,5.0802755,1.6252804,2.3720906,4.641341,4.999715,4.817939,5.361489,5.484266,5.483377,1.8562542,2.072477,3.203405,4.848133,2.7269006,5.3282413,2.2757738,5.482677,3.781927,2.0306404,3.0074756,1.9162636,4.8309035,2.330079,2.22271,3.253331,3.4902794,3.9720938,5.057118,5.3960314,2.369293,3.7105951,3.1161473,5.4907517,4.943725,3.136636,4.9427934,5.3015018,4.6888485,1.7972416,3.423113,5.3022656,3.682295,5.1179585,5.218639,3.769513,1.5232872,3.76473,5.4015684,3.600917,4.278746,4.1234403,4.11829,2.8078616,1.9776751,4.2348657,1.4733479,4.8377695,4.790671,4.502662,2.467484,4.92917,5.3942013,3.4316695,5.4507513,3.3170276,3.8134,3.6640093,3.5061266,4.905037,4.83073,1.9084195,2.4759433,5.381713,3.055461,3.642015,1.7046294,2.5366855,3.7746453,3.7989454,2.9527187,5.293237,4.6917586,1.9661155,3.5557828,3.0744119,2.643202,3.8423452,2.8349237,5.361718,4.5017347,4.878539,2.0692866,2.232223,5.46051,1.8428091,3.3879144,2.1818657,5.413582,3.7439394,5.2248425,2.5250947,2.2406747,2.688678,2.4079323,3.2848473,2.4805536,2.9243941,2.7807913,2.3403609,4.287628,3.3935118,1.9469115,3.068548,4.7005997,5.4664745,1.9196706,2.3944535,2.536031,3.9126332,3.8797789,4.781137,5.408718,4.3107886,3.749229,1.3668232,5.289161,2.3866804,2.3544812,3.0240664,3.7519944,5.234367,4.1376185,4.002263,2.7212207,5.154835,5.315639,2.6301339,2.7402136,2.5834825,1.881111,2.3810728,1.3625417,2.061506,4.5079794,2.658403,2.8631985,2.261671,5.361007,5.2133894,5.386249],\"type\":\"scatter3d\"},{\"hovertemplate\":\"color=retired\\u003cbr\\u003ex=%{x}\\u003cbr\\u003ey=%{y}\\u003cbr\\u003ez=%{z}\\u003cextra\\u003e\\u003c\\u002fextra\\u003e\",\"legendgroup\":\"retired\",\"marker\":{\"color\":\"#EF553B\",\"symbol\":\"circle\"},\"mode\":\"markers\",\"name\":\"retired\",\"scene\":\"scene\",\"showlegend\":true,\"x\":[2.3215222,5.158922,6.075005,6.0679426,7.963478,2.6489873,6.5142093,2.2387924,5.7305427,1.3867637,7.6137915,6.543687,6.3825073,1.8046162,5.4560013,4.953102,5.3888316,8.182178,2.0505364,6.2019,1.7301228,2.27329,1.795447,6.18712,1.4499431,5.0679836,1.9952747,2.2766461,5.6437516,1.6497135,2.048429,6.147939,7.361737,5.5670743,7.9345784,6.144453,1.9653075,1.853684,7.453884,2.135285,6.1107793,6.098703,6.966303,2.333389,5.716989,8.386979,7.225955],\"y\":[3.648108,4.8660493,6.5677166,6.6273136,6.845595,4.015759,5.7146497,2.3771307,6.2596908,2.8861244,7.801705,6.5237737,6.664797,3.2893832,5.794488,4.6685915,5.9120874,6.1672373,2.2900074,8.006437,3.5462434,2.4418044,3.4382205,6.7740574,3.0364187,4.823252,3.094927,2.8437948,6.7650585,3.4617493,3.3126402,6.6362586,6.662182,6.4352245,6.5512695,7.273896,2.274188,2.3126388,6.4905534,2.973621,7.1342854,6.7823043,7.791732,3.052639,7.6164417,7.0948133,6.812466],\"z\":[2.3891435,3.0425284,3.3475583,3.7227416,3.1853528,2.544076,3.2190142,2.5397587,3.534537,1.6651182,2.8770807,2.8405113,3.0035305,2.2476456,3.3014865,2.9745846,3.3104017,3.283316,2.4602969,3.6215672,1.6395975,2.5199153,1.9043996,4.252475,1.597698,3.0239916,2.350206,1.7169577,3.5288239,1.6169138,2.1352935,2.9980395,3.7427838,3.3859308,3.649069,3.2588785,2.466435,2.3106647,2.5000699,1.3534237,2.9413223,2.6935847,2.2898624,1.514517,2.9790375,3.578594,4.1060944],\"type\":\"scatter3d\"},{\"hovertemplate\":\"color=bypassed\\u003cbr\\u003ex=%{x}\\u003cbr\\u003ey=%{y}\\u003cbr\\u003ez=%{z}\\u003cextra\\u003e\\u003c\\u002fextra\\u003e\",\"legendgroup\":\"bypassed\",\"marker\":{\"color\":\"#00cc96\",\"symbol\":\"circle\"},\"mode\":\"markers\",\"name\":\"bypassed\",\"scene\":\"scene\",\"showlegend\":true,\"x\":[7.4521036,7.486413,7.409097,8.267798,2.4787955,6.1127744,2.379322,8.113102,5.1130548,4.9069047,7.979347,7.147885,7.853293,6.9848685,6.8108315,5.674674,6.5489297,6.1279426,6.951533,7.9987617,5.462905,6.058944,5.9561086,8.16577,6.748128,6.3914127,6.6054964,5.4019074,6.3488207,5.9824038,6.3071775,7.5136547,7.6297736,6.2882786,6.0887446,7.7198997,7.634085,7.9000854,8.270786,7.468399,6.1378293,7.425176,7.301335,6.991928,6.02944,1.8153065,6.05414,8.181153,6.5639095,5.9041414,6.483451,7.23882,5.9809866,6.544779,8.21774,4.988369,6.286257,7.9970064,7.529218,7.492895,8.1364155,1.6684425,7.969673,7.340553,7.2717924,7.608128,5.8042154,7.4463363,6.2444024,7.4232154,6.491549,7.4162645,6.4290705,5.8679957,7.71998,7.9727125,1.9067394,7.0263915,6.4770494,8.124871,5.733305,5.112025,4.6576657,5.891764,5.0005546,7.136036,7.265492,2.471018,1.563714,7.5013847,5.8010707,1.3651162,1.8878452,4.9574547,4.7932386,8.07282,6.0905504,7.4306803,5.775701],\"y\":[8.36929,8.574748,8.38112,7.641404,3.003474,6.0573845,3.1404252,6.454637,6.6928563,7.543493,6.9730334,5.8690476,7.3915787,7.203319,7.854798,5.905018,8.416948,8.477965,8.398515,7.064324,6.603808,6.8801165,7.8029785,7.2830987,7.3327174,7.9941435,7.995074,5.076363,8.433075,7.834551,6.8756146,8.550696,7.571654,8.6071005,7.2087655,7.752378,7.243229,7.118555,7.139925,8.562097,8.400781,6.548382,7.261822,6.2595224,7.7487698,3.5317564,7.6075525,7.172388,6.998381,7.4937277,8.29069,7.302456,7.064743,7.628722,7.2139683,7.6388474,8.583566,6.5708375,8.295231,8.546568,7.0904884,3.4366841,7.1798725,7.1027203,8.365788,6.5510674,5.2842565,8.617477,7.190507,8.641195,8.4762125,8.284535,8.576379,5.6923404,6.554083,5.9292393,2.391587,6.0881944,5.579611,7.039487,5.6275587,6.7185316,7.237124,6.9951544,7.2893887,5.770995,8.065081,3.113487,2.2973454,6.593535,5.7707043,2.9571617,3.6311352,6.8295274,7.4460473,7.2468204,7.083569,8.510339,7.0336933],\"z\":[5.0245123,4.772813,5.067674,2.3955977,1.958768,4.9463673,1.4393744,3.8533344,5.314368,4.634287,2.0459473,2.9102197,2.2176397,2.1066656,3.3655066,3.511264,3.6300633,3.1281443,3.8463123,1.9005637,3.449102,2.6023564,3.553539,2.9075792,2.1730921,3.5726173,3.5788596,3.1537087,3.3462129,3.5725558,2.3237455,4.5142894,2.2919996,3.3131351,2.5893195,2.3561096,2.0584667,1.8924718,3.678424,4.4548435,3.0814812,2.3444986,1.8936528,2.3297544,3.5968595,1.4614711,3.4988623,3.2986205,2.2159836,3.6940098,3.5861602,2.0449898,2.8976288,3.1019511,1.7773819,4.3209047,3.6011567,3.7157326,5.010979,4.4795127,1.7216427,1.4332057,2.0058737,4.1414933,4.9813457,2.7231972,3.0937266,4.83299,3.546123,4.8974705,3.3360279,4.901481,3.4843106,3.607492,2.173858,2.9672885,2.4317882,2.531773,3.064837,1.8162482,3.4368482,3.9762335,5.13138,2.9646392,5.202316,2.9093614,2.3583775,1.6388028,2.2328937,2.6247349,3.634445,1.4804579,1.8405831,4.310627,4.6160436,1.7600782,2.455757,4.944118,5.4288464],\"type\":\"scatter3d\"}],                        {\"template\":{\"data\":{\"histogram2dcontour\":[{\"type\":\"histogram2dcontour\",\"colorbar\":{\"outlinewidth\":0,\"ticks\":\"\"},\"colorscale\":[[0.0,\"#0d0887\"],[0.1111111111111111,\"#46039f\"],[0.2222222222222222,\"#7201a8\"],[0.3333333333333333,\"#9c179e\"],[0.4444444444444444,\"#bd3786\"],[0.5555555555555556,\"#d8576b\"],[0.6666666666666666,\"#ed7953\"],[0.7777777777777778,\"#fb9f3a\"],[0.8888888888888888,\"#fdca26\"],[1.0,\"#f0f921\"]]}],\"choropleth\":[{\"type\":\"choropleth\",\"colorbar\":{\"outlinewidth\":0,\"ticks\":\"\"}}],\"histogram2d\":[{\"type\":\"histogram2d\",\"colorbar\":{\"outlinewidth\":0,\"ticks\":\"\"},\"colorscale\":[[0.0,\"#0d0887\"],[0.1111111111111111,\"#46039f\"],[0.2222222222222222,\"#7201a8\"],[0.3333333333333333,\"#9c179e\"],[0.4444444444444444,\"#bd3786\"],[0.5555555555555556,\"#d8576b\"],[0.6666666666666666,\"#ed7953\"],[0.7777777777777778,\"#fb9f3a\"],[0.8888888888888888,\"#fdca26\"],[1.0,\"#f0f921\"]]}],\"heatmap\":[{\"type\":\"heatmap\",\"colorbar\":{\"outlinewidth\":0,\"ticks\":\"\"},\"colorscale\":[[0.0,\"#0d0887\"],[0.1111111111111111,\"#46039f\"],[0.2222222222222222,\"#7201a8\"],[0.3333333333333333,\"#9c179e\"],[0.4444444444444444,\"#bd3786\"],[0.5555555555555556,\"#d8576b\"],[0.6666666666666666,\"#ed7953\"],[0.7777777777777778,\"#fb9f3a\"],[0.8888888888888888,\"#fdca26\"],[1.0,\"#f0f921\"]]}],\"heatmapgl\":[{\"type\":\"heatmapgl\",\"colorbar\":{\"outlinewidth\":0,\"ticks\":\"\"},\"colorscale\":[[0.0,\"#0d0887\"],[0.1111111111111111,\"#46039f\"],[0.2222222222222222,\"#7201a8\"],[0.3333333333333333,\"#9c179e\"],[0.4444444444444444,\"#bd3786\"],[0.5555555555555556,\"#d8576b\"],[0.6666666666666666,\"#ed7953\"],[0.7777777777777778,\"#fb9f3a\"],[0.8888888888888888,\"#fdca26\"],[1.0,\"#f0f921\"]]}],\"contourcarpet\":[{\"type\":\"contourcarpet\",\"colorbar\":{\"outlinewidth\":0,\"ticks\":\"\"}}],\"contour\":[{\"type\":\"contour\",\"colorbar\":{\"outlinewidth\":0,\"ticks\":\"\"},\"colorscale\":[[0.0,\"#0d0887\"],[0.1111111111111111,\"#46039f\"],[0.2222222222222222,\"#7201a8\"],[0.3333333333333333,\"#9c179e\"],[0.4444444444444444,\"#bd3786\"],[0.5555555555555556,\"#d8576b\"],[0.6666666666666666,\"#ed7953\"],[0.7777777777777778,\"#fb9f3a\"],[0.8888888888888888,\"#fdca26\"],[1.0,\"#f0f921\"]]}],\"surface\":[{\"type\":\"surface\",\"colorbar\":{\"outlinewidth\":0,\"ticks\":\"\"},\"colorscale\":[[0.0,\"#0d0887\"],[0.1111111111111111,\"#46039f\"],[0.2222222222222222,\"#7201a8\"],[0.3333333333333333,\"#9c179e\"],[0.4444444444444444,\"#bd3786\"],[0.5555555555555556,\"#d8576b\"],[0.6666666666666666,\"#ed7953\"],[0.7777777777777778,\"#fb9f3a\"],[0.8888888888888888,\"#fdca26\"],[1.0,\"#f0f921\"]]}],\"mesh3d\":[{\"type\":\"mesh3d\",\"colorbar\":{\"outlinewidth\":0,\"ticks\":\"\"}}],\"scatter\":[{\"fillpattern\":{\"fillmode\":\"overlay\",\"size\":10,\"solidity\":0.2},\"type\":\"scatter\"}],\"parcoords\":[{\"type\":\"parcoords\",\"line\":{\"colorbar\":{\"outlinewidth\":0,\"ticks\":\"\"}}}],\"scatterpolargl\":[{\"type\":\"scatterpolargl\",\"marker\":{\"colorbar\":{\"outlinewidth\":0,\"ticks\":\"\"}}}],\"bar\":[{\"error_x\":{\"color\":\"#2a3f5f\"},\"error_y\":{\"color\":\"#2a3f5f\"},\"marker\":{\"line\":{\"color\":\"#E5ECF6\",\"width\":0.5},\"pattern\":{\"fillmode\":\"overlay\",\"size\":10,\"solidity\":0.2}},\"type\":\"bar\"}],\"scattergeo\":[{\"type\":\"scattergeo\",\"marker\":{\"colorbar\":{\"outlinewidth\":0,\"ticks\":\"\"}}}],\"scatterpolar\":[{\"type\":\"scatterpolar\",\"marker\":{\"colorbar\":{\"outlinewidth\":0,\"ticks\":\"\"}}}],\"histogram\":[{\"marker\":{\"pattern\":{\"fillmode\":\"overlay\",\"size\":10,\"solidity\":0.2}},\"type\":\"histogram\"}],\"scattergl\":[{\"type\":\"scattergl\",\"marker\":{\"colorbar\":{\"outlinewidth\":0,\"ticks\":\"\"}}}],\"scatter3d\":[{\"type\":\"scatter3d\",\"line\":{\"colorbar\":{\"outlinewidth\":0,\"ticks\":\"\"}},\"marker\":{\"colorbar\":{\"outlinewidth\":0,\"ticks\":\"\"}}}],\"scattermapbox\":[{\"type\":\"scattermapbox\",\"marker\":{\"colorbar\":{\"outlinewidth\":0,\"ticks\":\"\"}}}],\"scatterternary\":[{\"type\":\"scatterternary\",\"marker\":{\"colorbar\":{\"outlinewidth\":0,\"ticks\":\"\"}}}],\"scattercarpet\":[{\"type\":\"scattercarpet\",\"marker\":{\"colorbar\":{\"outlinewidth\":0,\"ticks\":\"\"}}}],\"carpet\":[{\"aaxis\":{\"endlinecolor\":\"#2a3f5f\",\"gridcolor\":\"white\",\"linecolor\":\"white\",\"minorgridcolor\":\"white\",\"startlinecolor\":\"#2a3f5f\"},\"baxis\":{\"endlinecolor\":\"#2a3f5f\",\"gridcolor\":\"white\",\"linecolor\":\"white\",\"minorgridcolor\":\"white\",\"startlinecolor\":\"#2a3f5f\"},\"type\":\"carpet\"}],\"table\":[{\"cells\":{\"fill\":{\"color\":\"#EBF0F8\"},\"line\":{\"color\":\"white\"}},\"header\":{\"fill\":{\"color\":\"#C8D4E3\"},\"line\":{\"color\":\"white\"}},\"type\":\"table\"}],\"barpolar\":[{\"marker\":{\"line\":{\"color\":\"#E5ECF6\",\"width\":0.5},\"pattern\":{\"fillmode\":\"overlay\",\"size\":10,\"solidity\":0.2}},\"type\":\"barpolar\"}],\"pie\":[{\"automargin\":true,\"type\":\"pie\"}]},\"layout\":{\"autotypenumbers\":\"strict\",\"colorway\":[\"#636efa\",\"#EF553B\",\"#00cc96\",\"#ab63fa\",\"#FFA15A\",\"#19d3f3\",\"#FF6692\",\"#B6E880\",\"#FF97FF\",\"#FECB52\"],\"font\":{\"color\":\"#2a3f5f\"},\"hovermode\":\"closest\",\"hoverlabel\":{\"align\":\"left\"},\"paper_bgcolor\":\"white\",\"plot_bgcolor\":\"#E5ECF6\",\"polar\":{\"bgcolor\":\"#E5ECF6\",\"angularaxis\":{\"gridcolor\":\"white\",\"linecolor\":\"white\",\"ticks\":\"\"},\"radialaxis\":{\"gridcolor\":\"white\",\"linecolor\":\"white\",\"ticks\":\"\"}},\"ternary\":{\"bgcolor\":\"#E5ECF6\",\"aaxis\":{\"gridcolor\":\"white\",\"linecolor\":\"white\",\"ticks\":\"\"},\"baxis\":{\"gridcolor\":\"white\",\"linecolor\":\"white\",\"ticks\":\"\"},\"caxis\":{\"gridcolor\":\"white\",\"linecolor\":\"white\",\"ticks\":\"\"}},\"coloraxis\":{\"colorbar\":{\"outlinewidth\":0,\"ticks\":\"\"}},\"colorscale\":{\"sequential\":[[0.0,\"#0d0887\"],[0.1111111111111111,\"#46039f\"],[0.2222222222222222,\"#7201a8\"],[0.3333333333333333,\"#9c179e\"],[0.4444444444444444,\"#bd3786\"],[0.5555555555555556,\"#d8576b\"],[0.6666666666666666,\"#ed7953\"],[0.7777777777777778,\"#fb9f3a\"],[0.8888888888888888,\"#fdca26\"],[1.0,\"#f0f921\"]],\"sequentialminus\":[[0.0,\"#0d0887\"],[0.1111111111111111,\"#46039f\"],[0.2222222222222222,\"#7201a8\"],[0.3333333333333333,\"#9c179e\"],[0.4444444444444444,\"#bd3786\"],[0.5555555555555556,\"#d8576b\"],[0.6666666666666666,\"#ed7953\"],[0.7777777777777778,\"#fb9f3a\"],[0.8888888888888888,\"#fdca26\"],[1.0,\"#f0f921\"]],\"diverging\":[[0,\"#8e0152\"],[0.1,\"#c51b7d\"],[0.2,\"#de77ae\"],[0.3,\"#f1b6da\"],[0.4,\"#fde0ef\"],[0.5,\"#f7f7f7\"],[0.6,\"#e6f5d0\"],[0.7,\"#b8e186\"],[0.8,\"#7fbc41\"],[0.9,\"#4d9221\"],[1,\"#276419\"]]},\"xaxis\":{\"gridcolor\":\"white\",\"linecolor\":\"white\",\"ticks\":\"\",\"title\":{\"standoff\":15},\"zerolinecolor\":\"white\",\"automargin\":true,\"zerolinewidth\":2},\"yaxis\":{\"gridcolor\":\"white\",\"linecolor\":\"white\",\"ticks\":\"\",\"title\":{\"standoff\":15},\"zerolinecolor\":\"white\",\"automargin\":true,\"zerolinewidth\":2},\"scene\":{\"xaxis\":{\"backgroundcolor\":\"#E5ECF6\",\"gridcolor\":\"white\",\"linecolor\":\"white\",\"showbackground\":true,\"ticks\":\"\",\"zerolinecolor\":\"white\",\"gridwidth\":2},\"yaxis\":{\"backgroundcolor\":\"#E5ECF6\",\"gridcolor\":\"white\",\"linecolor\":\"white\",\"showbackground\":true,\"ticks\":\"\",\"zerolinecolor\":\"white\",\"gridwidth\":2},\"zaxis\":{\"backgroundcolor\":\"#E5ECF6\",\"gridcolor\":\"white\",\"linecolor\":\"white\",\"showbackground\":true,\"ticks\":\"\",\"zerolinecolor\":\"white\",\"gridwidth\":2}},\"shapedefaults\":{\"line\":{\"color\":\"#2a3f5f\"}},\"annotationdefaults\":{\"arrowcolor\":\"#2a3f5f\",\"arrowhead\":0,\"arrowwidth\":1},\"geo\":{\"bgcolor\":\"white\",\"landcolor\":\"#E5ECF6\",\"subunitcolor\":\"white\",\"showland\":true,\"showlakes\":true,\"lakecolor\":\"white\"},\"title\":{\"x\":0.05},\"mapbox\":{\"style\":\"light\"}}},\"scene\":{\"domain\":{\"x\":[0.0,1.0],\"y\":[0.0,1.0]},\"xaxis\":{\"title\":{\"text\":\"x\"}},\"yaxis\":{\"title\":{\"text\":\"y\"}},\"zaxis\":{\"title\":{\"text\":\"z\"}}},\"legend\":{\"title\":{\"text\":\"color\"},\"tracegroupgap\":0},\"margin\":{\"t\":60},\"title\":{\"text\":\"UMAP vizualization\"}},                        {\"responsive\": true}                    ).then(function(){\n",
              "                            \n",
              "var gd = document.getElementById('7882a4b0-9ce5-4586-8489-d4d6bd25e188');\n",
              "var x = new MutationObserver(function (mutations, observer) {{\n",
              "        var display = window.getComputedStyle(gd).display;\n",
              "        if (!display || display === 'none') {{\n",
              "            console.log([gd, 'removed!']);\n",
              "            Plotly.purge(gd);\n",
              "            observer.disconnect();\n",
              "        }}\n",
              "}});\n",
              "\n",
              "// Listen for the removal of the full notebook cells\n",
              "var notebookContainer = gd.closest('#notebook-container');\n",
              "if (notebookContainer) {{\n",
              "    x.observe(notebookContainer, {childList: true});\n",
              "}}\n",
              "\n",
              "// Listen for the clearing of the current output cell\n",
              "var outputEl = gd.closest('.output');\n",
              "if (outputEl) {{\n",
              "    x.observe(outputEl, {childList: true});\n",
              "}}\n",
              "\n",
              "                        })                };                            </script>        </div>\n",
              "</body>\n",
              "</html>"
            ]
          },
          "metadata": {},
          "output_type": "display_data"
        }
      ],
      "source": [
        "umap_3d = UMAP(n_neighbors=15, min_dist=0.1, n_components=3)\n",
        "proj_3d = umap_3d.fit_transform(X)\n",
        "\n",
        "\n",
        "fig = px.scatter_3d(x=proj_3d[:, 0], y=proj_3d[:, 1], z=proj_3d[:, 2], color=status)\n",
        "fig.update_layout(\n",
        "    title=\"UMAP vizualization\",\n",
        "    scene=dict(\n",
        "        xaxis_title=\"x\",\n",
        "        yaxis_title=\"y\",\n",
        "        zaxis_title=\"z\"\n",
        "    )\n",
        ")\n",
        "\n",
        "fig.show()"
      ]
    },
    {
      "cell_type": "markdown",
      "metadata": {
        "id": "sQ_TUuAme4Zu"
      },
      "source": [
        "#Models"
      ]
    },
    {
      "cell_type": "markdown",
      "metadata": {
        "id": "xX5gK_EyV5NG"
      },
      "source": [
        "##DBScan"
      ]
    },
    {
      "cell_type": "markdown",
      "metadata": {
        "id": "tbzdYriwdFZQ"
      },
      "source": [
        "###Elbow method"
      ]
    },
    {
      "cell_type": "code",
      "execution_count": 43,
      "metadata": {
        "colab": {
          "base_uri": "https://localhost:8080/",
          "height": 489
        },
        "id": "L_tpeeQdV8-0",
        "outputId": "656324c2-0ddf-475c-a14f-80a3939350a7"
      },
      "outputs": [
        {
          "data": {
            "image/png": "[encoded data removed]",
            "text/plain": [
              "<Figure size 640x480 with 1 Axes>"
            ]
          },
          "metadata": {},
          "output_type": "display_data"
        },
        {
          "name": "stdout",
          "output_type": "stream",
          "text": [
            "Suggested eps value: 5.4559\n"
          ]
        }
      ],
      "source": [
        "min_samples = len(features) * 2\n",
        "\n",
        "k = min_samples\n",
        "neigh = NearestNeighbors(n_neighbors=k)\n",
        "nbrs = neigh.fit(X)\n",
        "distances, indices = nbrs.kneighbors(X)\n",
        "\n",
        "distances = np.sort(distances[:, k-1], axis=0)\n",
        "\n",
        "\n",
        "def find_elbow(distances):\n",
        "    n_points = len(distances)\n",
        "    all_coords = np.vstack((range(n_points), distances)).T\n",
        "    first_point = all_coords[0]\n",
        "    last_point = all_coords[-1]\n",
        "\n",
        "    line_vec = last_point - first_point\n",
        "    line_vec_norm = line_vec / np.linalg.norm(line_vec)\n",
        "\n",
        "    vec_from_first = all_coords - first_point\n",
        "    scalar_product = np.sum(vec_from_first * np.tile(line_vec_norm, (n_points, 1)), axis=1)\n",
        "    vec_projected = np.outer(scalar_product, line_vec_norm)\n",
        "    vec_to_line = vec_from_first - vec_projected\n",
        "    distances_to_line = np.linalg.norm(vec_to_line, axis=1)\n",
        "\n",
        "    elbow_index = np.argmax(distances_to_line)\n",
        "    return elbow_index, distances[elbow_index]\n",
        "\n",
        "\n",
        "elbow_index, elbow_value = find_elbow(distances)\n",
        "\n",
        "\n",
        "plt.plot(distances, label='k-distance')\n",
        "plt.axvline(elbow_index, color='r', linestyle='--', label='Elbow point')\n",
        "plt.axhline(elbow_value, color='g', linestyle='--')\n",
        "plt.scatter(elbow_index, elbow_value, color='red', label=f'eps ~ {elbow_value:.2f}')\n",
        "plt.legend()\n",
        "plt.title('Elbow Detection for DBSCAN eps')\n",
        "plt.xlabel('Points sorted by distance')\n",
        "plt.ylabel(f'{k}-nearest neighbor distance')\n",
        "plt.show()\n",
        "\n",
        "print(f\"Suggested eps value: {elbow_value:.4f}\")"
      ]
    },
    {
      "cell_type": "code",
      "execution_count": 44,
      "metadata": {
        "colab": {
          "base_uri": "https://localhost:8080/",
          "height": 611
        },
        "id": "JOQ9QQMyWkue",
        "outputId": "80d29bdd-f478-4b40-8e9d-e91cd75f41a7"
      },
      "outputs": [
        {
          "name": "stderr",
          "output_type": "stream",
          "text": [
            "/usr/local/lib/python3.11/dist-packages/sklearn/utils/deprecation.py:151: FutureWarning:\n",
            "\n",
            "'force_all_finite' was renamed to 'ensure_all_finite' in 1.6 and will be removed in 1.8.\n",
            "\n"
          ]
        },
        {
          "data": {
            "text/html": [
              "<html>\n",
              "<head><meta charset=\"utf-8\" /></head>\n",
              "<body>\n",
              "    <div>            <script src=\"https://cdnjs.cloudflare.com/ajax/libs/mathjax/2.7.5/MathJax.js?config=TeX-AMS-MML_SVG\"></script><script type=\"text/javascript\">if (window.MathJax && window.MathJax.Hub && window.MathJax.Hub.Config) {window.MathJax.Hub.Config({SVG: {font: \"STIX-Web\"}});}</script>                <script type=\"text/javascript\">window.PlotlyConfig = {MathJaxConfig: 'local'};</script>\n",
              "        <script charset=\"utf-8\" src=\"https://cdn.plot.ly/plotly-2.35.2.min.js\"></script>                <div id=\"cb5150e6-ee64-4720-891b-c8547e1cd087\" class=\"plotly-graph-div\" style=\"height:525px; width:100%;\"></div>            <script type=\"text/javascript\">                                    window.PLOTLYENV=window.PLOTLYENV || {};                                    if (document.getElementById(\"cb5150e6-ee64-4720-891b-c8547e1cd087\")) {                    Plotly.newPlot(                        \"cb5150e6-ee64-4720-891b-c8547e1cd087\",                        [{\"hovertemplate\":\"Cluster=0\\u003cbr\\u003estatus=graduated\\u003cbr\\u003ex=%{x}\\u003cbr\\u003ey=%{y}\\u003cextra\\u003e\\u003c\\u002fextra\\u003e\",\"legendgroup\":\"0, graduated\",\"marker\":{\"color\":\"#636efa\",\"symbol\":\"circle\"},\"mode\":\"markers\",\"name\":\"0, graduated\",\"orientation\":\"v\",\"showlegend\":true,\"x\":[2.6280038,9.829713,11.291244,11.136536,9.377174,10.379041,8.949896,1.3390278,2.3278825,2.6925507,9.161584,9.646778,9.820715,9.010382,7.87667,7.548071,2.3096204,1.4368587,9.955195,9.570015,9.912518,9.355328,10.196759,9.451545,2.7350311,8.421366,10.298427,8.355254,9.328772,2.2164857,8.660548,8.860828,8.069667,2.180944,9.650178,2.2675948,9.70544,1.8624068,2.9268084,10.936609,9.8566885,10.755922,1.8027022,2.8250263,7.98546,10.400348,10.573376,8.986876,11.235256,1.8273882,9.13691,2.1617887,9.598556,1.8420422,2.826974,10.871149,10.912323,9.33588,10.064806,10.039224,2.3561347,11.332248,10.6729965,9.88811,10.349538,7.945272,9.930137,10.346522,10.272088,1.6769587,10.8954525,9.7158375,11.076857,9.528436,9.516448,11.134051,2.2407882,8.853193,10.960748,10.975376,9.29031,10.570112,11.060917,10.283832,9.506589,9.552853,1.5992854,9.333756,9.330575,9.308565,2.2536652,9.807555,10.75644,10.576346,10.985415,11.1851425,8.43325,8.74131,9.461366,9.662818,8.869319,2.20927,9.906184,10.497559,10.962657,1.8101718,8.959884,11.351703,11.126536,9.562357,9.744658,9.172616,9.270903,11.127772,10.621183,10.079475,8.842338,9.905294,9.98488,9.03476,9.916086,1.6670876,8.649517,10.704958,1.6904639,7.795719,2.9659011,10.175498,10.893049,10.900926,8.5988035,2.8786728,10.266784,8.611198,10.89131,9.966272,10.540851,9.667426,2.275274,11.095406,2.5294147,8.188893,10.960796,2.3456593,1.8683875,8.544474,8.638858,11.329385,8.860473,8.950593,1.571544,10.68891,1.860568,8.907054,3.7194555,11.301995,10.802848,8.806751,10.292167,8.743034,10.466093,2.5857847,8.683294,8.602276,2.6921117,8.70028,1.3862188,1.9148898,9.862334,9.75556,9.557768,9.638734],\"xaxis\":\"x\",\"y\":[7.34724,7.415619,11.612708,10.734133,8.316884,8.418046,10.523746,7.3836517,6.6446157,7.5199885,12.697729,8.4728155,7.700342,10.324192,11.291027,10.61592,8.120211,7.081978,10.010465,10.051639,9.224349,7.927081,11.193145,12.95708,7.336315,10.981625,8.244422,10.687354,13.222912,6.8950047,12.1556,13.693592,11.495442,7.344308,12.560056,7.074,7.783684,6.823089,7.183043,10.184186,8.789339,8.698507,7.1361628,6.900206,9.471584,12.078021,8.325799,13.443406,12.6108465,7.1934195,10.61172,7.2491775,8.405094,7.719653,7.2625813,11.667983,12.3356085,9.936091,9.265863,7.542814,7.724547,12.67229,11.900007,7.4603815,9.0963335,9.314566,8.979763,8.170858,9.3526325,7.0009246,12.809323,7.5606246,12.846239,7.8564796,7.433601,12.590856,6.576214,9.853765,9.298925,12.020257,9.699394,10.609828,10.936534,12.248452,13.013991,9.549354,6.8658633,7.826302,8.074678,8.695388,7.8687134,7.3662553,12.420352,8.372299,12.638189,11.89492,9.763475,10.720174,8.662329,8.737061,12.701079,7.7818184,7.4582915,12.779643,12.187726,7.235917,11.190468,12.561473,12.06359,10.981213,7.901112,8.270498,13.059176,12.796724,11.608284,11.815259,11.890854,11.167898,7.627136,8.405183,8.825869,7.669189,12.193232,8.90273,7.73964,11.403071,7.008064,7.786822,12.317075,9.514485,13.626124,7.0549984,11.8259535,13.324367,11.61705,11.872136,11.861661,11.369746,7.922773,11.376754,6.725946,12.119201,10.1261835,6.728864,7.8285584,13.599954,9.521667,11.843625,8.3544235,9.692153,6.557902,9.010066,7.7686605,13.338304,7.64103,12.50646,8.435126,8.644957,10.491968,13.712501,8.421231,7.933085,11.20098,13.697924,6.6803637,13.501852,6.6828074,7.457772,9.886611,11.623949,11.238139,13.183448],\"yaxis\":\"y\",\"type\":\"scatter\"},{\"hovertemplate\":\"Cluster=0\\u003cbr\\u003estatus=retired\\u003cbr\\u003ex=%{x}\\u003cbr\\u003ey=%{y}\\u003cextra\\u003e\\u003c\\u002fextra\\u003e\",\"legendgroup\":\"0, retired\",\"marker\":{\"color\":\"#636efa\",\"symbol\":\"diamond\"},\"mode\":\"markers\",\"name\":\"0, retired\",\"orientation\":\"v\",\"showlegend\":true,\"x\":[2.222124,3.9540462,8.972425,8.795898,10.530267,9.711918,3.2760382,8.681961,2.282324,8.876757,9.388824,9.177821,2.0042093,8.361002,3.5445383,8.404305,10.842657,3.2108617,7.5315027,1.8189615,3.2624087,1.7372419,9.518179,2.1675706,3.8107235,2.0339172,1.2714669,8.49139,1.868773,2.0707197,9.083664,10.604066,8.5536375,11.074395,8.45099,2.9061096,2.794016,9.7906,1.287608,8.393133,8.842208,8.645799,1.2404577,11.143802],\"xaxis\":\"x\",\"y\":[7.811952,7.7925997,10.530829,10.355866,12.454665,10.80689,7.4786234,10.085579,6.605296,13.720206,11.12906,11.013458,7.26406,9.481229,7.5301523,9.312114,11.602511,7.428132,10.896976,6.8441854,7.5057616,7.11603,9.957948,6.5942135,7.6760545,7.4606605,7.275893,10.130284,6.736996,7.6112123,10.788871,11.143436,10.24355,11.90047,10.885824,7.326631,7.447643,12.057008,6.728308,11.165342,11.07931,13.073395,7.0004625,12.466675],\"yaxis\":\"y\",\"type\":\"scatter\"},{\"hovertemplate\":\"Cluster=0\\u003cbr\\u003estatus=bypassed\\u003cbr\\u003ex=%{x}\\u003cbr\\u003ey=%{y}\\u003cextra\\u003e\\u003c\\u002fextra\\u003e\",\"legendgroup\":\"0, bypassed\",\"marker\":{\"color\":\"#636efa\",\"symbol\":\"square\"},\"mode\":\"markers\",\"name\":\"0, bypassed\",\"orientation\":\"v\",\"showlegend\":true,\"x\":[12.398661,9.743079,1.3945416,10.527069,1.223507,11.352813,10.265322,9.192913,9.774026,9.995923,9.5273075,8.573353,7.9872975,8.448132,7.6076117,8.113931,7.7613406,9.572475,8.371634,8.797842,7.5982165,10.219869,8.475565,7.687052,7.7313604,7.750422,7.791552,7.6699476,8.957604,12.340441,9.071186,7.895911,8.547608,9.119413,9.196106,9.410168,11.033931,12.348779,7.9821033,9.791005,8.838594,9.597595,7.767959,1.4864855,7.9393716,10.747692,8.952996,7.9520707,7.605096,8.777228,8.63865,8.159457,9.476776,8.999061,7.7327266,11.160623,12.292678,9.587133,1.7714369,9.627076,10.403137,12.357346,10.008322,7.881839,12.359895,8.520672,12.471131,7.7879834,12.217206,7.8793273,8.442559,9.755528,10.515484,2.6884608,9.770817,9.889193,9.588986,8.330543,8.937606,9.534888,8.841041,9.892295,10.018358,8.552509,1.2093935,2.8791611,10.041264,8.380777,2.081277,1.7940549,9.15115,9.201932,9.343567,8.590432,12.441995],\"xaxis\":\"x\",\"y\":[10.688625,13.140017,7.5029297,9.466619,7.0319567,11.977083,7.9967375,8.215957,12.740758,11.277013,12.9130535,12.35979,11.324946,9.863094,11.505392,12.108394,11.758557,12.589972,10.177698,11.174169,10.689788,12.95291,12.219119,11.09029,11.21922,9.324616,11.651487,10.7388,11.424327,11.027139,13.110475,11.930846,11.538275,13.253696,12.759857,12.740733,12.515565,10.964746,12.023013,12.059605,12.558231,11.729348,10.686479,6.781242,10.619808,12.552947,11.9422865,10.455819,11.465699,12.731399,11.012008,11.239574,12.84708,8.372702,12.03345,11.933962,11.099617,12.711945,6.7520633,13.0273,10.618303,10.447127,11.99248,9.404815,10.657493,10.799808,10.675261,11.839055,10.297641,11.987047,9.812802,12.18867,11.547405,7.1924806,11.468021,10.887081,12.785487,9.635998,9.00064,7.938126,10.920529,8.0032215,11.158317,13.354144,7.2701283,6.880701,11.932484,9.77023,6.4991302,7.1351933,8.903432,8.196796,12.811072,11.519466,10.484744],\"yaxis\":\"y\",\"type\":\"scatter\"},{\"hovertemplate\":\"Cluster=-1\\u003cbr\\u003estatus=graduated\\u003cbr\\u003ex=%{x}\\u003cbr\\u003ey=%{y}\\u003cextra\\u003e\\u003c\\u002fextra\\u003e\",\"legendgroup\":\"-1, graduated\",\"marker\":{\"color\":\"#EF553B\",\"symbol\":\"circle\"},\"mode\":\"markers\",\"name\":\"-1, graduated\",\"orientation\":\"v\",\"showlegend\":true,\"x\":[11.181866,10.560947,10.279275,10.414725,11.179945,11.28491,10.362359,10.982156,11.952487,10.707696,10.485091,10.055812,11.249262,9.639267,9.726158,9.497398,9.808616],\"xaxis\":\"x\",\"y\":[9.360383,8.831789,8.626817,9.325652,9.322721,9.429381,9.4046545,9.133219,10.4408245,10.3508,8.687448,9.754877,9.368684,7.152942,7.2234836,7.3517423,7.180514],\"yaxis\":\"y\",\"type\":\"scatter\"},{\"hovertemplate\":\"Cluster=-1\\u003cbr\\u003estatus=retired\\u003cbr\\u003ex=%{x}\\u003cbr\\u003ey=%{y}\\u003cextra\\u003e\\u003c\\u002fextra\\u003e\",\"legendgroup\":\"-1, retired\",\"marker\":{\"color\":\"#EF553B\",\"symbol\":\"diamond\"},\"mode\":\"markers\",\"name\":\"-1, retired\",\"orientation\":\"v\",\"showlegend\":true,\"x\":[2.4069088,7.4306855,10.539279],\"xaxis\":\"x\",\"y\":[8.265794,10.392636,10.6060915],\"yaxis\":\"y\",\"type\":\"scatter\"},{\"hovertemplate\":\"Cluster=-1\\u003cbr\\u003estatus=bypassed\\u003cbr\\u003ex=%{x}\\u003cbr\\u003ey=%{y}\\u003cextra\\u003e\\u003c\\u002fextra\\u003e\",\"legendgroup\":\"-1, bypassed\",\"marker\":{\"color\":\"#EF553B\",\"symbol\":\"square\"},\"mode\":\"markers\",\"name\":\"-1, bypassed\",\"orientation\":\"v\",\"showlegend\":true,\"x\":[12.360499,12.29499,12.319459,10.530038],\"xaxis\":\"x\",\"y\":[10.470499,10.38297,10.428875,8.590339],\"yaxis\":\"y\",\"type\":\"scatter\"}],                        {\"template\":{\"data\":{\"histogram2dcontour\":[{\"type\":\"histogram2dcontour\",\"colorbar\":{\"outlinewidth\":0,\"ticks\":\"\"},\"colorscale\":[[0.0,\"#0d0887\"],[0.1111111111111111,\"#46039f\"],[0.2222222222222222,\"#7201a8\"],[0.3333333333333333,\"#9c179e\"],[0.4444444444444444,\"#bd3786\"],[0.5555555555555556,\"#d8576b\"],[0.6666666666666666,\"#ed7953\"],[0.7777777777777778,\"#fb9f3a\"],[0.8888888888888888,\"#fdca26\"],[1.0,\"#f0f921\"]]}],\"choropleth\":[{\"type\":\"choropleth\",\"colorbar\":{\"outlinewidth\":0,\"ticks\":\"\"}}],\"histogram2d\":[{\"type\":\"histogram2d\",\"colorbar\":{\"outlinewidth\":0,\"ticks\":\"\"},\"colorscale\":[[0.0,\"#0d0887\"],[0.1111111111111111,\"#46039f\"],[0.2222222222222222,\"#7201a8\"],[0.3333333333333333,\"#9c179e\"],[0.4444444444444444,\"#bd3786\"],[0.5555555555555556,\"#d8576b\"],[0.6666666666666666,\"#ed7953\"],[0.7777777777777778,\"#fb9f3a\"],[0.8888888888888888,\"#fdca26\"],[1.0,\"#f0f921\"]]}],\"heatmap\":[{\"type\":\"heatmap\",\"colorbar\":{\"outlinewidth\":0,\"ticks\":\"\"},\"colorscale\":[[0.0,\"#0d0887\"],[0.1111111111111111,\"#46039f\"],[0.2222222222222222,\"#7201a8\"],[0.3333333333333333,\"#9c179e\"],[0.4444444444444444,\"#bd3786\"],[0.5555555555555556,\"#d8576b\"],[0.6666666666666666,\"#ed7953\"],[0.7777777777777778,\"#fb9f3a\"],[0.8888888888888888,\"#fdca26\"],[1.0,\"#f0f921\"]]}],\"heatmapgl\":[{\"type\":\"heatmapgl\",\"colorbar\":{\"outlinewidth\":0,\"ticks\":\"\"},\"colorscale\":[[0.0,\"#0d0887\"],[0.1111111111111111,\"#46039f\"],[0.2222222222222222,\"#7201a8\"],[0.3333333333333333,\"#9c179e\"],[0.4444444444444444,\"#bd3786\"],[0.5555555555555556,\"#d8576b\"],[0.6666666666666666,\"#ed7953\"],[0.7777777777777778,\"#fb9f3a\"],[0.8888888888888888,\"#fdca26\"],[1.0,\"#f0f921\"]]}],\"contourcarpet\":[{\"type\":\"contourcarpet\",\"colorbar\":{\"outlinewidth\":0,\"ticks\":\"\"}}],\"contour\":[{\"type\":\"contour\",\"colorbar\":{\"outlinewidth\":0,\"ticks\":\"\"},\"colorscale\":[[0.0,\"#0d0887\"],[0.1111111111111111,\"#46039f\"],[0.2222222222222222,\"#7201a8\"],[0.3333333333333333,\"#9c179e\"],[0.4444444444444444,\"#bd3786\"],[0.5555555555555556,\"#d8576b\"],[0.6666666666666666,\"#ed7953\"],[0.7777777777777778,\"#fb9f3a\"],[0.8888888888888888,\"#fdca26\"],[1.0,\"#f0f921\"]]}],\"surface\":[{\"type\":\"surface\",\"colorbar\":{\"outlinewidth\":0,\"ticks\":\"\"},\"colorscale\":[[0.0,\"#0d0887\"],[0.1111111111111111,\"#46039f\"],[0.2222222222222222,\"#7201a8\"],[0.3333333333333333,\"#9c179e\"],[0.4444444444444444,\"#bd3786\"],[0.5555555555555556,\"#d8576b\"],[0.6666666666666666,\"#ed7953\"],[0.7777777777777778,\"#fb9f3a\"],[0.8888888888888888,\"#fdca26\"],[1.0,\"#f0f921\"]]}],\"mesh3d\":[{\"type\":\"mesh3d\",\"colorbar\":{\"outlinewidth\":0,\"ticks\":\"\"}}],\"scatter\":[{\"fillpattern\":{\"fillmode\":\"overlay\",\"size\":10,\"solidity\":0.2},\"type\":\"scatter\"}],\"parcoords\":[{\"type\":\"parcoords\",\"line\":{\"colorbar\":{\"outlinewidth\":0,\"ticks\":\"\"}}}],\"scatterpolargl\":[{\"type\":\"scatterpolargl\",\"marker\":{\"colorbar\":{\"outlinewidth\":0,\"ticks\":\"\"}}}],\"bar\":[{\"error_x\":{\"color\":\"#2a3f5f\"},\"error_y\":{\"color\":\"#2a3f5f\"},\"marker\":{\"line\":{\"color\":\"#E5ECF6\",\"width\":0.5},\"pattern\":{\"fillmode\":\"overlay\",\"size\":10,\"solidity\":0.2}},\"type\":\"bar\"}],\"scattergeo\":[{\"type\":\"scattergeo\",\"marker\":{\"colorbar\":{\"outlinewidth\":0,\"ticks\":\"\"}}}],\"scatterpolar\":[{\"type\":\"scatterpolar\",\"marker\":{\"colorbar\":{\"outlinewidth\":0,\"ticks\":\"\"}}}],\"histogram\":[{\"marker\":{\"pattern\":{\"fillmode\":\"overlay\",\"size\":10,\"solidity\":0.2}},\"type\":\"histogram\"}],\"scattergl\":[{\"type\":\"scattergl\",\"marker\":{\"colorbar\":{\"outlinewidth\":0,\"ticks\":\"\"}}}],\"scatter3d\":[{\"type\":\"scatter3d\",\"line\":{\"colorbar\":{\"outlinewidth\":0,\"ticks\":\"\"}},\"marker\":{\"colorbar\":{\"outlinewidth\":0,\"ticks\":\"\"}}}],\"scattermapbox\":[{\"type\":\"scattermapbox\",\"marker\":{\"colorbar\":{\"outlinewidth\":0,\"ticks\":\"\"}}}],\"scatterternary\":[{\"type\":\"scatterternary\",\"marker\":{\"colorbar\":{\"outlinewidth\":0,\"ticks\":\"\"}}}],\"scattercarpet\":[{\"type\":\"scattercarpet\",\"marker\":{\"colorbar\":{\"outlinewidth\":0,\"ticks\":\"\"}}}],\"carpet\":[{\"aaxis\":{\"endlinecolor\":\"#2a3f5f\",\"gridcolor\":\"white\",\"linecolor\":\"white\",\"minorgridcolor\":\"white\",\"startlinecolor\":\"#2a3f5f\"},\"baxis\":{\"endlinecolor\":\"#2a3f5f\",\"gridcolor\":\"white\",\"linecolor\":\"white\",\"minorgridcolor\":\"white\",\"startlinecolor\":\"#2a3f5f\"},\"type\":\"carpet\"}],\"table\":[{\"cells\":{\"fill\":{\"color\":\"#EBF0F8\"},\"line\":{\"color\":\"white\"}},\"header\":{\"fill\":{\"color\":\"#C8D4E3\"},\"line\":{\"color\":\"white\"}},\"type\":\"table\"}],\"barpolar\":[{\"marker\":{\"line\":{\"color\":\"#E5ECF6\",\"width\":0.5},\"pattern\":{\"fillmode\":\"overlay\",\"size\":10,\"solidity\":0.2}},\"type\":\"barpolar\"}],\"pie\":[{\"automargin\":true,\"type\":\"pie\"}]},\"layout\":{\"autotypenumbers\":\"strict\",\"colorway\":[\"#636efa\",\"#EF553B\",\"#00cc96\",\"#ab63fa\",\"#FFA15A\",\"#19d3f3\",\"#FF6692\",\"#B6E880\",\"#FF97FF\",\"#FECB52\"],\"font\":{\"color\":\"#2a3f5f\"},\"hovermode\":\"closest\",\"hoverlabel\":{\"align\":\"left\"},\"paper_bgcolor\":\"white\",\"plot_bgcolor\":\"#E5ECF6\",\"polar\":{\"bgcolor\":\"#E5ECF6\",\"angularaxis\":{\"gridcolor\":\"white\",\"linecolor\":\"white\",\"ticks\":\"\"},\"radialaxis\":{\"gridcolor\":\"white\",\"linecolor\":\"white\",\"ticks\":\"\"}},\"ternary\":{\"bgcolor\":\"#E5ECF6\",\"aaxis\":{\"gridcolor\":\"white\",\"linecolor\":\"white\",\"ticks\":\"\"},\"baxis\":{\"gridcolor\":\"white\",\"linecolor\":\"white\",\"ticks\":\"\"},\"caxis\":{\"gridcolor\":\"white\",\"linecolor\":\"white\",\"ticks\":\"\"}},\"coloraxis\":{\"colorbar\":{\"outlinewidth\":0,\"ticks\":\"\"}},\"colorscale\":{\"sequential\":[[0.0,\"#0d0887\"],[0.1111111111111111,\"#46039f\"],[0.2222222222222222,\"#7201a8\"],[0.3333333333333333,\"#9c179e\"],[0.4444444444444444,\"#bd3786\"],[0.5555555555555556,\"#d8576b\"],[0.6666666666666666,\"#ed7953\"],[0.7777777777777778,\"#fb9f3a\"],[0.8888888888888888,\"#fdca26\"],[1.0,\"#f0f921\"]],\"sequentialminus\":[[0.0,\"#0d0887\"],[0.1111111111111111,\"#46039f\"],[0.2222222222222222,\"#7201a8\"],[0.3333333333333333,\"#9c179e\"],[0.4444444444444444,\"#bd3786\"],[0.5555555555555556,\"#d8576b\"],[0.6666666666666666,\"#ed7953\"],[0.7777777777777778,\"#fb9f3a\"],[0.8888888888888888,\"#fdca26\"],[1.0,\"#f0f921\"]],\"diverging\":[[0,\"#8e0152\"],[0.1,\"#c51b7d\"],[0.2,\"#de77ae\"],[0.3,\"#f1b6da\"],[0.4,\"#fde0ef\"],[0.5,\"#f7f7f7\"],[0.6,\"#e6f5d0\"],[0.7,\"#b8e186\"],[0.8,\"#7fbc41\"],[0.9,\"#4d9221\"],[1,\"#276419\"]]},\"xaxis\":{\"gridcolor\":\"white\",\"linecolor\":\"white\",\"ticks\":\"\",\"title\":{\"standoff\":15},\"zerolinecolor\":\"white\",\"automargin\":true,\"zerolinewidth\":2},\"yaxis\":{\"gridcolor\":\"white\",\"linecolor\":\"white\",\"ticks\":\"\",\"title\":{\"standoff\":15},\"zerolinecolor\":\"white\",\"automargin\":true,\"zerolinewidth\":2},\"scene\":{\"xaxis\":{\"backgroundcolor\":\"#E5ECF6\",\"gridcolor\":\"white\",\"linecolor\":\"white\",\"showbackground\":true,\"ticks\":\"\",\"zerolinecolor\":\"white\",\"gridwidth\":2},\"yaxis\":{\"backgroundcolor\":\"#E5ECF6\",\"gridcolor\":\"white\",\"linecolor\":\"white\",\"showbackground\":true,\"ticks\":\"\",\"zerolinecolor\":\"white\",\"gridwidth\":2},\"zaxis\":{\"backgroundcolor\":\"#E5ECF6\",\"gridcolor\":\"white\",\"linecolor\":\"white\",\"showbackground\":true,\"ticks\":\"\",\"zerolinecolor\":\"white\",\"gridwidth\":2}},\"shapedefaults\":{\"line\":{\"color\":\"#2a3f5f\"}},\"annotationdefaults\":{\"arrowcolor\":\"#2a3f5f\",\"arrowhead\":0,\"arrowwidth\":1},\"geo\":{\"bgcolor\":\"white\",\"landcolor\":\"#E5ECF6\",\"subunitcolor\":\"white\",\"showland\":true,\"showlakes\":true,\"lakecolor\":\"white\"},\"title\":{\"x\":0.05},\"mapbox\":{\"style\":\"light\"}}},\"xaxis\":{\"anchor\":\"y\",\"domain\":[0.0,1.0],\"title\":{\"text\":\"x\"}},\"yaxis\":{\"anchor\":\"x\",\"domain\":[0.0,1.0],\"title\":{\"text\":\"y\"}},\"legend\":{\"title\":{\"text\":\"Cluster, status\"},\"tracegroupgap\":0},\"margin\":{\"t\":60},\"title\":{\"text\":\"UMAP vizualization\"}},                        {\"responsive\": true}                    ).then(function(){\n",
              "                            \n",
              "var gd = document.getElementById('cb5150e6-ee64-4720-891b-c8547e1cd087');\n",
              "var x = new MutationObserver(function (mutations, observer) {{\n",
              "        var display = window.getComputedStyle(gd).display;\n",
              "        if (!display || display === 'none') {{\n",
              "            console.log([gd, 'removed!']);\n",
              "            Plotly.purge(gd);\n",
              "            observer.disconnect();\n",
              "        }}\n",
              "}});\n",
              "\n",
              "// Listen for the removal of the full notebook cells\n",
              "var notebookContainer = gd.closest('#notebook-container');\n",
              "if (notebookContainer) {{\n",
              "    x.observe(notebookContainer, {childList: true});\n",
              "}}\n",
              "\n",
              "// Listen for the clearing of the current output cell\n",
              "var outputEl = gd.closest('.output');\n",
              "if (outputEl) {{\n",
              "    x.observe(outputEl, {childList: true});\n",
              "}}\n",
              "\n",
              "                        })                };                            </script>        </div>\n",
              "</body>\n",
              "</html>"
            ]
          },
          "metadata": {},
          "output_type": "display_data"
        }
      ],
      "source": [
        "dbscan = DBSCAN(eps=elbow_value, min_samples=3).fit(X)\n",
        "\n",
        "y_pred_dbscan = dbscan.labels_\n",
        "\n",
        "UMAP_2d(X, y_pred_dbscan)"
      ]
    },
    {
      "cell_type": "markdown",
      "metadata": {
        "id": "Nc-pDwPOJyw5"
      },
      "source": [
        "##KMeans"
      ]
    },
    {
      "cell_type": "markdown",
      "metadata": {
        "id": "g4UHrJF_Sesy"
      },
      "source": [
        "### Elbow method\n",
        "Used to determine how many clusters should be used in K-means. <br>\n",
        "\n",
        "For each cluster Within-Cluster Sum of Squares (wcss) is calculated, which is a measure of how well points are clustered around their centroid. The elbow point is when the graph break and adding more cluster doesnt significantly reduce the wcss score. The elbow point is then the optimal amount of clusters, where adding would be unnesesary and could lead to overfitting and less to not capture the complete variability of the data.\n",
        "\n",
        "[Explanation](https://www.geeksforgeeks.org/elbow-method-for-optimal-value-of-k-in-kmeans/) <br>\n",
        "\n",
        "[Link to implementation](https://www.comet.com/site/blog/how-to-evaluate-clustering-models-in-python/)"
      ]
    },
    {
      "cell_type": "code",
      "execution_count": null,
      "metadata": {
        "colab": {
          "base_uri": "https://localhost:8080/",
          "height": 472
        },
        "id": "jlNEe_G2SdGA",
        "outputId": "508b5cbd-aa13-47a5-949b-262fec70c0b4"
      },
      "outputs": [
        {
          "data": {
            "image/png": "[encoded data removed]",
            "text/plain": [
              "<Figure size 640x480 with 1 Axes>"
            ]
          },
          "metadata": {},
          "output_type": "display_data"
        }
      ],
      "source": [
        "\n",
        "def find_optimal_clusters(X, create_plot=True, max_clusters=15):\n",
        "\n",
        "    wcss = []\n",
        "    for i in range(1, max_clusters):\n",
        "        kmeans = KMeans(n_clusters=i, init='k-means++', random_state=42, n_init=10)\n",
        "        kmeans.fit(X)\n",
        "        wcss.append(kmeans.inertia_)\n",
        "\n",
        "    optimal_clusters = 2 \n",
        "    for i in range(1, len(wcss) - 1):\n",
        "        if (wcss[i-1] - wcss[i] > 0.1 * (wcss[0] - wcss[-1])) and (wcss[i] - wcss[i+1] < 0.1 * (wcss[0] - wcss[-1])):\n",
        "            optimal_clusters = i + 1\n",
        "            break\n",
        "    else:\n",
        "        # If no clear elbow, give 2 clusters as default\n",
        "        optimal_clusters = 2\n",
        "\n",
        "    if(create_plot):\n",
        "        plt.plot(range(1, max_clusters), wcss, marker='o')\n",
        "        plt.title('The Elbow Method')\n",
        "        plt.xlabel('Number of clusters')\n",
        "        plt.ylabel('WCSS')\n",
        "        plt.xticks(range(1, max_clusters))\n",
        "        plt.grid(True)\n",
        "\n",
        "        # Adding red lines that mark optimal number of clusters\n",
        "        plt.axvline(x=optimal_clusters, color='red', linestyle='--', linewidth=1)\n",
        "        plt.axhline(y=wcss[optimal_clusters - 1], color='red', linestyle='--', linewidth=1)\n",
        "\n",
        "        plt.show()\n",
        "\n",
        "    return optimal_clusters\n",
        "\n",
        "number_clusters = find_optimal_clusters(X)"
      ]
    },
    {
      "cell_type": "markdown",
      "metadata": {
        "id": "40l9CKk8J6vB"
      },
      "source": [
        "##Training"
      ]
    },
    {
      "cell_type": "code",
      "execution_count": 150,
      "metadata": {
        "colab": {
          "base_uri": "https://localhost:8080/",
          "height": 611
        },
        "id": "OlWePyQcTq0M",
        "outputId": "fc95ef41-fbf8-4410-d916-1781f8b1d4c1"
      },
      "outputs": [
        {
          "name": "stderr",
          "output_type": "stream",
          "text": [
            "/usr/local/lib/python3.11/dist-packages/sklearn/utils/deprecation.py:151: FutureWarning:\n",
            "\n",
            "'force_all_finite' was renamed to 'ensure_all_finite' in 1.6 and will be removed in 1.8.\n",
            "\n"
          ]
        },
        {
          "data": {
            "text/html": [
              "<html>\n",
              "<head><meta charset=\"utf-8\" /></head>\n",
              "<body>\n",
              "    <div>            <script src=\"https://cdnjs.cloudflare.com/ajax/libs/mathjax/2.7.5/MathJax.js?config=TeX-AMS-MML_SVG\"></script><script type=\"text/javascript\">if (window.MathJax && window.MathJax.Hub && window.MathJax.Hub.Config) {window.MathJax.Hub.Config({SVG: {font: \"STIX-Web\"}});}</script>                <script type=\"text/javascript\">window.PlotlyConfig = {MathJaxConfig: 'local'};</script>\n",
              "        <script charset=\"utf-8\" src=\"https://cdn.plot.ly/plotly-2.35.2.min.js\"></script>                <div id=\"3f4d0d8c-a6f8-4610-80fe-380ee11e298b\" class=\"plotly-graph-div\" style=\"height:525px; width:100%;\"></div>            <script type=\"text/javascript\">                                    window.PLOTLYENV=window.PLOTLYENV || {};                                    if (document.getElementById(\"3f4d0d8c-a6f8-4610-80fe-380ee11e298b\")) {                    Plotly.newPlot(                        \"3f4d0d8c-a6f8-4610-80fe-380ee11e298b\",                        [{\"hovertemplate\":\"Cluster=1\\u003cbr\\u003estatus=graduated\\u003cbr\\u003ex=%{x}\\u003cbr\\u003ey=%{y}\\u003cextra\\u003e\\u003c\\u002fextra\\u003e\",\"legendgroup\":\"1, graduated\",\"marker\":{\"color\":\"#636efa\",\"symbol\":\"circle\"},\"mode\":\"markers\",\"name\":\"1, graduated\",\"orientation\":\"v\",\"showlegend\":true,\"x\":[6.250949,6.883959,6.2435184,6.3364944,7.4656587,6.911231,6.21426,6.585329,6.6059766,6.4965568,7.122841,5.905582,7.296991,5.9232707,6.846076,6.812515,7.196428,6.213081,2.752661,6.9561915,7.072231,6.1601224,7.0387692,7.027028,6.94614,7.21295,7.1094074,7.286192,5.9536805,5.9897676,7.4249625,6.3515077,6.374903,7.112311,6.6414957,6.986254,5.4587655,6.8483744,6.040302,6.5250773,7.182026],\"xaxis\":\"x\",\"y\":[12.03516,12.532738,13.157025,11.913176,11.814223,12.838138,12.045809,12.956177,12.369196,12.818627,13.211583,12.22667,12.899005,12.520857,12.586724,12.564062,12.345848,12.172936,2.072416,11.929862,12.937481,13.144115,13.338211,11.971941,12.058632,12.831693,12.375826,12.715414,12.398325,12.490599,12.055147,12.832852,12.942358,12.211839,13.368774,12.183019,11.422901,11.686214,12.844371,13.295502,12.694845],\"yaxis\":\"y\",\"type\":\"scatter\"},{\"hovertemplate\":\"Cluster=1\\u003cbr\\u003estatus=retired\\u003cbr\\u003ex=%{x}\\u003cbr\\u003ey=%{y}\\u003cextra\\u003e\\u003c\\u002fextra\\u003e\",\"legendgroup\":\"1, retired\",\"marker\":{\"color\":\"#636efa\",\"symbol\":\"diamond\"},\"mode\":\"markers\",\"name\":\"1, retired\",\"orientation\":\"v\",\"showlegend\":true,\"x\":[7.3529286,5.460147,7.5088906,5.7846894,6.1647587,6.7989373,5.5807066,5.8032703,7.10558,5.8634043,6.846704,6.4106035,5.4371414,6.726174,6.5864787,6.993247,7.075176,6.0154805,6.257526,6.5495462,6.7087235],\"xaxis\":\"x\",\"y\":[11.98138,11.398401,11.57726,11.787404,13.048512,12.659414,11.6161375,11.899189,13.310586,11.724681,12.940502,13.221814,11.402788,12.191529,12.516588,13.349192,12.301661,12.043378,11.947895,13.145946,12.831899],\"yaxis\":\"y\",\"type\":\"scatter\"},{\"hovertemplate\":\"Cluster=1\\u003cbr\\u003estatus=bypassed\\u003cbr\\u003ex=%{x}\\u003cbr\\u003ey=%{y}\\u003cextra\\u003e\\u003c\\u002fextra\\u003e\",\"legendgroup\":\"1, bypassed\",\"marker\":{\"color\":\"#636efa\",\"symbol\":\"square\"},\"mode\":\"markers\",\"name\":\"1, bypassed\",\"orientation\":\"v\",\"showlegend\":true,\"x\":[7.0007906,6.9370136,7.0720105,6.9722395,6.1148977,7.0236807,5.8476834,6.3792343,7.2722635],\"xaxis\":\"x\",\"y\":[12.352916,13.117136,13.321593,13.386604,12.27601,12.794309,12.4310665,13.229395,13.003503],\"yaxis\":\"y\",\"type\":\"scatter\"},{\"hovertemplate\":\"Cluster=0\\u003cbr\\u003estatus=graduated\\u003cbr\\u003ex=%{x}\\u003cbr\\u003ey=%{y}\\u003cextra\\u003e\\u003c\\u002fextra\\u003e\",\"legendgroup\":\"0, graduated\",\"marker\":{\"color\":\"#EF553B\",\"symbol\":\"circle\"},\"mode\":\"markers\",\"name\":\"0, graduated\",\"orientation\":\"v\",\"showlegend\":true,\"x\":[2.4329913,6.463123,6.0019794,2.9478633,3.806995,5.456639,3.1512728,2.6286585,3.9282842,3.2287853,2.649728,3.9370167,3.1574597,4.1072955,2.501645,5.45855,5.358364,3.3106782,3.1526005,5.1321373,4.4534826,4.7463307,3.7827935,5.4537754,2.5483608,5.2126393,3.5311687,3.9234192,4.972516,6.011843,3.4273121,5.079764,7.0448666,3.9060218,3.1359634,6.262581,6.6438513,4.238549,3.8301916,7.057204,6.2679186,2.5118904,4.2377524,5.0936146,3.8549676,3.3285751,4.4381127,6.769267,2.5765424,6.92747,2.395711,2.401637,7.101582,3.7182117,6.5313,3.3643656,5.59216,5.9452877,6.1740847,5.7819986,4.576933,2.620241,2.5794792,3.2079883,2.4262161,6.5142407,3.5049906,6.6514516,6.6920366,4.667117,3.9676187,3.1158555,3.3850994,5.019828,2.2622063,6.4696364,6.5700793,4.1485376,7.209404,6.565015,4.628966,2.2760916,2.6438825,5.5123954,7.086004,6.0058646,5.684823,3.6114907,5.03748,2.6661348,2.640435,3.609467,4.400554,3.1695871,2.977466,6.6582303,4.8103375,4.5279226,5.76315,4.4451594,6.3432508,5.5707088,6.0729833,4.9618554,6.220955,3.198236,5.4325953,4.4539475,4.672685,6.634968,3.9421434,2.6309392,3.8957593,4.873374,7.2169323,3.4994671,2.670193,5.2742753,4.8654237,3.5953526,3.88456,4.4507055,4.7865443,3.438104,5.2440042,4.8635693,5.4079776],\"xaxis\":\"x\",\"y\":[2.1194823,4.009267,3.6621337,3.0689838,4.5811677,6.109556,2.753715,2.091006,4.3670325,5.824075,5.366853,3.3669333,4.260644,2.7980816,2.8776548,4.500812,5.9661293,5.100178,4.8624964,6.49083,5.6459794,6.881488,6.2285495,5.72837,2.570383,2.820292,2.736926,2.1374831,4.0464683,4.97904,2.3184164,6.566843,5.0069265,4.5793176,2.791278,4.3537416,4.9074554,3.4719996,2.81979,5.1089625,4.8627033,2.022314,2.498329,4.120131,2.6376193,2.2775302,2.7678113,5.3220134,2.055619,5.2688475,2.6326413,2.1536968,4.885742,3.8285553,4.5647564,3.5295951,3.331648,3.6697078,5.216077,6.0948973,3.2142284,2.6993601,3.1126409,3.0755072,2.0721645,4.8444614,2.1323605,5.1045103,4.2514215,3.7804973,4.8326416,2.908735,2.9559922,6.042266,2.278513,5.508045,4.5881357,5.094645,4.848193,4.410218,4.65541,2.4559882,3.042012,6.232471,5.1726737,4.4266067,4.9122252,6.0786366,4.731756,2.147065,3.2933433,2.6836605,5.70267,6.0173745,2.1530435,4.7206016,2.02394,6.999778,4.8003674,6.7788205,4.2091746,4.984523,4.7479434,4.9920053,4.1195965,5.389334,2.8064075,7.1196513,3.4518583,4.1670423,2.9691353,3.391174,3.7613366,6.607625,4.8052597,2.287924,3.5564442,3.495033,6.9059567,2.3813915,5.045048,7.1324716,6.8398266,3.809131,4.998424,4.837452,6.4967456],\"yaxis\":\"y\",\"type\":\"scatter\"},{\"hovertemplate\":\"Cluster=0\\u003cbr\\u003estatus=retired\\u003cbr\\u003ex=%{x}\\u003cbr\\u003ey=%{y}\\u003cextra\\u003e\\u003c\\u002fextra\\u003e\",\"legendgroup\":\"0, retired\",\"marker\":{\"color\":\"#EF553B\",\"symbol\":\"diamond\"},\"mode\":\"markers\",\"name\":\"0, retired\",\"orientation\":\"v\",\"showlegend\":true,\"x\":[3.7685213,3.7124968,6.441071,5.084404,3.9807596,4.8557434,4.370023,4.07533,4.4486704,4.3410883,6.126947,2.7824888,3.2890007,3.5022933,4.0644784,5.9990077,4.095214,6.4038506,3.3986807,5.424168,3.7962976,3.9359016,4.5639668,3.0640354,6.9215465,5.6721535],\"xaxis\":\"x\",\"y\":[4.455821,4.1464233,5.20717,4.244056,4.0590034,6.834658,4.903357,4.8442287,4.07404,4.0782604,4.2843976,5.4865375,4.0433846,4.3064394,4.7872887,3.88811,4.061469,4.2589397,4.9463,5.2218575,5.178554,4.9895196,6.2669067,5.4571266,5.0159807,3.3265097],\"yaxis\":\"y\",\"type\":\"scatter\"},{\"hovertemplate\":\"Cluster=0\\u003cbr\\u003estatus=bypassed\\u003cbr\\u003ex=%{x}\\u003cbr\\u003ey=%{y}\\u003cextra\\u003e\\u003c\\u002fextra\\u003e\",\"legendgroup\":\"0, bypassed\",\"marker\":{\"color\":\"#EF553B\",\"symbol\":\"square\"},\"mode\":\"markers\",\"name\":\"0, bypassed\",\"orientation\":\"v\",\"showlegend\":true,\"x\":[7.0076156,5.5203347,6.7690487,3.218696,2.6426241,5.6792197,5.325933,5.3878555,4.7099185,3.4967365,4.2060966,2.9020867,2.7986588,2.9222367,5.6950727,3.9086556,4.0889244,2.6860642,6.2810273,4.443069,3.1413846,3.249923,4.905322,2.971426,2.7341444,4.3383527,7.0903764,5.14978,2.7814336,3.870253,5.164271,5.2487307,5.528206,6.9499826,7.104725,2.9477265,5.3709607,4.955691,4.9990473,2.8470547,2.9274309,6.5998197,4.494396,2.9786606,3.0914247,4.8805876,3.5581427,3.672609,5.807865,2.679716,2.629199,6.675787,7.1527557,5.7887325,5.7048526,5.4127407,6.6440644,5.705407,5.1655216,6.994666,3.3448849,6.957369,2.9606056,2.7029488,4.6453614,5.6582394,5.849449,4.959078,5.275289,5.85972,4.6186013,3.5553927,2.8114908,3.737436,2.9372332,5.2032137,4.5535216,5.5320935,4.569784,3.2437308,2.6298282,5.7112026,4.083766],\"xaxis\":\"x\",\"y\":[2.80195,6.531453,4.237282,2.2327225,2.9735343,5.662003,4.702267,6.0904913,5.6520367,6.026055,3.8241005,6.0551267,5.870426,5.900821,5.781926,4.132656,5.093765,5.3199234,5.9033337,5.763693,5.8347216,5.9587336,3.9977658,5.982475,5.3276277,5.299613,3.0424256,6.1578927,5.893939,5.338304,6.322165,5.8108034,6.06262,4.920038,3.0458682,6.099865,5.2202864,5.883756,5.0588403,5.1548595,4.9895,5.3100343,5.4482346,4.810189,6.089885,5.830529,4.85576,5.738519,6.0410056,3.188615,5.9944606,4.404439,3.0915194,6.0373154,6.319264,3.4153628,2.699393,5.0590534,4.230076,2.750598,4.745186,2.5662432,6.237466,6.0645065,3.7109306,5.350513,4.474576,4.959634,4.3621564,5.867724,3.9730804,3.477059,2.4881992,4.859114,2.4323618,4.6334567,6.7613297,5.1119504,3.697775,3.2980306,3.016266,6.153481,5.285841],\"yaxis\":\"y\",\"type\":\"scatter\"},{\"hovertemplate\":\"Cluster=2\\u003cbr\\u003estatus=graduated\\u003cbr\\u003ex=%{x}\\u003cbr\\u003ey=%{y}\\u003cextra\\u003e\\u003c\\u002fextra\\u003e\",\"legendgroup\":\"2, graduated\",\"marker\":{\"color\":\"#00cc96\",\"symbol\":\"circle\"},\"mode\":\"markers\",\"name\":\"2, graduated\",\"orientation\":\"v\",\"showlegend\":true,\"x\":[4.907726,3.5919576,4.013228,3.73245,3.348703,4.35699,4.8903813,4.899206,4.4367886,4.4518147,4.639181,6.3663235,4.19487,5.5303397,3.8030803,4.888799,4.1166587,2.4250977,2.431427,2.45888,2.5062938],\"xaxis\":\"x\",\"y\":[1.950353,2.064314,1.9950087,1.9814539,2.0076156,2.4736385,1.919723,1.9323909,2.647181,1.8936632,1.9260494,3.0054033,2.102229,3.1608784,1.9551858,1.9117514,2.2894132,1.7599503,1.7292539,2.090055,1.6785736],\"yaxis\":\"y\",\"type\":\"scatter\"},{\"hovertemplate\":\"Cluster=2\\u003cbr\\u003estatus=bypassed\\u003cbr\\u003ex=%{x}\\u003cbr\\u003ey=%{y}\\u003cextra\\u003e\\u003c\\u002fextra\\u003e\",\"legendgroup\":\"2, bypassed\",\"marker\":{\"color\":\"#00cc96\",\"symbol\":\"square\"},\"mode\":\"markers\",\"name\":\"2, bypassed\",\"orientation\":\"v\",\"showlegend\":true,\"x\":[6.6941843,6.701564,4.62003,6.7889004,6.545382,6.871753,3.7497895],\"xaxis\":\"x\",\"y\":[2.4570818,2.5052745,2.6239073,2.560737,2.865177,2.6231978,2.0059605],\"yaxis\":\"y\",\"type\":\"scatter\"}],                        {\"template\":{\"data\":{\"histogram2dcontour\":[{\"type\":\"histogram2dcontour\",\"colorbar\":{\"outlinewidth\":0,\"ticks\":\"\"},\"colorscale\":[[0.0,\"#0d0887\"],[0.1111111111111111,\"#46039f\"],[0.2222222222222222,\"#7201a8\"],[0.3333333333333333,\"#9c179e\"],[0.4444444444444444,\"#bd3786\"],[0.5555555555555556,\"#d8576b\"],[0.6666666666666666,\"#ed7953\"],[0.7777777777777778,\"#fb9f3a\"],[0.8888888888888888,\"#fdca26\"],[1.0,\"#f0f921\"]]}],\"choropleth\":[{\"type\":\"choropleth\",\"colorbar\":{\"outlinewidth\":0,\"ticks\":\"\"}}],\"histogram2d\":[{\"type\":\"histogram2d\",\"colorbar\":{\"outlinewidth\":0,\"ticks\":\"\"},\"colorscale\":[[0.0,\"#0d0887\"],[0.1111111111111111,\"#46039f\"],[0.2222222222222222,\"#7201a8\"],[0.3333333333333333,\"#9c179e\"],[0.4444444444444444,\"#bd3786\"],[0.5555555555555556,\"#d8576b\"],[0.6666666666666666,\"#ed7953\"],[0.7777777777777778,\"#fb9f3a\"],[0.8888888888888888,\"#fdca26\"],[1.0,\"#f0f921\"]]}],\"heatmap\":[{\"type\":\"heatmap\",\"colorbar\":{\"outlinewidth\":0,\"ticks\":\"\"},\"colorscale\":[[0.0,\"#0d0887\"],[0.1111111111111111,\"#46039f\"],[0.2222222222222222,\"#7201a8\"],[0.3333333333333333,\"#9c179e\"],[0.4444444444444444,\"#bd3786\"],[0.5555555555555556,\"#d8576b\"],[0.6666666666666666,\"#ed7953\"],[0.7777777777777778,\"#fb9f3a\"],[0.8888888888888888,\"#fdca26\"],[1.0,\"#f0f921\"]]}],\"heatmapgl\":[{\"type\":\"heatmapgl\",\"colorbar\":{\"outlinewidth\":0,\"ticks\":\"\"},\"colorscale\":[[0.0,\"#0d0887\"],[0.1111111111111111,\"#46039f\"],[0.2222222222222222,\"#7201a8\"],[0.3333333333333333,\"#9c179e\"],[0.4444444444444444,\"#bd3786\"],[0.5555555555555556,\"#d8576b\"],[0.6666666666666666,\"#ed7953\"],[0.7777777777777778,\"#fb9f3a\"],[0.8888888888888888,\"#fdca26\"],[1.0,\"#f0f921\"]]}],\"contourcarpet\":[{\"type\":\"contourcarpet\",\"colorbar\":{\"outlinewidth\":0,\"ticks\":\"\"}}],\"contour\":[{\"type\":\"contour\",\"colorbar\":{\"outlinewidth\":0,\"ticks\":\"\"},\"colorscale\":[[0.0,\"#0d0887\"],[0.1111111111111111,\"#46039f\"],[0.2222222222222222,\"#7201a8\"],[0.3333333333333333,\"#9c179e\"],[0.4444444444444444,\"#bd3786\"],[0.5555555555555556,\"#d8576b\"],[0.6666666666666666,\"#ed7953\"],[0.7777777777777778,\"#fb9f3a\"],[0.8888888888888888,\"#fdca26\"],[1.0,\"#f0f921\"]]}],\"surface\":[{\"type\":\"surface\",\"colorbar\":{\"outlinewidth\":0,\"ticks\":\"\"},\"colorscale\":[[0.0,\"#0d0887\"],[0.1111111111111111,\"#46039f\"],[0.2222222222222222,\"#7201a8\"],[0.3333333333333333,\"#9c179e\"],[0.4444444444444444,\"#bd3786\"],[0.5555555555555556,\"#d8576b\"],[0.6666666666666666,\"#ed7953\"],[0.7777777777777778,\"#fb9f3a\"],[0.8888888888888888,\"#fdca26\"],[1.0,\"#f0f921\"]]}],\"mesh3d\":[{\"type\":\"mesh3d\",\"colorbar\":{\"outlinewidth\":0,\"ticks\":\"\"}}],\"scatter\":[{\"fillpattern\":{\"fillmode\":\"overlay\",\"size\":10,\"solidity\":0.2},\"type\":\"scatter\"}],\"parcoords\":[{\"type\":\"parcoords\",\"line\":{\"colorbar\":{\"outlinewidth\":0,\"ticks\":\"\"}}}],\"scatterpolargl\":[{\"type\":\"scatterpolargl\",\"marker\":{\"colorbar\":{\"outlinewidth\":0,\"ticks\":\"\"}}}],\"bar\":[{\"error_x\":{\"color\":\"#2a3f5f\"},\"error_y\":{\"color\":\"#2a3f5f\"},\"marker\":{\"line\":{\"color\":\"#E5ECF6\",\"width\":0.5},\"pattern\":{\"fillmode\":\"overlay\",\"size\":10,\"solidity\":0.2}},\"type\":\"bar\"}],\"scattergeo\":[{\"type\":\"scattergeo\",\"marker\":{\"colorbar\":{\"outlinewidth\":0,\"ticks\":\"\"}}}],\"scatterpolar\":[{\"type\":\"scatterpolar\",\"marker\":{\"colorbar\":{\"outlinewidth\":0,\"ticks\":\"\"}}}],\"histogram\":[{\"marker\":{\"pattern\":{\"fillmode\":\"overlay\",\"size\":10,\"solidity\":0.2}},\"type\":\"histogram\"}],\"scattergl\":[{\"type\":\"scattergl\",\"marker\":{\"colorbar\":{\"outlinewidth\":0,\"ticks\":\"\"}}}],\"scatter3d\":[{\"type\":\"scatter3d\",\"line\":{\"colorbar\":{\"outlinewidth\":0,\"ticks\":\"\"}},\"marker\":{\"colorbar\":{\"outlinewidth\":0,\"ticks\":\"\"}}}],\"scattermapbox\":[{\"type\":\"scattermapbox\",\"marker\":{\"colorbar\":{\"outlinewidth\":0,\"ticks\":\"\"}}}],\"scatterternary\":[{\"type\":\"scatterternary\",\"marker\":{\"colorbar\":{\"outlinewidth\":0,\"ticks\":\"\"}}}],\"scattercarpet\":[{\"type\":\"scattercarpet\",\"marker\":{\"colorbar\":{\"outlinewidth\":0,\"ticks\":\"\"}}}],\"carpet\":[{\"aaxis\":{\"endlinecolor\":\"#2a3f5f\",\"gridcolor\":\"white\",\"linecolor\":\"white\",\"minorgridcolor\":\"white\",\"startlinecolor\":\"#2a3f5f\"},\"baxis\":{\"endlinecolor\":\"#2a3f5f\",\"gridcolor\":\"white\",\"linecolor\":\"white\",\"minorgridcolor\":\"white\",\"startlinecolor\":\"#2a3f5f\"},\"type\":\"carpet\"}],\"table\":[{\"cells\":{\"fill\":{\"color\":\"#EBF0F8\"},\"line\":{\"color\":\"white\"}},\"header\":{\"fill\":{\"color\":\"#C8D4E3\"},\"line\":{\"color\":\"white\"}},\"type\":\"table\"}],\"barpolar\":[{\"marker\":{\"line\":{\"color\":\"#E5ECF6\",\"width\":0.5},\"pattern\":{\"fillmode\":\"overlay\",\"size\":10,\"solidity\":0.2}},\"type\":\"barpolar\"}],\"pie\":[{\"automargin\":true,\"type\":\"pie\"}]},\"layout\":{\"autotypenumbers\":\"strict\",\"colorway\":[\"#636efa\",\"#EF553B\",\"#00cc96\",\"#ab63fa\",\"#FFA15A\",\"#19d3f3\",\"#FF6692\",\"#B6E880\",\"#FF97FF\",\"#FECB52\"],\"font\":{\"color\":\"#2a3f5f\"},\"hovermode\":\"closest\",\"hoverlabel\":{\"align\":\"left\"},\"paper_bgcolor\":\"white\",\"plot_bgcolor\":\"#E5ECF6\",\"polar\":{\"bgcolor\":\"#E5ECF6\",\"angularaxis\":{\"gridcolor\":\"white\",\"linecolor\":\"white\",\"ticks\":\"\"},\"radialaxis\":{\"gridcolor\":\"white\",\"linecolor\":\"white\",\"ticks\":\"\"}},\"ternary\":{\"bgcolor\":\"#E5ECF6\",\"aaxis\":{\"gridcolor\":\"white\",\"linecolor\":\"white\",\"ticks\":\"\"},\"baxis\":{\"gridcolor\":\"white\",\"linecolor\":\"white\",\"ticks\":\"\"},\"caxis\":{\"gridcolor\":\"white\",\"linecolor\":\"white\",\"ticks\":\"\"}},\"coloraxis\":{\"colorbar\":{\"outlinewidth\":0,\"ticks\":\"\"}},\"colorscale\":{\"sequential\":[[0.0,\"#0d0887\"],[0.1111111111111111,\"#46039f\"],[0.2222222222222222,\"#7201a8\"],[0.3333333333333333,\"#9c179e\"],[0.4444444444444444,\"#bd3786\"],[0.5555555555555556,\"#d8576b\"],[0.6666666666666666,\"#ed7953\"],[0.7777777777777778,\"#fb9f3a\"],[0.8888888888888888,\"#fdca26\"],[1.0,\"#f0f921\"]],\"sequentialminus\":[[0.0,\"#0d0887\"],[0.1111111111111111,\"#46039f\"],[0.2222222222222222,\"#7201a8\"],[0.3333333333333333,\"#9c179e\"],[0.4444444444444444,\"#bd3786\"],[0.5555555555555556,\"#d8576b\"],[0.6666666666666666,\"#ed7953\"],[0.7777777777777778,\"#fb9f3a\"],[0.8888888888888888,\"#fdca26\"],[1.0,\"#f0f921\"]],\"diverging\":[[0,\"#8e0152\"],[0.1,\"#c51b7d\"],[0.2,\"#de77ae\"],[0.3,\"#f1b6da\"],[0.4,\"#fde0ef\"],[0.5,\"#f7f7f7\"],[0.6,\"#e6f5d0\"],[0.7,\"#b8e186\"],[0.8,\"#7fbc41\"],[0.9,\"#4d9221\"],[1,\"#276419\"]]},\"xaxis\":{\"gridcolor\":\"white\",\"linecolor\":\"white\",\"ticks\":\"\",\"title\":{\"standoff\":15},\"zerolinecolor\":\"white\",\"automargin\":true,\"zerolinewidth\":2},\"yaxis\":{\"gridcolor\":\"white\",\"linecolor\":\"white\",\"ticks\":\"\",\"title\":{\"standoff\":15},\"zerolinecolor\":\"white\",\"automargin\":true,\"zerolinewidth\":2},\"scene\":{\"xaxis\":{\"backgroundcolor\":\"#E5ECF6\",\"gridcolor\":\"white\",\"linecolor\":\"white\",\"showbackground\":true,\"ticks\":\"\",\"zerolinecolor\":\"white\",\"gridwidth\":2},\"yaxis\":{\"backgroundcolor\":\"#E5ECF6\",\"gridcolor\":\"white\",\"linecolor\":\"white\",\"showbackground\":true,\"ticks\":\"\",\"zerolinecolor\":\"white\",\"gridwidth\":2},\"zaxis\":{\"backgroundcolor\":\"#E5ECF6\",\"gridcolor\":\"white\",\"linecolor\":\"white\",\"showbackground\":true,\"ticks\":\"\",\"zerolinecolor\":\"white\",\"gridwidth\":2}},\"shapedefaults\":{\"line\":{\"color\":\"#2a3f5f\"}},\"annotationdefaults\":{\"arrowcolor\":\"#2a3f5f\",\"arrowhead\":0,\"arrowwidth\":1},\"geo\":{\"bgcolor\":\"white\",\"landcolor\":\"#E5ECF6\",\"subunitcolor\":\"white\",\"showland\":true,\"showlakes\":true,\"lakecolor\":\"white\"},\"title\":{\"x\":0.05},\"mapbox\":{\"style\":\"light\"}}},\"xaxis\":{\"anchor\":\"y\",\"domain\":[0.0,1.0],\"title\":{\"text\":\"x\"}},\"yaxis\":{\"anchor\":\"x\",\"domain\":[0.0,1.0],\"title\":{\"text\":\"y\"}},\"legend\":{\"title\":{\"text\":\"Cluster, status\"},\"tracegroupgap\":0},\"margin\":{\"t\":60},\"title\":{\"text\":\"UMAP vizualization\"}},                        {\"responsive\": true}                    ).then(function(){\n",
              "                            \n",
              "var gd = document.getElementById('3f4d0d8c-a6f8-4610-80fe-380ee11e298b');\n",
              "var x = new MutationObserver(function (mutations, observer) {{\n",
              "        var display = window.getComputedStyle(gd).display;\n",
              "        if (!display || display === 'none') {{\n",
              "            console.log([gd, 'removed!']);\n",
              "            Plotly.purge(gd);\n",
              "            observer.disconnect();\n",
              "        }}\n",
              "}});\n",
              "\n",
              "// Listen for the removal of the full notebook cells\n",
              "var notebookContainer = gd.closest('#notebook-container');\n",
              "if (notebookContainer) {{\n",
              "    x.observe(notebookContainer, {childList: true});\n",
              "}}\n",
              "\n",
              "// Listen for the clearing of the current output cell\n",
              "var outputEl = gd.closest('.output');\n",
              "if (outputEl) {{\n",
              "    x.observe(outputEl, {childList: true});\n",
              "}}\n",
              "\n",
              "                        })                };                            </script>        </div>\n",
              "</body>\n",
              "</html>"
            ]
          },
          "metadata": {},
          "output_type": "display_data"
        }
      ],
      "source": [
        "Kmeans = KMeans(n_clusters=number_clusters)\n",
        "Kmeans.fit(X)\n",
        "y_pred_kmeans = Kmeans.labels_\n",
        "\n",
        "UMAP_2d(X, y_pred_kmeans)"
      ]
    },
    {
      "cell_type": "markdown",
      "metadata": {
        "id": "iYckLP_7IHcM"
      },
      "source": [
        "#Evaluation of clustering algorithms\n",
        "\n",
        "Evaluation of clusters is done by different metrics of combining cohesion within a cluster and seperation between clusters.\n",
        "\n",
        "* Internal cluster validation\n",
        "  * Evaluation based on the clusters themselves\n",
        "* External cluster validation\n",
        "  * Evaluating of clusters with external labels eg. graduated/retired\n",
        "* Relative cluster validation\n",
        "  *  Evaluation results by variyng different parameters of the models\n"
      ]
    },
    {
      "cell_type": "markdown",
      "metadata": {
        "id": "ofr79k91kFss"
      },
      "source": [
        "##Internal validation"
      ]
    },
    {
      "cell_type": "markdown",
      "metadata": {
        "id": "QlqSx-LpRdg7"
      },
      "source": [
        "###Silhuette score\n",
        "\n",
        "The silhuette score for a sample is given as: <br>\n",
        "s = a - b / max(a, b) <br>\n",
        "\n",
        "a = mean distance between sample and all other points in cluster <br>\n",
        "b = mean distance bewteen sample and all other in next nearest cluster <br>\n",
        "\n",
        "The Silhuette Coefficient for a set sample is then the mean of the coefficient for each sample in the set. <br>\n",
        "\n",
        "-1 is an incorrect cluster, 1 is highly dense, and around 0 indicates overlapping clusters.\n",
        "\n",
        "\n",
        "[Documentation](https://scikit-learn.org/stable/modules/clustering.html#silhouette-coefficient)"
      ]
    },
    {
      "cell_type": "markdown",
      "metadata": {
        "id": "8BppSS1uUIz_"
      },
      "source": [
        "### Calinski Harabaz Index (Variance Ratio Criterion)\n",
        "\n",
        "A hihger score indicates a model with better defined clusters. Assesment of how well seperated and compact clusters are. Ther isn't a upper level to the index.\n",
        "\n",
        "Index = ratio of between-clusters dispersion and within-cluster dispersion\n",
        "\n",
        "between-cluster dispersion = how well **seperated** clusters are\n",
        "\n",
        "within-cluster dispersion = measures the **compactness** of each cluster\n",
        "\n",
        "[Documentation](https://scikit-learn.org/stable/modules/clustering.html#calinski-harabasz-index)"
      ]
    },
    {
      "cell_type": "markdown",
      "metadata": {
        "id": "2vRMzt_nXNpC"
      },
      "source": [
        "###Davies Bouldin index\n",
        "\n",
        "Lower index (0 is lowest possible score) = better seperation between clusters\n",
        "\n",
        "Index = average similarity between clusters\n",
        "\n",
        "Similarity compares the distance between clusters with the size of the clusters\n",
        "\n",
        "\n",
        "\n",
        "[Documentation](https://scikit-learn.org/stable/modules/clustering.html#davies-bouldin-index)"
      ]
    },
    {
      "cell_type": "markdown",
      "metadata": {
        "id": "chmFMh2sTnF1"
      },
      "source": [
        "###Comparison of internal metrics for different models"
      ]
    },
    {
      "cell_type": "code",
      "execution_count": 83,
      "metadata": {
        "colab": {
          "base_uri": "https://localhost:8080/",
          "height": 143
        },
        "id": "clsNWZrkT1iq",
        "outputId": "748b680a-b41e-46f3-db3f-9abfb840f827"
      },
      "outputs": [
        {
          "data": {
            "application/vnd.google.colaboratory.intrinsic+json": {
              "summary": "{\n  \"name\": \"compare_models(X, models)\",\n  \"rows\": 3,\n  \"fields\": [\n    {\n      \"column\": \"Model\",\n      \"properties\": {\n        \"dtype\": \"string\",\n        \"num_unique_values\": 3,\n        \"samples\": [\n          \"KMeans\",\n          \"DBSCAN\",\n          \"Labels\"\n        ],\n        \"semantic_type\": \"\",\n        \"description\": \"\"\n      }\n    },\n    {\n      \"column\": \"Silhouette\",\n      \"properties\": {\n        \"dtype\": \"number\",\n        \"std\": 0.19244294144779428,\n        \"min\": -0.04151396910109842,\n        \"max\": 0.32221938122690225,\n        \"num_unique_values\": 3,\n        \"samples\": [\n          0.32221938122690225,\n          0.249331578022624,\n          -0.04151396910109842\n        ],\n        \"semantic_type\": \"\",\n        \"description\": \"\"\n      }\n    },\n    {\n      \"column\": \"Davies-Bouldin\",\n      \"properties\": {\n        \"dtype\": \"number\",\n        \"std\": 4.823668592390429,\n        \"min\": 1.0687322054857322,\n        \"max\": 10.624957567870224,\n        \"num_unique_values\": 3,\n        \"samples\": [\n          1.0687322054857322,\n          6.99238130475081,\n          10.624957567870224\n        ],\n        \"semantic_type\": \"\",\n        \"description\": \"\"\n      }\n    },\n    {\n      \"column\": \"Calinski-Harabasz\",\n      \"properties\": {\n        \"dtype\": \"number\",\n        \"std\": 73.31854597727057,\n        \"min\": 2.165185862539506,\n        \"max\": 129.17658526638064,\n        \"num_unique_values\": 3,\n        \"samples\": [\n          129.17658526638064,\n          2.165185862539506,\n          2.2051005399929715\n        ],\n        \"semantic_type\": \"\",\n        \"description\": \"\"\n      }\n    }\n  ]\n}",
              "type": "dataframe"
            },
            "text/html": [
              "\n",
              "  <div id=\"df-4a9d87b8-b66c-467a-9456-22bd389854c4\" class=\"colab-df-container\">\n",
              "    <div>\n",
              "<style scoped>\n",
              "    .dataframe tbody tr th:only-of-type {\n",
              "        vertical-align: middle;\n",
              "    }\n",
              "\n",
              "    .dataframe tbody tr th {\n",
              "        vertical-align: top;\n",
              "    }\n",
              "\n",
              "    .dataframe thead th {\n",
              "        text-align: right;\n",
              "    }\n",
              "</style>\n",
              "<table border=\"1\" class=\"dataframe\">\n",
              "  <thead>\n",
              "    <tr style=\"text-align: right;\">\n",
              "      <th></th>\n",
              "      <th>Model</th>\n",
              "      <th>Silhouette</th>\n",
              "      <th>Davies-Bouldin</th>\n",
              "      <th>Calinski-Harabasz</th>\n",
              "    </tr>\n",
              "  </thead>\n",
              "  <tbody>\n",
              "    <tr>\n",
              "      <th>0</th>\n",
              "      <td>KMeans</td>\n",
              "      <td>0.322219</td>\n",
              "      <td>1.068732</td>\n",
              "      <td>129.176585</td>\n",
              "    </tr>\n",
              "    <tr>\n",
              "      <th>1</th>\n",
              "      <td>DBSCAN</td>\n",
              "      <td>0.249332</td>\n",
              "      <td>6.992381</td>\n",
              "      <td>2.165186</td>\n",
              "    </tr>\n",
              "    <tr>\n",
              "      <th>2</th>\n",
              "      <td>Labels</td>\n",
              "      <td>-0.041514</td>\n",
              "      <td>10.624958</td>\n",
              "      <td>2.205101</td>\n",
              "    </tr>\n",
              "  </tbody>\n",
              "</table>\n",
              "</div>\n",
              "    <div class=\"colab-df-buttons\">\n",
              "\n",
              "  <div class=\"colab-df-container\">\n",
              "    <button class=\"colab-df-convert\" onclick=\"convertToInteractive('df-4a9d87b8-b66c-467a-9456-22bd389854c4')\"\n",
              "            title=\"Convert this dataframe to an interactive table.\"\n",
              "            style=\"display:none;\">\n",
              "\n",
              "  <svg xmlns=\"http://www.w3.org/2000/svg\" height=\"24px\" viewBox=\"0 -960 960 960\">\n",
              "    <path d=\"M120-120v-720h720v720H120Zm60-500h600v-160H180v160Zm220 220h160v-160H400v160Zm0 220h160v-160H400v160ZM180-400h160v-160H180v160Zm440 0h160v-160H620v160ZM180-180h160v-160H180v160Zm440 0h160v-160H620v160Z\"/>\n",
              "  </svg>\n",
              "    </button>\n",
              "\n",
              "  <style>\n",
              "    .colab-df-container {\n",
              "      display:flex;\n",
              "      gap: 12px;\n",
              "    }\n",
              "\n",
              "    .colab-df-convert {\n",
              "      background-color: #E8F0FE;\n",
              "      border: none;\n",
              "      border-radius: 50%;\n",
              "      cursor: pointer;\n",
              "      display: none;\n",
              "      fill: #1967D2;\n",
              "      height: 32px;\n",
              "      padding: 0 0 0 0;\n",
              "      width: 32px;\n",
              "    }\n",
              "\n",
              "    .colab-df-convert:hover {\n",
              "      background-color: #E2EBFA;\n",
              "      box-shadow: 0px 1px 2px rgba(60, 64, 67, 0.3), 0px 1px 3px 1px rgba(60, 64, 67, 0.15);\n",
              "      fill: #174EA6;\n",
              "    }\n",
              "\n",
              "    .colab-df-buttons div {\n",
              "      margin-bottom: 4px;\n",
              "    }\n",
              "\n",
              "    [theme=dark] .colab-df-convert {\n",
              "      background-color: #3B4455;\n",
              "      fill: #D2E3FC;\n",
              "    }\n",
              "\n",
              "    [theme=dark] .colab-df-convert:hover {\n",
              "      background-color: #434B5C;\n",
              "      box-shadow: 0px 1px 3px 1px rgba(0, 0, 0, 0.15);\n",
              "      filter: drop-shadow(0px 1px 2px rgba(0, 0, 0, 0.3));\n",
              "      fill: #FFFFFF;\n",
              "    }\n",
              "  </style>\n",
              "\n",
              "    <script>\n",
              "      const buttonEl =\n",
              "        document.querySelector('#df-4a9d87b8-b66c-467a-9456-22bd389854c4 button.colab-df-convert');\n",
              "      buttonEl.style.display =\n",
              "        google.colab.kernel.accessAllowed ? 'block' : 'none';\n",
              "\n",
              "      async function convertToInteractive(key) {\n",
              "        const element = document.querySelector('#df-4a9d87b8-b66c-467a-9456-22bd389854c4');\n",
              "        const dataTable =\n",
              "          await google.colab.kernel.invokeFunction('convertToInteractive',\n",
              "                                                    [key], {});\n",
              "        if (!dataTable) return;\n",
              "\n",
              "        const docLinkHtml = 'Like what you see? Visit the ' +\n",
              "          '<a target=\"_blank\" href=https://colab.research.google.com/notebooks/data_table.ipynb>data table notebook</a>'\n",
              "          + ' to learn more about interactive tables.';\n",
              "        element.innerHTML = '';\n",
              "        dataTable['output_type'] = 'display_data';\n",
              "        await google.colab.output.renderOutput(dataTable, element);\n",
              "        const docLink = document.createElement('div');\n",
              "        docLink.innerHTML = docLinkHtml;\n",
              "        element.appendChild(docLink);\n",
              "      }\n",
              "    </script>\n",
              "  </div>\n",
              "\n",
              "\n",
              "<div id=\"df-5308e363-0d88-45e8-972c-9e38d6224872\">\n",
              "  <button class=\"colab-df-quickchart\" onclick=\"quickchart('df-5308e363-0d88-45e8-972c-9e38d6224872')\"\n",
              "            title=\"Suggest charts\"\n",
              "            style=\"display:none;\">\n",
              "\n",
              "<svg xmlns=\"http://www.w3.org/2000/svg\" height=\"24px\"viewBox=\"0 0 24 24\"\n",
              "     width=\"24px\">\n",
              "    <g>\n",
              "        <path d=\"M19 3H5c-1.1 0-2 .9-2 2v14c0 1.1.9 2 2 2h14c1.1 0 2-.9 2-2V5c0-1.1-.9-2-2-2zM9 17H7v-7h2v7zm4 0h-2V7h2v10zm4 0h-2v-4h2v4z\"/>\n",
              "    </g>\n",
              "</svg>\n",
              "  </button>\n",
              "\n",
              "<style>\n",
              "  .colab-df-quickchart {\n",
              "      --bg-color: #E8F0FE;\n",
              "      --fill-color: #1967D2;\n",
              "      --hover-bg-color: #E2EBFA;\n",
              "      --hover-fill-color: #174EA6;\n",
              "      --disabled-fill-color: #AAA;\n",
              "      --disabled-bg-color: #DDD;\n",
              "  }\n",
              "\n",
              "  [theme=dark] .colab-df-quickchart {\n",
              "      --bg-color: #3B4455;\n",
              "      --fill-color: #D2E3FC;\n",
              "      --hover-bg-color: #434B5C;\n",
              "      --hover-fill-color: #FFFFFF;\n",
              "      --disabled-bg-color: #3B4455;\n",
              "      --disabled-fill-color: #666;\n",
              "  }\n",
              "\n",
              "  .colab-df-quickchart {\n",
              "    background-color: var(--bg-color);\n",
              "    border: none;\n",
              "    border-radius: 50%;\n",
              "    cursor: pointer;\n",
              "    display: none;\n",
              "    fill: var(--fill-color);\n",
              "    height: 32px;\n",
              "    padding: 0;\n",
              "    width: 32px;\n",
              "  }\n",
              "\n",
              "  .colab-df-quickchart:hover {\n",
              "    background-color: var(--hover-bg-color);\n",
              "    box-shadow: 0 1px 2px rgba(60, 64, 67, 0.3), 0 1px 3px 1px rgba(60, 64, 67, 0.15);\n",
              "    fill: var(--button-hover-fill-color);\n",
              "  }\n",
              "\n",
              "  .colab-df-quickchart-complete:disabled,\n",
              "  .colab-df-quickchart-complete:disabled:hover {\n",
              "    background-color: var(--disabled-bg-color);\n",
              "    fill: var(--disabled-fill-color);\n",
              "    box-shadow: none;\n",
              "  }\n",
              "\n",
              "  .colab-df-spinner {\n",
              "    border: 2px solid var(--fill-color);\n",
              "    border-color: transparent;\n",
              "    border-bottom-color: var(--fill-color);\n",
              "    animation:\n",
              "      spin 1s steps(1) infinite;\n",
              "  }\n",
              "\n",
              "  @keyframes spin {\n",
              "    0% {\n",
              "      border-color: transparent;\n",
              "      border-bottom-color: var(--fill-color);\n",
              "      border-left-color: var(--fill-color);\n",
              "    }\n",
              "    20% {\n",
              "      border-color: transparent;\n",
              "      border-left-color: var(--fill-color);\n",
              "      border-top-color: var(--fill-color);\n",
              "    }\n",
              "    30% {\n",
              "      border-color: transparent;\n",
              "      border-left-color: var(--fill-color);\n",
              "      border-top-color: var(--fill-color);\n",
              "      border-right-color: var(--fill-color);\n",
              "    }\n",
              "    40% {\n",
              "      border-color: transparent;\n",
              "      border-right-color: var(--fill-color);\n",
              "      border-top-color: var(--fill-color);\n",
              "    }\n",
              "    60% {\n",
              "      border-color: transparent;\n",
              "      border-right-color: var(--fill-color);\n",
              "    }\n",
              "    80% {\n",
              "      border-color: transparent;\n",
              "      border-right-color: var(--fill-color);\n",
              "      border-bottom-color: var(--fill-color);\n",
              "    }\n",
              "    90% {\n",
              "      border-color: transparent;\n",
              "      border-bottom-color: var(--fill-color);\n",
              "    }\n",
              "  }\n",
              "</style>\n",
              "\n",
              "  <script>\n",
              "    async function quickchart(key) {\n",
              "      const quickchartButtonEl =\n",
              "        document.querySelector('#' + key + ' button');\n",
              "      quickchartButtonEl.disabled = true;  // To prevent multiple clicks.\n",
              "      quickchartButtonEl.classList.add('colab-df-spinner');\n",
              "      try {\n",
              "        const charts = await google.colab.kernel.invokeFunction(\n",
              "            'suggestCharts', [key], {});\n",
              "      } catch (error) {\n",
              "        console.error('Error during call to suggestCharts:', error);\n",
              "      }\n",
              "      quickchartButtonEl.classList.remove('colab-df-spinner');\n",
              "      quickchartButtonEl.classList.add('colab-df-quickchart-complete');\n",
              "    }\n",
              "    (() => {\n",
              "      let quickchartButtonEl =\n",
              "        document.querySelector('#df-5308e363-0d88-45e8-972c-9e38d6224872 button');\n",
              "      quickchartButtonEl.style.display =\n",
              "        google.colab.kernel.accessAllowed ? 'block' : 'none';\n",
              "    })();\n",
              "  </script>\n",
              "</div>\n",
              "\n",
              "    </div>\n",
              "  </div>\n"
            ],
            "text/plain": [
              "    Model  Silhouette  Davies-Bouldin  Calinski-Harabasz\n",
              "0  KMeans    0.322219        1.068732         129.176585\n",
              "1  DBSCAN    0.249332        6.992381           2.165186\n",
              "2  Labels   -0.041514       10.624958           2.205101"
            ]
          },
          "execution_count": 83,
          "metadata": {},
          "output_type": "execute_result"
        }
      ],
      "source": [
        "\n",
        "models = [\n",
        "    (\"KMeans\", y_pred_kmeans),\n",
        "    (\"DBSCAN\", y_pred_dbscan),\n",
        "    (\"Labels\", status)\n",
        "]\n",
        "\n",
        "def compare_models(data, models):\n",
        "  results = []\n",
        "\n",
        "  for name, y_pred in models:\n",
        "    score_db = davies_bouldin_score(data, y_pred)\n",
        "    score_sil = silhouette_score(data, y_pred)\n",
        "    score_ch = calinski_harabasz_score(data, y_pred)\n",
        "\n",
        "    results.append({\n",
        "            \"Model\": name,\n",
        "            \"Silhouette\": score_sil,\n",
        "            \"Davies-Bouldin\": score_db,\n",
        "            \"Calinski-Harabasz\": score_ch\n",
        "      })\n",
        "\n",
        "  return pd.DataFrame(results).sort_values(by=\"Silhouette\", ascending=False)\n",
        "\n",
        "compare_models(X, models)"
      ]
    },
    {
      "cell_type": "markdown",
      "metadata": {
        "id": "abVfKg2qkjYY"
      },
      "source": [
        "##External validation\n",
        "\n",
        "We want to identity inconsistencies between (retired/graduated) labels and clusters"
      ]
    },
    {
      "cell_type": "markdown",
      "metadata": {
        "id": "XW_2ON5DqsNt"
      },
      "source": [
        "###Homogeneity and completeness\n",
        "\n",
        "* homogeneity: each cluster contains only members of a single class.\n",
        "\n",
        "* completeness: all members of a given class are assigned to the same cluster.\n",
        "\n",
        "1 = perfect score, 0 = bad\n",
        "\n",
        "[Source](https://scikit-learn.org/stable/modules/clustering.html#homogeneity-completeness-and-v-measure)"
      ]
    },
    {
      "cell_type": "code",
      "execution_count": 144,
      "metadata": {
        "colab": {
          "base_uri": "https://localhost:8080/"
        },
        "id": "HZ0DA2IyqoYw",
        "outputId": "5e4c77a5-9db8-4391-bb76-ac2e50a09cb9"
      },
      "outputs": [
        {
          "name": "stdout",
          "output_type": "stream",
          "text": [
            "KMeans:  (np.float64(0.004468293774427729), np.float64(0.0039060903365795143), np.float64(0.004168320655449682))\n",
            "DBSCAN:  (np.float64(0.004104346884208348), np.float64(0.015259529482513433), np.float64(0.006468787664196648))\n"
          ]
        }
      ],
      "source": [
        "score_kmeans =homogeneity_completeness_v_measure(status, y_pred_kmeans)\n",
        "score_db = homogeneity_completeness_v_measure(status, y_pred_dbscan)\n",
        "\n",
        "print(\"KMeans: \", score_kmeans)\n",
        "print(\"DBSCAN: \", score_db)"
      ]
    },
    {
      "cell_type": "markdown",
      "metadata": {
        "id": "t_4KZLf8rzfP"
      },
      "source": [
        "##Classification with the clustering labels"
      ]
    },
    {
      "cell_type": "code",
      "execution_count": 151,
      "metadata": {
        "colab": {
          "base_uri": "https://localhost:8080/",
          "height": 651
        },
        "id": "RhYpiN5rsR7p",
        "outputId": "5b4dd080-de8c-47f9-f85c-ed1440aa5c3f"
      },
      "outputs": [
        {
          "name": "stderr",
          "output_type": "stream",
          "text": [
            "<ipython-input-151-1eec8d364749>:15: FutureWarning:\n",
            "\n",
            "\n",
            "\n",
            "Passing `palette` without assigning `hue` is deprecated and will be removed in v0.14.0. Assign the `x` variable to `hue` and set `legend=False` for the same effect.\n",
            "\n",
            "\n"
          ]
        },
        {
          "data": {
            "image/png": "[encoded data removed]",
            "text/plain": [
              "<Figure size 2000x500 with 1 Axes>"
            ]
          },
          "metadata": {},
          "output_type": "display_data"
        },
        {
          "data": {
            "text/plain": [
              "array([0.01394907, 0.02286974, 0.00959696, 0.01626146, 0.0223652 ,\n",
              "       0.02476087, 0.01825368, 0.02535666, 0.01760027, 0.0215329 ,\n",
              "       0.04932237, 0.0296086 , 0.03452567, 0.39207093, 0.02773556,\n",
              "       0.02377317, 0.03244695, 0.0439091 , 0.01246286, 0.04459424,\n",
              "       0.04531919, 0.01707849, 0.02152208, 0.03308397])"
            ]
          },
          "execution_count": 151,
          "metadata": {},
          "output_type": "execute_result"
        }
      ],
      "source": [
        "\n",
        "def overall_feature_importance(X, y_clusters, features, create_plot=True):\n",
        "    X_train, X_test, y_train, y_test = train_test_split(X, y_clusters, test_size=0.2, random_state=42)\n",
        "\n",
        "    rf = RandomForestClassifier(n_estimators=100, random_state=42)\n",
        "    rf.fit(X_train, y_train)\n",
        "\n",
        "    rf_pred = rf.predict(X_test)\n",
        "    overall_importance = rf.feature_importances_\n",
        "\n",
        "    accuracy = accuracy_score(y_test, rf_pred)\n",
        "\n",
        "\n",
        "    if(create_plot):\n",
        "      plt.figure(figsize=(20, 5))\n",
        "      sns.barplot(x=features, y=overall_importance, palette=\"viridis\")\n",
        "      plt.xlabel(\"Feature\")\n",
        "      plt.ylabel(\"Overall Importance Score\")\n",
        "      plt.title(f\"Overall Feature Importance (Random Forest) -- {accuracy:.2f} accuracy\")\n",
        "      plt.show()\n",
        "\n",
        "    return overall_importance\n",
        "\n",
        "overall_feature_importance(X, y_pred_kmeans, features)"
      ]
    },
    {
      "cell_type": "markdown",
      "metadata": {
        "id": "jMQ2tDzmLmLF"
      },
      "source": [
        "###Most importent feature for each cluster using classification"
      ]
    },
    {
      "cell_type": "code",
      "execution_count": null,
      "metadata": {
        "colab": {
          "base_uri": "https://localhost:8080/",
          "height": 487
        },
        "id": "I90iY_MFIB-m",
        "outputId": "2813dfcf-e0a5-41ec-9ac2-5e183e54a0cc"
      },
      "outputs": [
        {
          "data": {
            "image/png": "[encoded data removed]",
            "text/plain": [
              "<Figure size 1200x500 with 1 Axes>"
            ]
          },
          "metadata": {},
          "output_type": "display_data"
        }
      ],
      "source": [
        "\n",
        "def feature_importance_each_cluster(X, y_clusters, features,create_plot=True):\n",
        "    #binary classification on each cluster\n",
        "    cluster_importance = []\n",
        "    for cluster in range(number_clusters):\n",
        "        binary_target = (y_clusters == cluster) \n",
        "        rf_cluster = RandomForestClassifier(n_estimators=100, random_state=42)\n",
        "        rf_cluster.fit(X, binary_target)\n",
        "        cluster_importance.append(rf_cluster.feature_importances_)\n",
        "\n",
        "\n",
        "    #get most importent featre for each cluster\n",
        "    most_important_feature_idx = np.argmax(cluster_importance, axis=1)\n",
        "    most_important_feature = [features[idx] for idx in most_important_feature_idx]\n",
        "    max_importance_values = np.max(cluster_importance, axis=1)\n",
        "    clusters = [f\"Cluster {i}\" for i in range(number_clusters)]\n",
        "\n",
        "    if(create_plot):\n",
        "      #most importent feature for each cluster\n",
        "      plt.figure(figsize=(12, 5))\n",
        "      sns.barplot(x=clusters, y=max_importance_values, hue=most_important_feature, palette=\"viridis\")\n",
        "      plt.xlabel(\"Clusters\")\n",
        "      plt.ylabel(\"Importance\")\n",
        "      plt.title(\"Most important feature for each cluster\")\n",
        "      plt.legend(title=\"Features\", bbox_to_anchor=(1.2, 1), loc='upper right')\n",
        "      plt.show()\n",
        "\n",
        "feature_importance_each_cluster(X, y_pred_kmeans, features)"
      ]
    },
    {
      "cell_type": "markdown",
      "metadata": {
        "id": "BxbUJjX5ChCD"
      },
      "source": [
        "##Status distribution in each cluster"
      ]
    },
    {
      "cell_type": "code",
      "execution_count": 91,
      "metadata": {
        "colab": {
          "base_uri": "https://localhost:8080/",
          "height": 1000
        },
        "id": "w4FsapBiMLCx",
        "outputId": "b94b3830-e51d-4da6-8400-00d0934148ae"
      },
      "outputs": [
        {
          "data": {
            "image/png": "[encoded data removed]",
            "text/plain": [
              "<Figure size 1000x600 with 1 Axes>"
            ]
          },
          "metadata": {},
          "output_type": "display_data"
        },
        {
          "data": {
            "image/png": "[encoded data removed]",
            "text/plain": [
              "<Figure size 800x600 with 1 Axes>"
            ]
          },
          "metadata": {},
          "output_type": "display_data"
        }
      ],
      "source": [
        "def get_status_distribution(labels,  status_column=status):\n",
        "\n",
        "    df = pd.DataFrame({\n",
        "        'cluster': labels,\n",
        "        'status': status_column\n",
        "    })\n",
        "\n",
        "    return df.groupby(['cluster', 'status']).size().unstack(fill_value=0)\n",
        "\n",
        "\n",
        "status_distribution = get_status_distribution(y_pred_kmeans)\n",
        "status_distribution = get_status_distribution(y_pred_dbscan)\n",
        "\n",
        "\n",
        "status_distribution.plot(kind='bar', stacked=True, figsize=(10, 6))\n",
        "plt.title('Status Distribution within clusters')\n",
        "plt.xlabel('Cluster')\n",
        "plt.ylabel('Number of projects')\n",
        "plt.xticks(rotation=0)\n",
        "plt.legend(title='Status')\n",
        "plt.tight_layout()\n",
        "plt.show()\n",
        "\n",
        "status_counts = status.value_counts()\n",
        "\n",
        "status_counts.plot(kind='bar', figsize=(8, 6))\n",
        "plt.title('Status distribution by board decision')\n",
        "plt.xlabel('Status')\n",
        "plt.ylabel('Number of projects')\n",
        "plt.xticks(rotation=45, ha='right')\n",
        "plt.tight_layout()\n",
        "plt.show()\n"
      ]
    },
    {
      "cell_type": "code",
      "execution_count": null,
      "metadata": {
        "id": "xUWxHApWVSxk"
      },
      "outputs": [],
      "source": [
        "def create_labels_as_clusters_df(status):\n",
        "    status_counts = status.value_counts()\n",
        "    unique_statuses = status_counts.index.tolist()\n",
        "\n",
        "    overall_as_clusters_data = {}\n",
        "    for status in unique_statuses:\n",
        "        row = {}\n",
        "        for other_status in unique_statuses:\n",
        "            if status == other_status:\n",
        "                row[other_status] = status_counts[status]\n",
        "            else:\n",
        "                row[other_status] = 0\n",
        "        overall_as_clusters_data[status] = row\n",
        "\n",
        "    overall_as_clusters_df = pd.DataFrame.from_dict(overall_as_clusters_data, orient='index')\n",
        "    overall_as_clusters_df.index.name = 'cluster'\n",
        "\n",
        "    return overall_as_clusters_df\n",
        "\n",
        "\n",
        "def compute_overall_status_distribution(df):\n",
        "    total_counts = df.sum(axis=0)  # sum over clusters\n",
        "    total_sum = total_counts.sum()\n",
        "\n",
        "    if total_sum == 0:\n",
        "        return pd.Series(0, index=total_counts.index, dtype=float)\n",
        "\n",
        "    return total_counts / total_sum\n",
        "\n",
        "\n",
        "def get_absolute_difference(df1, df2):\n",
        "    diff = np.abs(df1.to_numpy() - df2.to_numpy())\n",
        "    total_diff = diff.sum()\n",
        "\n",
        "    return total_diff"
      ]
    },
    {
      "cell_type": "code",
      "execution_count": null,
      "metadata": {
        "colab": {
          "base_uri": "https://localhost:8080/",
          "height": 547
        },
        "id": "XAOy4h1LU9yI",
        "outputId": "a0f40597-39c1-4ba6-db12-76fe74031967"
      },
      "outputs": [
        {
          "name": "stdout",
          "output_type": "stream",
          "text": [
            "Total number of feature combinations to process: 4540361\n"
          ]
        },
        {
          "name": "stderr",
          "output_type": "stream",
          "text": [
            "Processing Feature Combinations:   0%|          | 5/4540361 [00:00<29:23:32, 42.91it/s]"
          ]
        },
        {
          "name": "stdout",
          "output_type": "stream",
          "text": [
            "New Best -> Features: ['SWQ-1', 'SWQ-2.1'], TVD: 470.0000\n",
            "New Best -> Features: ['SWQ-1', 'SWQ-2.2'], TVD: 382.0000\n"
          ]
        },
        {
          "name": "stderr",
          "output_type": "stream",
          "text": [
            "Processing Feature Combinations:   0%|          | 7/4540361 [00:00<29:23:32, 42.91it/s]"
          ]
        },
        {
          "name": "stdout",
          "output_type": "stream",
          "text": [
            "New Best -> Features: ['SWQ-1', 'STA-1'], TVD: 350.0000\n"
          ]
        },
        {
          "name": "stderr",
          "output_type": "stream",
          "text": [
            "Processing Feature Combinations:   0%|          | 419/4540361 [00:11<31:57:04, 39.47it/s]"
          ]
        },
        {
          "name": "stdout",
          "output_type": "stream",
          "text": [
            "New Best -> Features: ['SWQ-1', 'STA-1', 'STA-5'], TVD: 346.0000\n"
          ]
        },
        {
          "name": "stderr",
          "output_type": "stream",
          "text": [
            "Processing Feature Combinations:   0%|          | 1804/4540361 [00:45<29:28:08, 42.78it/s]"
          ]
        },
        {
          "name": "stdout",
          "output_type": "stream",
          "text": [
            "New Best -> Features: ['STA-1', 'STA-6', 'COM-1'], TVD: 344.0000\n"
          ]
        },
        {
          "name": "stderr",
          "output_type": "stream",
          "text": [
            "Processing Feature Combinations:   0%|          | 3404/4540361 [01:15<22:58:24, 54.86it/s]"
          ]
        },
        {
          "name": "stdout",
          "output_type": "stream",
          "text": [
            "New Best -> Features: ['SWQ-1', 'SWQ-2.7', 'STA-1', 'STA-8'], TVD: 340.0000\n"
          ]
        },
        {
          "name": "stderr",
          "output_type": "stream",
          "text": [
            "Processing Feature Combinations:   0%|          | 18922/4540361 [07:34<24:49:59, 50.58it/s]"
          ]
        },
        {
          "name": "stdout",
          "output_type": "stream",
          "text": [
            "New Best -> Features: ['SWQ-1', 'SWQ-2.6', 'STA-1', 'STA-8', 'COM-1'], TVD: 336.0000\n"
          ]
        },
        {
          "name": "stderr",
          "output_type": "stream",
          "text": [
            "Processing Feature Combinations:   1%|          | 27460/4540361 [10:22<23:08:23, 54.17it/s]"
          ]
        },
        {
          "name": "stdout",
          "output_type": "stream",
          "text": [
            "New Best -> Features: ['SWQ-2.1', 'STA-1', 'STA-4', 'STA-5', 'COM-1'], TVD: 332.0000\n"
          ]
        },
        {
          "name": "stderr",
          "output_type": "stream",
          "text": [
            "Processing Feature Combinations:   4%|▍         | 183776/4540361 [1:02:29<23:35:20, 51.30it/s]"
          ]
        },
        {
          "name": "stdout",
          "output_type": "stream",
          "text": [
            "New Best -> Features: ['STA-1', 'STA-4', 'STA-5', 'STA-6', 'TEC-2', 'COM-1'], TVD: 326.0000\n"
          ]
        },
        {
          "name": "stderr",
          "output_type": "stream",
          "text": [
            "Processing Feature Combinations:   7%|▋         | 306400/4540361 [1:43:47<23:54:17, 49.20it/s]\n"
          ]
        },
        {
          "ename": "KeyboardInterrupt",
          "evalue": "",
          "output_type": "error",
          "traceback": [
            "\u001b[0;31m---------------------------------------------------------------------------\u001b[0m",
            "\u001b[0;31mKeyboardInterrupt\u001b[0m                         Traceback (most recent call last)",
            "\u001b[0;32m<ipython-input-141-421187f48d73>\u001b[0m in \u001b[0;36m<cell line: 0>\u001b[0;34m()\u001b[0m\n\u001b[1;32m     25\u001b[0m             \u001b[0;31m# Cluster\u001b[0m\u001b[0;34m\u001b[0m\u001b[0;34m\u001b[0m\u001b[0m\n\u001b[1;32m     26\u001b[0m             \u001b[0mkmeans\u001b[0m \u001b[0;34m=\u001b[0m \u001b[0mKMeans\u001b[0m\u001b[0;34m(\u001b[0m\u001b[0mn_clusters\u001b[0m\u001b[0;34m=\u001b[0m\u001b[0mn_clusters\u001b[0m\u001b[0;34m,\u001b[0m \u001b[0mrandom_state\u001b[0m\u001b[0;34m=\u001b[0m\u001b[0;36m42\u001b[0m\u001b[0;34m,\u001b[0m \u001b[0mn_init\u001b[0m\u001b[0;34m=\u001b[0m\u001b[0;36m10\u001b[0m\u001b[0;34m,\u001b[0m \u001b[0mmax_iter\u001b[0m\u001b[0;34m=\u001b[0m\u001b[0;36m300\u001b[0m\u001b[0;34m,\u001b[0m \u001b[0mtol\u001b[0m\u001b[0;34m=\u001b[0m\u001b[0;36m1e-4\u001b[0m\u001b[0;34m)\u001b[0m\u001b[0;34m\u001b[0m\u001b[0;34m\u001b[0m\u001b[0m\n\u001b[0;32m---> 27\u001b[0;31m             \u001b[0mcluster_labels\u001b[0m \u001b[0;34m=\u001b[0m \u001b[0mkmeans\u001b[0m\u001b[0;34m.\u001b[0m\u001b[0mfit_predict\u001b[0m\u001b[0;34m(\u001b[0m\u001b[0mX_subset\u001b[0m\u001b[0;34m)\u001b[0m\u001b[0;34m\u001b[0m\u001b[0;34m\u001b[0m\u001b[0m\n\u001b[0m\u001b[1;32m     28\u001b[0m \u001b[0;34m\u001b[0m\u001b[0m\n\u001b[1;32m     29\u001b[0m             \u001b[0;31m# Evaluate\u001b[0m\u001b[0;34m\u001b[0m\u001b[0;34m\u001b[0m\u001b[0m\n",
            "\u001b[0;32m/usr/local/lib/python3.11/dist-packages/sklearn/cluster/_kmeans.py\u001b[0m in \u001b[0;36mfit_predict\u001b[0;34m(self, X, y, sample_weight)\u001b[0m\n\u001b[1;32m   1062\u001b[0m             \u001b[0mIndex\u001b[0m \u001b[0mof\u001b[0m \u001b[0mthe\u001b[0m \u001b[0mcluster\u001b[0m \u001b[0meach\u001b[0m \u001b[0msample\u001b[0m \u001b[0mbelongs\u001b[0m \u001b[0mto\u001b[0m\u001b[0;34m.\u001b[0m\u001b[0;34m\u001b[0m\u001b[0;34m\u001b[0m\u001b[0m\n\u001b[1;32m   1063\u001b[0m         \"\"\"\n\u001b[0;32m-> 1064\u001b[0;31m         \u001b[0;32mreturn\u001b[0m \u001b[0mself\u001b[0m\u001b[0;34m.\u001b[0m\u001b[0mfit\u001b[0m\u001b[0;34m(\u001b[0m\u001b[0mX\u001b[0m\u001b[0;34m,\u001b[0m \u001b[0msample_weight\u001b[0m\u001b[0;34m=\u001b[0m\u001b[0msample_weight\u001b[0m\u001b[0;34m)\u001b[0m\u001b[0;34m.\u001b[0m\u001b[0mlabels_\u001b[0m\u001b[0;34m\u001b[0m\u001b[0;34m\u001b[0m\u001b[0m\n\u001b[0m\u001b[1;32m   1065\u001b[0m \u001b[0;34m\u001b[0m\u001b[0m\n\u001b[1;32m   1066\u001b[0m     \u001b[0;32mdef\u001b[0m \u001b[0mpredict\u001b[0m\u001b[0;34m(\u001b[0m\u001b[0mself\u001b[0m\u001b[0;34m,\u001b[0m \u001b[0mX\u001b[0m\u001b[0;34m)\u001b[0m\u001b[0;34m:\u001b[0m\u001b[0;34m\u001b[0m\u001b[0;34m\u001b[0m\u001b[0m\n",
            "\u001b[0;32m/usr/local/lib/python3.11/dist-packages/sklearn/base.py\u001b[0m in \u001b[0;36mwrapper\u001b[0;34m(estimator, *args, **kwargs)\u001b[0m\n\u001b[1;32m   1387\u001b[0m                 )\n\u001b[1;32m   1388\u001b[0m             ):\n\u001b[0;32m-> 1389\u001b[0;31m                 \u001b[0;32mreturn\u001b[0m \u001b[0mfit_method\u001b[0m\u001b[0;34m(\u001b[0m\u001b[0mestimator\u001b[0m\u001b[0;34m,\u001b[0m \u001b[0;34m*\u001b[0m\u001b[0margs\u001b[0m\u001b[0;34m,\u001b[0m \u001b[0;34m**\u001b[0m\u001b[0mkwargs\u001b[0m\u001b[0;34m)\u001b[0m\u001b[0;34m\u001b[0m\u001b[0;34m\u001b[0m\u001b[0m\n\u001b[0m\u001b[1;32m   1390\u001b[0m \u001b[0;34m\u001b[0m\u001b[0m\n\u001b[1;32m   1391\u001b[0m         \u001b[0;32mreturn\u001b[0m \u001b[0mwrapper\u001b[0m\u001b[0;34m\u001b[0m\u001b[0;34m\u001b[0m\u001b[0m\n",
            "\u001b[0;32m/usr/local/lib/python3.11/dist-packages/sklearn/cluster/_kmeans.py\u001b[0m in \u001b[0;36mfit\u001b[0;34m(self, X, y, sample_weight)\u001b[0m\n\u001b[1;32m   1497\u001b[0m         \u001b[0;32mfor\u001b[0m \u001b[0mi\u001b[0m \u001b[0;32min\u001b[0m \u001b[0mrange\u001b[0m\u001b[0;34m(\u001b[0m\u001b[0mself\u001b[0m\u001b[0;34m.\u001b[0m\u001b[0m_n_init\u001b[0m\u001b[0;34m)\u001b[0m\u001b[0;34m:\u001b[0m\u001b[0;34m\u001b[0m\u001b[0;34m\u001b[0m\u001b[0m\n\u001b[1;32m   1498\u001b[0m             \u001b[0;31m# Initialize centers\u001b[0m\u001b[0;34m\u001b[0m\u001b[0;34m\u001b[0m\u001b[0m\n\u001b[0;32m-> 1499\u001b[0;31m             centers_init = self._init_centroids(\n\u001b[0m\u001b[1;32m   1500\u001b[0m                 \u001b[0mX\u001b[0m\u001b[0;34m,\u001b[0m\u001b[0;34m\u001b[0m\u001b[0;34m\u001b[0m\u001b[0m\n\u001b[1;32m   1501\u001b[0m                 \u001b[0mx_squared_norms\u001b[0m\u001b[0;34m=\u001b[0m\u001b[0mx_squared_norms\u001b[0m\u001b[0;34m,\u001b[0m\u001b[0;34m\u001b[0m\u001b[0;34m\u001b[0m\u001b[0m\n",
            "\u001b[0;32m/usr/local/lib/python3.11/dist-packages/sklearn/cluster/_kmeans.py\u001b[0m in \u001b[0;36m_init_centroids\u001b[0;34m(self, X, x_squared_norms, init, random_state, sample_weight, init_size, n_centroids)\u001b[0m\n\u001b[1;32m   1012\u001b[0m \u001b[0;34m\u001b[0m\u001b[0m\n\u001b[1;32m   1013\u001b[0m         \u001b[0;32mif\u001b[0m \u001b[0misinstance\u001b[0m\u001b[0;34m(\u001b[0m\u001b[0minit\u001b[0m\u001b[0;34m,\u001b[0m \u001b[0mstr\u001b[0m\u001b[0;34m)\u001b[0m \u001b[0;32mand\u001b[0m \u001b[0minit\u001b[0m \u001b[0;34m==\u001b[0m \u001b[0;34m\"k-means++\"\u001b[0m\u001b[0;34m:\u001b[0m\u001b[0;34m\u001b[0m\u001b[0;34m\u001b[0m\u001b[0m\n\u001b[0;32m-> 1014\u001b[0;31m             centers, _ = _kmeans_plusplus(\n\u001b[0m\u001b[1;32m   1015\u001b[0m                 \u001b[0mX\u001b[0m\u001b[0;34m,\u001b[0m\u001b[0;34m\u001b[0m\u001b[0;34m\u001b[0m\u001b[0m\n\u001b[1;32m   1016\u001b[0m                 \u001b[0mn_clusters\u001b[0m\u001b[0;34m,\u001b[0m\u001b[0;34m\u001b[0m\u001b[0;34m\u001b[0m\u001b[0m\n",
            "\u001b[0;32m/usr/local/lib/python3.11/dist-packages/sklearn/cluster/_kmeans.py\u001b[0m in \u001b[0;36m_kmeans_plusplus\u001b[0;34m(X, n_clusters, x_squared_norms, sample_weight, random_state, n_local_trials)\u001b[0m\n\u001b[1;32m    264\u001b[0m \u001b[0;34m\u001b[0m\u001b[0m\n\u001b[1;32m    265\u001b[0m         \u001b[0;31m# Permanently add best center candidate found in local tries\u001b[0m\u001b[0;34m\u001b[0m\u001b[0;34m\u001b[0m\u001b[0m\n\u001b[0;32m--> 266\u001b[0;31m         \u001b[0;32mif\u001b[0m \u001b[0msp\u001b[0m\u001b[0;34m.\u001b[0m\u001b[0missparse\u001b[0m\u001b[0;34m(\u001b[0m\u001b[0mX\u001b[0m\u001b[0;34m)\u001b[0m\u001b[0;34m:\u001b[0m\u001b[0;34m\u001b[0m\u001b[0;34m\u001b[0m\u001b[0m\n\u001b[0m\u001b[1;32m    267\u001b[0m             \u001b[0mcenters\u001b[0m\u001b[0;34m[\u001b[0m\u001b[0mc\u001b[0m\u001b[0;34m]\u001b[0m \u001b[0;34m=\u001b[0m \u001b[0mX\u001b[0m\u001b[0;34m[\u001b[0m\u001b[0;34m[\u001b[0m\u001b[0mbest_candidate\u001b[0m\u001b[0;34m]\u001b[0m\u001b[0;34m]\u001b[0m\u001b[0;34m.\u001b[0m\u001b[0mtoarray\u001b[0m\u001b[0;34m(\u001b[0m\u001b[0;34m)\u001b[0m\u001b[0;34m\u001b[0m\u001b[0;34m\u001b[0m\u001b[0m\n\u001b[1;32m    268\u001b[0m         \u001b[0;32melse\u001b[0m\u001b[0;34m:\u001b[0m\u001b[0;34m\u001b[0m\u001b[0;34m\u001b[0m\u001b[0m\n",
            "\u001b[0;32m/usr/local/lib/python3.11/dist-packages/scipy/sparse/_base.py\u001b[0m in \u001b[0;36missparse\u001b[0;34m(x)\u001b[0m\n\u001b[1;32m   1333\u001b[0m \u001b[0;34m\u001b[0m\u001b[0m\n\u001b[1;32m   1334\u001b[0m \u001b[0;34m\u001b[0m\u001b[0m\n\u001b[0;32m-> 1335\u001b[0;31m \u001b[0;32mdef\u001b[0m \u001b[0missparse\u001b[0m\u001b[0;34m(\u001b[0m\u001b[0mx\u001b[0m\u001b[0;34m)\u001b[0m\u001b[0;34m:\u001b[0m\u001b[0;34m\u001b[0m\u001b[0;34m\u001b[0m\u001b[0m\n\u001b[0m\u001b[1;32m   1336\u001b[0m     \"\"\"Is `x` of a sparse array or sparse matrix type?\n\u001b[1;32m   1337\u001b[0m \u001b[0;34m\u001b[0m\u001b[0m\n",
            "\u001b[0;31mKeyboardInterrupt\u001b[0m: "
          ]
        }
      ],
      "source": [
        "\n",
        "all_features = list(X.columns)\n",
        "n_features = 10\n",
        "best_tvd = float('inf')\n",
        "best_features = None\n",
        "processed_combinations = set()\n",
        "label_as_cluster_distribution = create_labels_as_clusters_df(status)\n",
        "\n",
        "n_clusters = 3\n",
        "\n",
        "total_combinations = sum(len(list(combinations(all_features, k))) for k in range(2, n_features + 1))\n",
        "\n",
        "\n",
        "combinations_processed = 0\n",
        "start_time = time.time()\n",
        "\n",
        "print(f\"Total number of feature combinations to process: {total_combinations}\")\n",
        "\n",
        "with tqdm(total=total_combinations, desc=\"Processing Feature Combinations\") as pbar:\n",
        "    for k in range(2, n_features + 1):\n",
        "        for feature_subset in combinations(all_features, k):\n",
        "            X_subset = X[list(feature_subset)]\n",
        "\n",
        "            # Cluster\n",
        "            kmeans = KMeans(n_clusters=n_clusters, random_state=42, n_init=10, max_iter=300, tol=1e-4)\n",
        "            cluster_labels = kmeans.fit_predict(X_subset)\n",
        "\n",
        "            # Evaluate\n",
        "            status_dist = get_status_distribution(cluster_labels)\n",
        "            overall_tvd = get_absolute_difference(status_dist, label_as_cluster_distribution )\n",
        "\n",
        "            if overall_tvd < best_tvd:\n",
        "                best_tvd = overall_tvd\n",
        "                best_features = list(feature_subset)\n",
        "                tqdm.write(f\"New Best -> Features: {best_features}, TVD: {best_tvd:.4f}\")\n",
        "\n",
        "            # Update progress\n",
        "            pbar.update(1)\n",
        "\n",
        "elapsed_time = time.time() - start_time\n",
        "print(\"\\n\\nBest Feature Subset:\")\n",
        "print(f\"Features: {best_features}, absolute diff: {best_tvd:.4f}, Time Elapsed: {elapsed_time:.2f}s\")\n"
      ]
    },
    {
      "cell_type": "markdown",
      "metadata": {
        "id": "XK6dCsKcqQpd"
      },
      "source": [
        "# Outlier Detection\n",
        "\n",
        "[Scikit learn - Outlier detection](https://scikit-learn.org/stable/modules/outlier_detection.html)"
      ]
    },
    {
      "cell_type": "markdown",
      "metadata": {
        "id": "dOkXxCHVqrHi"
      },
      "source": [
        "## Isolation Forest\n",
        "\n",
        "[Isolation forest example](https://scikit-learn.org/stable/auto_examples/ensemble/plot_isolation_forest.html#sphx-glr-auto-examples-ensemble-plot-isolation-forest-py)<br>\n",
        "[Isolation forest documentation](https://scikit-learn.org/stable/modules/generated/sklearn.ensemble.IsolationForest.html#sklearn.ensemble.IsolationForest)"
      ]
    },
    {
      "cell_type": "code",
      "execution_count": null,
      "metadata": {
        "colab": {
          "base_uri": "https://localhost:8080/",
          "height": 542
        },
        "id": "4OJEp1z2td4Q",
        "outputId": "8afdc95b-f983-460d-f06a-0f08de529a06"
      },
      "outputs": [
        {
          "data": {
            "text/html": [
              "<html>\n",
              "<head><meta charset=\"utf-8\" /></head>\n",
              "<body>\n",
              "    <div>            <script src=\"https://cdnjs.cloudflare.com/ajax/libs/mathjax/2.7.5/MathJax.js?config=TeX-AMS-MML_SVG\"></script><script type=\"text/javascript\">if (window.MathJax && window.MathJax.Hub && window.MathJax.Hub.Config) {window.MathJax.Hub.Config({SVG: {font: \"STIX-Web\"}});}</script>                <script type=\"text/javascript\">window.PlotlyConfig = {MathJaxConfig: 'local'};</script>\n",
              "        <script charset=\"utf-8\" src=\"https://cdn.plot.ly/plotly-2.35.2.min.js\"></script>                <div id=\"aa9b9178-77bf-493b-abd8-fca212dff56a\" class=\"plotly-graph-div\" style=\"height:525px; width:100%;\"></div>            <script type=\"text/javascript\">                                    window.PLOTLYENV=window.PLOTLYENV || {};                                    if (document.getElementById(\"aa9b9178-77bf-493b-abd8-fca212dff56a\")) {                    Plotly.newPlot(                        \"aa9b9178-77bf-493b-abd8-fca212dff56a\",                        [{\"hovertemplate\":\"Projects Age=%{x}\\u003cbr\\u003eCOM-1 Metric=%{y}\\u003cbr\\u003eoutlier=%{marker.color}\\u003cextra\\u003e\\u003c\\u002fextra\\u003e\",\"legendgroup\":\"\",\"marker\":{\"color\":[1,-1,1,1,1,1,1,1,1,1,1,1,1,1,1,1,1,-1,1,1,1,1,1,1,1,1,1,1,1,1,1,1,1,1,-1,1,1,1,1,1,1,1,1,1,1,1,1,1,1,-1,1,1,1,1,1,1,1,1,1,1,1,1,1,1,1,1,1,1,1,1,1,1,1,1,1,1,-1,1,1,-1,1,-1,1,1,1,1,1,1,1,-1,1,1,1,-1,1,1,1,-1,1,1,1,1,1,1,1,1,1,-1,1,1,1,1,-1,1,1,1,1,1,1,1,1,1,1,-1,1,1,1,1,1,1,1,1,1,1,1,1,1,1,1,1,1,1,1,1,1,1,1,1,1,1,1,1,1,1,1,1,1,1,1,1,1,1,1,-1,-1,1,1,1,1,-1,1,1,1,1,1,1,-1,1,1,1,1,1,1,1,1,1,1,1,1,1,1,-1,1,1,1,1,1,1,1,1,1,1,1,1,1,1,1,1,1,1,1,-1,1,1,1,1,1,1,1,1,1,1,1,1,1,1,1,1,1,1,1,1,1,1,1,1,1,1,1,1,1,1,1,1,1,1,1,1,1,1,1,1,1,1,-1,1,1,1,1,1,1,1,1,1,1,1,1,-1,1,1,1,1,1,1,1,1,1,-1,-1,-1,1,-1],\"coloraxis\":\"coloraxis\",\"symbol\":\"circle\"},\"mode\":\"markers\",\"name\":\"\",\"orientation\":\"h\",\"showlegend\":false,\"x\":[16.0,11.0,5.0,6.0,14.0,16.0,10.0,11.0,14.0,8.0,13.0,10.0,14.0,16.0,10.0,8.0,3.0,9.0,14.0,14.0,12.0,10.0,16.0,11.0,11.0,9.0,16.0,16.0,4.0,11.0,16.0,13.0,14.0,12.0,12.0,10.0,7.0,16.0,13.0,11.0,8.0,11.0,6.0,12.0,15.0,14.0,14.0,9.0,6.0,8.0,13.0,13.0,13.0,12.0,15.0,10.0,14.0,16.0,6.0,12.0,16.0,10.0,8.0,11.0,14.0,12.0,10.0,14.0,10.0,16.0,14.0,11.0,11.0,8.0,10.0,9.0,10.0,14.0,15.0,15.0,11.0,6.0,9.0,7.0,10.0,9.0,5.0,12.0,11.0,7.0,16.0,16.0,12.0,12.0,11.0,9.0,9.0,14.0,11.0,9.0,10.0,8.0,11.0,14.0,16.0,6.0,13.0,16.0,14.0,10.0,14.0,10.0,13.0,11.0,12.0,12.0,10.0,9.0,7.0,10.0,11.0,16.0,15.0,16.0,12.0,12.0,16.0,9.0,6.0,14.0,11.0,3.0,12.0,16.0,14.0,14.0,9.0,10.0,16.0,3.0,11.0,16.0,11.0,14.0,16.0,12.0,9.0,16.0,13.0,11.0,11.0,11.0,9.0,16.0,10.0,10.0,12.0,10.0,16.0,10.0,9.0,8.0,11.0,9.0,7.0,16.0,16.0,10.0,16.0,4.0,16.0,14.0,15.0,12.0,11.0,7.0,16.0,10.0,16.0,11.0,10.0,9.0,11.0,13.0,9.0,12.0,16.0,16.0,10.0,8.0,9.0,10.0,8.0,9.0,10.0,12.0,8.0,10.0,15.0,8.0,8.0,8.0,16.0,14.0,9.0,8.0,8.0,9.0,3.0,5.0,11.0,6.0,10.0,11.0,10.0,8.0,6.0,9.0,9.0,9.0,10.0,10.0,12.0,10.0,9.0,14.0,14.0,14.0,11.0,9.0,10.0,7.0,9.0,10.0,15.0,10.0,13.0,15.0,9.0,12.0,9.0,12.0,9.0,13.0,10.0,12.0,11.0,15.0,9.0,7.0,10.0,11.0,13.0,10.0,6.0,7.0,12.0,8.0,12.0,7.0,6.0,8.0,16.0,16.0,16.0,11.0,16.0,3.0,16.0,14.0,13.0,9.0,11.0,null,null,null,null,8.0,12.0,8.0,13.0,6.0],\"xaxis\":\"x\",\"y\":[\"2938138.296738281\",\"6952636.983029673\",\"3819620.014249615\",\"901329.6034821316\",\"13758961.065113984\",\"Issues missing\",\"1023938.229337128\",\"Issues missing\",\"765781.3315203603\",\"1416990.0503432495\",\"13348221.226230945\",\"1396136.5372975792\",\"2006277.8695652173\",\"6276092.744544736\",\"2026352.3108965103\",\"4064172.445812565\",\"4232884.336787762\",\"11782722.634169074\",\"7829269.789685184\",\"2239355.087712103\",\"Issues missing\",\"5337527.811984751\",\"14307120.323351242\",\"5305442.43280377\",\"2703570.3499742015\",\"2573552.0577221178\",\"3227039.5237649814\",\"6577428.130723387\",\"888140.8746164137\",\"9461165.844177874\",\"3686599.8813372506\",\"2653716.3200955587\",\"2862894.8425464923\",\"4661232.728844296\",\"2080764.2270408163\",\"3116378.3989677425\",\"1748916.7862903227\",\"17370697.99749606\",\"438762.56447754515\",\"8543990.76894107\",\"19028044.231168017\",\"16224143.333162652\",\"5524025.4081\",\"7193572.719667012\",\"1942697.7177250981\",\"7317177.814795682\",\"1849309.6265779824\",\"1494305.4623906256\",\"758930.9804658152\",\"1725646.2921501705\",\"4160190.3085112846\",\"17795523.673546858\",\"3568030.261752914\",\"6254384.54312573\",\"4435278.189178218\",\"1588072.006220073\",\"12525233.49368811\",\"11666261.171568867\",\"4189583.6549390242\",\"1868437.627718405\",\"5142729.431256367\",\"9656785.984694434\",\"17518627.769230768\",\"4324400.851542074\",\"11704806.925416945\",\"8056326.837037037\",\"2172687.1029326427\",\"4380432.478579778\",\"3973503.7176498156\",\"5353122.073008941\",\"1298573.5597413937\",\"1098363.107780876\",\"8514490.679457834\",\"3495791.242364961\",\"11021579.950147426\",\"3919637.179717367\",\"1500340.8587483051\",\"1505300.596588132\",\"2016328.7287991385\",\"1158840.38778382\",\"3662591.475987118\",\"9956725.067920053\",\"954899.7610319076\",\"7182701.316714491\",\"1599548.3711340206\",\"6952346.002343155\",\"2799853.7865064694\",\"8495139.0\",\"10405759.174394222\",\"4307390.764389097\",\"7615634.967521353\",\"2778169.5282328557\",\"2479891.0485543483\",\"341916.33904109587\",\"3183048.971077252\",\"5767237.8681283165\",\"212245.0\",\"4881563.368126714\",\"3863104.6460014815\",\"9422959.918027366\",\"3423467.6758924467\",\"994922.4987190436\",\"1869857.867993928\",\"Issues missing\",\"6767726.1931034485\",\"1045868.835408771\",\"9917073.167291261\",\"7368051.2342243\",\"3056614.7383840824\",\"4570672.762391403\",\"1853120.4706450012\",\"1734615.1247053542\",\"1536761.0113331343\",\"3973982.483487847\",\"5316112.854583107\",\"4544793.764252634\",\"1507542.85586738\",\"4917420.888888889\",\"11591573.477364866\",\"7153691.939189189\",\"6098392.2830699645\",\"9465195.94196493\",\"171898.90657142855\",\"5850900.638448691\",\"5530371.727073299\",\"7170435.904155253\",\"7633592.074445862\",\"3118838.6809346927\",\"798863.0274423077\",\"6493955.899921257\",\"3699731.3453513547\",\"1360499.9835766423\",\"12168864.498799697\",\"5886853.804345235\",\"13076362.754621353\",\"6846281.397965649\",\"4079354.739025857\",\"1488120.642857143\",\"11937179.846509341\",\"833410.7706766918\",\"3402117.0505230892\",\"3478102.0736324238\",\"2758498.131188119\",\"3156522.0658247666\",\"10376787.017367985\",\"3608154.793075473\",\"5351959.264741484\",\"7839941.428952428\",\"11763581.868168116\",\"2778333.256623267\",\"2837091.6547071375\",\"2451691.2257217956\",\"4179780.3138552\",\"35028247.56510864\",\"5337707.143636074\",\"2115291.305882353\",\"27125651.41981724\",\"3137115.141788171\",\"Issues missing\",\"1301940.800595238\",\"2891828.7415288896\",\"2486568.5857371795\",\"9505022.890423281\",\"1161504.1938786507\",\"471951.3027959548\",\"2131112.2827931223\",\"285430.79032258067\",\"471212.21141602634\",\"2693158.6690781005\",\"5804980.244132344\",\"Issues missing\",\"3420640.9166456223\",\"3390509.830874685\",\"50248924.65036185\",\"2242744.1498368895\",\"2487376.9078014186\",\"5721383.217146743\",\"4559071.683918863\",\"3625940.604568334\",\"4414310.49166312\",\"12860556.038354382\",\"1446687.8962162163\",\"1999797.9251477828\",\"17459245.647946816\",\"3459915.717818583\",\"3892117.152621719\",\"7075177.10249408\",\"2530141.3405298893\",\"4837967.293262927\",\"21826305.97335807\",\"16071352.59264214\",\"5147353.154423019\",\"3509566.0565843736\",\"4559486.354592591\",\"46596848.02503785\",\"6037019.775566318\",\"21095761.69957851\",\"14976894.828093171\",\"2167756.2674780684\",\"4524061.065319865\",\"570062.2258064516\",\"207890.46666666667\",\"6043082.293008385\",\"307880.1031494253\",\"5486906.133333334\",\"91721.18181818182\",\"8753167.2676\",\"2021894.153536083\",\"6258837.837991734\",\"49379.07142857143\",\"4521682.770293652\",\"811719.8195\",\"217262.16511764706\",\"915542.6232045457\",\"2115615.502\",\"1002336.1974666663\",\"16784897.1\",\"1980720.908269972\",\"747920.0069191175\",\"3350083.1934470586\",\"1318969.9274137933\",\"950294.8571021509\",\"3467137.7899038466\",\"3300264.525210084\",\"8843883.480771245\",\"6750726.324873096\",\"2332527.9\",\"1541798.81116\",\"7279704.277777778\",\"134491.76710684274\",\"346658.7300294118\",\"Issues missing\",\"1805533.4\",\"5416660.542429188\",\"14766849.694194756\",\"6699475.030000001\",\"968048.6223300971\",\"1275150.7811744187\",\"459950.6767878788\",\"2026989.1019736845\",\"2337116.0478026313\",\"1882096.3603880606\",\"893649.1321401881\",\"3399857.8829481476\",\"3646513.6635942035\",\"137932.09630188678\",\"1102097.0148664808\",\"Issues missing\",\"25025814.591078702\",\"11605642.9375\",\"84262.0\",\"4928680.0959913805\",\"17145295.379666667\",\"17886872.34138368\",\"23168823.115942027\",\"Issues missing\",\"5806070.629273417\",\"973964.6311881188\",\"Issues missing\",\"1025551.7056\",\"1092952.5366726296\",\"Issues missing\",\"9228386.34092171\",\"Issues missing\",\"Issues missing\",\"Issues missing\",\"Issues missing\",\"Issues missing\",\"Issues missing\",\"Issues missing\",\"Issues missing\",\"Issues missing\",\"Issues missing\",\"Issues missing\",\"Issues missing\",\"Issues missing\",\"Issues missing\",\"2133789.239591516\",\"Issues missing\",\"11618259.974489795\",\"Issues missing\",\"1342959.747826087\"],\"yaxis\":\"y\",\"type\":\"scatter\"}],                        {\"template\":{\"data\":{\"histogram2dcontour\":[{\"type\":\"histogram2dcontour\",\"colorbar\":{\"outlinewidth\":0,\"ticks\":\"\"},\"colorscale\":[[0.0,\"#0d0887\"],[0.1111111111111111,\"#46039f\"],[0.2222222222222222,\"#7201a8\"],[0.3333333333333333,\"#9c179e\"],[0.4444444444444444,\"#bd3786\"],[0.5555555555555556,\"#d8576b\"],[0.6666666666666666,\"#ed7953\"],[0.7777777777777778,\"#fb9f3a\"],[0.8888888888888888,\"#fdca26\"],[1.0,\"#f0f921\"]]}],\"choropleth\":[{\"type\":\"choropleth\",\"colorbar\":{\"outlinewidth\":0,\"ticks\":\"\"}}],\"histogram2d\":[{\"type\":\"histogram2d\",\"colorbar\":{\"outlinewidth\":0,\"ticks\":\"\"},\"colorscale\":[[0.0,\"#0d0887\"],[0.1111111111111111,\"#46039f\"],[0.2222222222222222,\"#7201a8\"],[0.3333333333333333,\"#9c179e\"],[0.4444444444444444,\"#bd3786\"],[0.5555555555555556,\"#d8576b\"],[0.6666666666666666,\"#ed7953\"],[0.7777777777777778,\"#fb9f3a\"],[0.8888888888888888,\"#fdca26\"],[1.0,\"#f0f921\"]]}],\"heatmap\":[{\"type\":\"heatmap\",\"colorbar\":{\"outlinewidth\":0,\"ticks\":\"\"},\"colorscale\":[[0.0,\"#0d0887\"],[0.1111111111111111,\"#46039f\"],[0.2222222222222222,\"#7201a8\"],[0.3333333333333333,\"#9c179e\"],[0.4444444444444444,\"#bd3786\"],[0.5555555555555556,\"#d8576b\"],[0.6666666666666666,\"#ed7953\"],[0.7777777777777778,\"#fb9f3a\"],[0.8888888888888888,\"#fdca26\"],[1.0,\"#f0f921\"]]}],\"heatmapgl\":[{\"type\":\"heatmapgl\",\"colorbar\":{\"outlinewidth\":0,\"ticks\":\"\"},\"colorscale\":[[0.0,\"#0d0887\"],[0.1111111111111111,\"#46039f\"],[0.2222222222222222,\"#7201a8\"],[0.3333333333333333,\"#9c179e\"],[0.4444444444444444,\"#bd3786\"],[0.5555555555555556,\"#d8576b\"],[0.6666666666666666,\"#ed7953\"],[0.7777777777777778,\"#fb9f3a\"],[0.8888888888888888,\"#fdca26\"],[1.0,\"#f0f921\"]]}],\"contourcarpet\":[{\"type\":\"contourcarpet\",\"colorbar\":{\"outlinewidth\":0,\"ticks\":\"\"}}],\"contour\":[{\"type\":\"contour\",\"colorbar\":{\"outlinewidth\":0,\"ticks\":\"\"},\"colorscale\":[[0.0,\"#0d0887\"],[0.1111111111111111,\"#46039f\"],[0.2222222222222222,\"#7201a8\"],[0.3333333333333333,\"#9c179e\"],[0.4444444444444444,\"#bd3786\"],[0.5555555555555556,\"#d8576b\"],[0.6666666666666666,\"#ed7953\"],[0.7777777777777778,\"#fb9f3a\"],[0.8888888888888888,\"#fdca26\"],[1.0,\"#f0f921\"]]}],\"surface\":[{\"type\":\"surface\",\"colorbar\":{\"outlinewidth\":0,\"ticks\":\"\"},\"colorscale\":[[0.0,\"#0d0887\"],[0.1111111111111111,\"#46039f\"],[0.2222222222222222,\"#7201a8\"],[0.3333333333333333,\"#9c179e\"],[0.4444444444444444,\"#bd3786\"],[0.5555555555555556,\"#d8576b\"],[0.6666666666666666,\"#ed7953\"],[0.7777777777777778,\"#fb9f3a\"],[0.8888888888888888,\"#fdca26\"],[1.0,\"#f0f921\"]]}],\"mesh3d\":[{\"type\":\"mesh3d\",\"colorbar\":{\"outlinewidth\":0,\"ticks\":\"\"}}],\"scatter\":[{\"fillpattern\":{\"fillmode\":\"overlay\",\"size\":10,\"solidity\":0.2},\"type\":\"scatter\"}],\"parcoords\":[{\"type\":\"parcoords\",\"line\":{\"colorbar\":{\"outlinewidth\":0,\"ticks\":\"\"}}}],\"scatterpolargl\":[{\"type\":\"scatterpolargl\",\"marker\":{\"colorbar\":{\"outlinewidth\":0,\"ticks\":\"\"}}}],\"bar\":[{\"error_x\":{\"color\":\"#2a3f5f\"},\"error_y\":{\"color\":\"#2a3f5f\"},\"marker\":{\"line\":{\"color\":\"#E5ECF6\",\"width\":0.5},\"pattern\":{\"fillmode\":\"overlay\",\"size\":10,\"solidity\":0.2}},\"type\":\"bar\"}],\"scattergeo\":[{\"type\":\"scattergeo\",\"marker\":{\"colorbar\":{\"outlinewidth\":0,\"ticks\":\"\"}}}],\"scatterpolar\":[{\"type\":\"scatterpolar\",\"marker\":{\"colorbar\":{\"outlinewidth\":0,\"ticks\":\"\"}}}],\"histogram\":[{\"marker\":{\"pattern\":{\"fillmode\":\"overlay\",\"size\":10,\"solidity\":0.2}},\"type\":\"histogram\"}],\"scattergl\":[{\"type\":\"scattergl\",\"marker\":{\"colorbar\":{\"outlinewidth\":0,\"ticks\":\"\"}}}],\"scatter3d\":[{\"type\":\"scatter3d\",\"line\":{\"colorbar\":{\"outlinewidth\":0,\"ticks\":\"\"}},\"marker\":{\"colorbar\":{\"outlinewidth\":0,\"ticks\":\"\"}}}],\"scattermapbox\":[{\"type\":\"scattermapbox\",\"marker\":{\"colorbar\":{\"outlinewidth\":0,\"ticks\":\"\"}}}],\"scatterternary\":[{\"type\":\"scatterternary\",\"marker\":{\"colorbar\":{\"outlinewidth\":0,\"ticks\":\"\"}}}],\"scattercarpet\":[{\"type\":\"scattercarpet\",\"marker\":{\"colorbar\":{\"outlinewidth\":0,\"ticks\":\"\"}}}],\"carpet\":[{\"aaxis\":{\"endlinecolor\":\"#2a3f5f\",\"gridcolor\":\"white\",\"linecolor\":\"white\",\"minorgridcolor\":\"white\",\"startlinecolor\":\"#2a3f5f\"},\"baxis\":{\"endlinecolor\":\"#2a3f5f\",\"gridcolor\":\"white\",\"linecolor\":\"white\",\"minorgridcolor\":\"white\",\"startlinecolor\":\"#2a3f5f\"},\"type\":\"carpet\"}],\"table\":[{\"cells\":{\"fill\":{\"color\":\"#EBF0F8\"},\"line\":{\"color\":\"white\"}},\"header\":{\"fill\":{\"color\":\"#C8D4E3\"},\"line\":{\"color\":\"white\"}},\"type\":\"table\"}],\"barpolar\":[{\"marker\":{\"line\":{\"color\":\"#E5ECF6\",\"width\":0.5},\"pattern\":{\"fillmode\":\"overlay\",\"size\":10,\"solidity\":0.2}},\"type\":\"barpolar\"}],\"pie\":[{\"automargin\":true,\"type\":\"pie\"}]},\"layout\":{\"autotypenumbers\":\"strict\",\"colorway\":[\"#636efa\",\"#EF553B\",\"#00cc96\",\"#ab63fa\",\"#FFA15A\",\"#19d3f3\",\"#FF6692\",\"#B6E880\",\"#FF97FF\",\"#FECB52\"],\"font\":{\"color\":\"#2a3f5f\"},\"hovermode\":\"closest\",\"hoverlabel\":{\"align\":\"left\"},\"paper_bgcolor\":\"white\",\"plot_bgcolor\":\"#E5ECF6\",\"polar\":{\"bgcolor\":\"#E5ECF6\",\"angularaxis\":{\"gridcolor\":\"white\",\"linecolor\":\"white\",\"ticks\":\"\"},\"radialaxis\":{\"gridcolor\":\"white\",\"linecolor\":\"white\",\"ticks\":\"\"}},\"ternary\":{\"bgcolor\":\"#E5ECF6\",\"aaxis\":{\"gridcolor\":\"white\",\"linecolor\":\"white\",\"ticks\":\"\"},\"baxis\":{\"gridcolor\":\"white\",\"linecolor\":\"white\",\"ticks\":\"\"},\"caxis\":{\"gridcolor\":\"white\",\"linecolor\":\"white\",\"ticks\":\"\"}},\"coloraxis\":{\"colorbar\":{\"outlinewidth\":0,\"ticks\":\"\"}},\"colorscale\":{\"sequential\":[[0.0,\"#0d0887\"],[0.1111111111111111,\"#46039f\"],[0.2222222222222222,\"#7201a8\"],[0.3333333333333333,\"#9c179e\"],[0.4444444444444444,\"#bd3786\"],[0.5555555555555556,\"#d8576b\"],[0.6666666666666666,\"#ed7953\"],[0.7777777777777778,\"#fb9f3a\"],[0.8888888888888888,\"#fdca26\"],[1.0,\"#f0f921\"]],\"sequentialminus\":[[0.0,\"#0d0887\"],[0.1111111111111111,\"#46039f\"],[0.2222222222222222,\"#7201a8\"],[0.3333333333333333,\"#9c179e\"],[0.4444444444444444,\"#bd3786\"],[0.5555555555555556,\"#d8576b\"],[0.6666666666666666,\"#ed7953\"],[0.7777777777777778,\"#fb9f3a\"],[0.8888888888888888,\"#fdca26\"],[1.0,\"#f0f921\"]],\"diverging\":[[0,\"#8e0152\"],[0.1,\"#c51b7d\"],[0.2,\"#de77ae\"],[0.3,\"#f1b6da\"],[0.4,\"#fde0ef\"],[0.5,\"#f7f7f7\"],[0.6,\"#e6f5d0\"],[0.7,\"#b8e186\"],[0.8,\"#7fbc41\"],[0.9,\"#4d9221\"],[1,\"#276419\"]]},\"xaxis\":{\"gridcolor\":\"white\",\"linecolor\":\"white\",\"ticks\":\"\",\"title\":{\"standoff\":15},\"zerolinecolor\":\"white\",\"automargin\":true,\"zerolinewidth\":2},\"yaxis\":{\"gridcolor\":\"white\",\"linecolor\":\"white\",\"ticks\":\"\",\"title\":{\"standoff\":15},\"zerolinecolor\":\"white\",\"automargin\":true,\"zerolinewidth\":2},\"scene\":{\"xaxis\":{\"backgroundcolor\":\"#E5ECF6\",\"gridcolor\":\"white\",\"linecolor\":\"white\",\"showbackground\":true,\"ticks\":\"\",\"zerolinecolor\":\"white\",\"gridwidth\":2},\"yaxis\":{\"backgroundcolor\":\"#E5ECF6\",\"gridcolor\":\"white\",\"linecolor\":\"white\",\"showbackground\":true,\"ticks\":\"\",\"zerolinecolor\":\"white\",\"gridwidth\":2},\"zaxis\":{\"backgroundcolor\":\"#E5ECF6\",\"gridcolor\":\"white\",\"linecolor\":\"white\",\"showbackground\":true,\"ticks\":\"\",\"zerolinecolor\":\"white\",\"gridwidth\":2}},\"shapedefaults\":{\"line\":{\"color\":\"#2a3f5f\"}},\"annotationdefaults\":{\"arrowcolor\":\"#2a3f5f\",\"arrowhead\":0,\"arrowwidth\":1},\"geo\":{\"bgcolor\":\"white\",\"landcolor\":\"#E5ECF6\",\"subunitcolor\":\"white\",\"showland\":true,\"showlakes\":true,\"lakecolor\":\"white\"},\"title\":{\"x\":0.05},\"mapbox\":{\"style\":\"light\"}}},\"xaxis\":{\"anchor\":\"y\",\"domain\":[0.0,1.0],\"title\":{\"text\":\"Projects Age\"}},\"yaxis\":{\"anchor\":\"x\",\"domain\":[0.0,1.0],\"title\":{\"text\":\"COM-1 Metric\"}},\"coloraxis\":{\"colorbar\":{\"title\":{\"text\":\"outlier\"}},\"colorscale\":[[0.0,\"#0d0887\"],[0.1111111111111111,\"#46039f\"],[0.2222222222222222,\"#7201a8\"],[0.3333333333333333,\"#9c179e\"],[0.4444444444444444,\"#bd3786\"],[0.5555555555555556,\"#d8576b\"],[0.6666666666666666,\"#ed7953\"],[0.7777777777777778,\"#fb9f3a\"],[0.8888888888888888,\"#fdca26\"],[1.0,\"#f0f921\"]]},\"legend\":{\"tracegroupgap\":0},\"title\":{\"text\":\"Outlier Visualization with Isolation Forest\"}},                        {\"responsive\": true}                    ).then(function(){\n",
              "                            \n",
              "var gd = document.getElementById('aa9b9178-77bf-493b-abd8-fca212dff56a');\n",
              "var x = new MutationObserver(function (mutations, observer) {{\n",
              "        var display = window.getComputedStyle(gd).display;\n",
              "        if (!display || display === 'none') {{\n",
              "            console.log([gd, 'removed!']);\n",
              "            Plotly.purge(gd);\n",
              "            observer.disconnect();\n",
              "        }}\n",
              "}});\n",
              "\n",
              "// Listen for the removal of the full notebook cells\n",
              "var notebookContainer = gd.closest('#notebook-container');\n",
              "if (notebookContainer) {{\n",
              "    x.observe(notebookContainer, {childList: true});\n",
              "}}\n",
              "\n",
              "// Listen for the clearing of the current output cell\n",
              "var outputEl = gd.closest('.output');\n",
              "if (outputEl) {{\n",
              "    x.observe(outputEl, {childList: true});\n",
              "}}\n",
              "\n",
              "                        })                };                            </script>        </div>\n",
              "</body>\n",
              "</html>"
            ]
          },
          "metadata": {},
          "output_type": "display_data"
        }
      ],
      "source": [
        "\n",
        "\n",
        "model = IsolationForest(n_estimators=100, contamination='auto', random_state=42)\n",
        "df_all_Wo_Nan = df_all.dropna().select_dtypes(include=np.number)\n",
        "model.fit(df_all_Wo_Nan)\n",
        "\n",
        "outliers = model.predict(df_all.select_dtypes(include=np.number).fillna(df_all.select_dtypes(include=np.number).mean()))\n",
        "\n",
        "df_all['outlier'] = outliers\n",
        "\n",
        "fig = px.scatter(df_all, x='STA-1', y='COM-1', color='outlier',\n",
        "                 title=\"Outlier Visualization with Isolation Forest\",\n",
        "                 labels={'STA-1': 'Projects Age', 'COM-1': 'COM-1 Metric'},\n",
        "                 color_discrete_map={-1: 'red', 1: 'blue'})\n",
        "fig.show()"
      ]
    },
    {
      "cell_type": "code",
      "execution_count": null,
      "metadata": {
        "colab": {
          "base_uri": "https://localhost:8080/"
        },
        "id": "-cEjUfhQtzCp",
        "outputId": "527f0961-bde3-422b-d511-e9f6b803bf06"
      },
      "outputs": [
        {
          "name": "stdout",
          "output_type": "stream",
          "text": [
            "25\n"
          ]
        }
      ],
      "source": [
        "print(len(df_all[outliers == -1]))"
      ]
    },
    {
      "cell_type": "markdown",
      "metadata": {
        "id": "0SHVJSietTlw"
      },
      "source": [
        "## Local Outlier Factor\n",
        "\n",
        "[LOF example](https://scikit-learn.org/stable/auto_examples/neighbors/plot_lof_outlier_detection.html#sphx-glr-auto-examples-neighbors-plot-lof-outlier-detection-py)<br>\n",
        "[LOF documentation](https://scikit-learn.org/stable/modules/generated/sklearn.neighbors.LocalOutlierFactor.html#sklearn.neighbors.LocalOutlierFactor)"
      ]
    },
    {
      "cell_type": "code",
      "execution_count": null,
      "metadata": {
        "id": "IZK__B3ltdPJ"
      },
      "outputs": [],
      "source": [
        "clf = LocalOutlierFactor(n_neighbors=20, contamination=0.1)\n",
        "y_pred = clf.fit_predict(df_all_Wo_Nan)\n",
        "X_scores = clf.negative_outlier_factor_"
      ]
    },
    {
      "cell_type": "code",
      "execution_count": null,
      "metadata": {
        "colab": {
          "base_uri": "https://localhost:8080/",
          "height": 472
        },
        "id": "-bUJWpn_zCgY",
        "outputId": "23272671-8730-4ea3-f21c-422bd1a04a8b"
      },
      "outputs": [
        {
          "data": {
            "image/png": "[encoded data removed]",
            "text/plain": [
              "<Figure size 640x480 with 2 Axes>"
            ]
          },
          "metadata": {},
          "output_type": "display_data"
        }
      ],
      "source": [
        "\n",
        "# Plot the data points with outlier score colored\n",
        "plt.scatter(df_all_Wo_Nan.iloc[:, 0], df_all_Wo_Nan.iloc[:, 1], c=X_scores, cmap='viridis')\n",
        "plt.colorbar(label='Outlier Score')\n",
        "\n",
        "# Highlight outliers\n",
        "outlier_indices = X_scores < -2\n",
        "plt.scatter(df_all_Wo_Nan.iloc[outlier_indices, 0], df_all_Wo_Nan.iloc[outlier_indices, 1],\n",
        "            marker='x', color='red', s=100, label='Outliers')\n",
        "\n",
        "plt.xlabel(df_all_Wo_Nan.columns[0])\n",
        "plt.ylabel(df_all_Wo_Nan.columns[1])\n",
        "plt.title('Outlier Visualization with Local Outlier Factor')\n",
        "plt.legend()\n",
        "plt.show()"
      ]
    },
    {
      "cell_type": "code",
      "execution_count": null,
      "metadata": {
        "colab": {
          "base_uri": "https://localhost:8080/"
        },
        "id": "M9h5gIcuzK6g",
        "outputId": "4073d382-e03c-4e48-d94f-5471c510e87f"
      },
      "outputs": [
        {
          "name": "stdout",
          "output_type": "stream",
          "text": [
            "   project               COM-1 COM-3  POP-4  STA-1 STA-2 STA-4 STA-5  STA-6  \\\n",
            "17    beam  11782722.634169074  4666  19564    9.0   116  4198   415     36   \n",
            "\n",
            "    STA-7  ... SWQ-4.4 SWQ-4.5    SWQ-4.6 SWQ-4.7        init         end  \\\n",
            "17  False  ...      79     149  12.888702    2003  2016-02-01  2016-12-21   \n",
            "\n",
            "   frequency (weeks)                     project_url     status  outlier  \n",
            "17                12  https://github.com/apache/beam  graduated       -1  \n",
            "\n",
            "[1 rows x 32 columns]\n"
          ]
        }
      ],
      "source": [
        "print(df_all[df_all['STA-6']>30])"
      ]
    }
  ],
  "metadata": {
    "colab": {
      "include_colab_link": true,
      "provenance": []
    },
    "kernelspec": {
      "display_name": "Python 3",
      "name": "python3"
    },
    "language_info": {
      "name": "python"
    }
  },
  "nbformat": 4,
  "nbformat_minor": 0
}
